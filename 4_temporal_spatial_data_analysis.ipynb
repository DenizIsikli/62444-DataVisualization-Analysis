{
 "cells": [
  {
   "attachments": {},
   "cell_type": "markdown",
   "metadata": {},
   "source": [
    "# Project 1: Analysis and Forecasting of NYC Taxi Rides"
   ]
  },
  {
   "cell_type": "code",
   "execution_count": 1,
   "metadata": {
    "ExecuteTime": {
     "end_time": "2024-01-16T10:18:08.317594800Z",
     "start_time": "2024-01-16T10:18:08.267550800Z"
    }
   },
   "outputs": [],
   "source": [
    "# The code makes sure that once there is change in the 'src/' folder, the \n",
    "# change will be automatically reloaded in the notebook.\n",
    "%reload_ext autoreload\n",
    "%autoreload 2\n",
    "%aimport src"
   ]
  },
  {
   "attachments": {},
   "cell_type": "markdown",
   "metadata": {},
   "source": [
    "### Task 1: Understanding the Data\n",
    "\n",
    "Yellow and green taxi trip records include fields capturing \n",
    "- pick-up and drop-off dates/times\n",
    "- pick-up and drop-off locations\n",
    "- trip distances\n",
    "- itemized fares\n",
    "- rate types\n",
    "- payment types\n",
    "- driver-reported passenger counts \n",
    "  \n",
    "The data used in the attached datasets were collected and provided to the NYC Taxi and Limousine Commission (TLC) by technology providers authorized under the Taxicab & Livery Passenger Enhancement Programs (TPEP/LPEP). The trip data was not created by the TLC, and TLC makes no representations as to the accuracy of these data.\n",
    "\n",
    "**Remark**: Feel free to change the *months* and *year* in the code below, if you need more/less data. "
   ]
  },
  {
   "cell_type": "code",
   "execution_count": 2,
   "metadata": {
    "ExecuteTime": {
     "end_time": "2024-01-16T10:18:16.550328800Z",
     "start_time": "2024-01-16T10:18:08.320101900Z"
    }
   },
   "outputs": [],
   "source": [
    "import pandas as pd\n",
    "from src.utils import load_data_from_google_drive\n",
    "\n",
    "# Define the base URLs for the yellow and green taxi data\n",
    "base_url_yellow = \"https://d37ci6vzurychx.cloudfront.net/trip-data/yellow_tripdata_{year}-{month}.parquet\"\n",
    "base_url_green = \"https://d37ci6vzurychx.cloudfront.net/trip-data/green_tripdata_{year}-{month}.parquet\"\n",
    "zones_url = 'https://drive.google.com/file/d/12VgjWXkyEBsxzuKFxIkAevEbao85ei0T/view?usp=sharing'\n",
    "\n",
    "# Define the months and year you're interested in\n",
    "months = ['01', '02', '03']\n",
    "year = '2023'\n",
    "\n",
    "# Create empty lists to store the dataframes\n",
    "df_yellow_list = []\n",
    "df_green_list = []\n",
    "\n",
    "# Loop over the months\n",
    "for month in months:\n",
    "    # Create the full URL for the yellow and green taxi data\n",
    "    dfy = pd.read_parquet(base_url_yellow.format(year=year, month=month))\n",
    "    dfg = pd.read_parquet(base_url_green.format(year=year, month=month))\n",
    "    \n",
    "    # Download the data and append it to the list\n",
    "    df_yellow_list.append(dfy)\n",
    "    df_green_list.append(dfg)\n",
    "\n",
    "# Concatenate the list of dataframes into a single dataframe\n",
    "df_yellow = pd.concat(df_yellow_list)\n",
    "df_green = pd.concat(df_green_list)\n",
    "\n",
    "df_zones = load_data_from_google_drive(url=zones_url)"
   ]
  },
  {
   "cell_type": "code",
   "execution_count": 2,
   "metadata": {
    "ExecuteTime": {
     "end_time": "2024-01-16T09:26:26.239173100Z",
     "start_time": "2024-01-16T09:26:26.180228100Z"
    }
   },
   "outputs": [
    {
     "data": {
      "text/plain": "   VendorID tpep_pickup_datetime tpep_dropoff_datetime  passenger_count  \\\n0         2  2023-01-01 00:32:10   2023-01-01 00:40:36              1.0   \n1         2  2023-01-01 00:55:08   2023-01-01 01:01:27              1.0   \n2         2  2023-01-01 00:25:04   2023-01-01 00:37:49              1.0   \n3         1  2023-01-01 00:03:48   2023-01-01 00:13:25              0.0   \n4         2  2023-01-01 00:10:29   2023-01-01 00:21:19              1.0   \n\n   trip_distance  RatecodeID store_and_fwd_flag  PULocationID  DOLocationID  \\\n0           0.97         1.0                  N           161           141   \n1           1.10         1.0                  N            43           237   \n2           2.51         1.0                  N            48           238   \n3           1.90         1.0                  N           138             7   \n4           1.43         1.0                  N           107            79   \n\n   payment_type  fare_amount  extra  mta_tax  tip_amount  tolls_amount  \\\n0             2          9.3   1.00      0.5        0.00           0.0   \n1             1          7.9   1.00      0.5        4.00           0.0   \n2             1         14.9   1.00      0.5       15.00           0.0   \n3             1         12.1   7.25      0.5        0.00           0.0   \n4             1         11.4   1.00      0.5        3.28           0.0   \n\n   improvement_surcharge  total_amount  congestion_surcharge  airport_fee  \\\n0                    1.0         14.30                   2.5         0.00   \n1                    1.0         16.90                   2.5         0.00   \n2                    1.0         34.90                   2.5         0.00   \n3                    1.0         20.85                   0.0         1.25   \n4                    1.0         19.68                   2.5         0.00   \n\n   Airport_fee  \n0          NaN  \n1          NaN  \n2          NaN  \n3          NaN  \n4          NaN  ",
      "text/html": "<div>\n<style scoped>\n    .dataframe tbody tr th:only-of-type {\n        vertical-align: middle;\n    }\n\n    .dataframe tbody tr th {\n        vertical-align: top;\n    }\n\n    .dataframe thead th {\n        text-align: right;\n    }\n</style>\n<table border=\"1\" class=\"dataframe\">\n  <thead>\n    <tr style=\"text-align: right;\">\n      <th></th>\n      <th>VendorID</th>\n      <th>tpep_pickup_datetime</th>\n      <th>tpep_dropoff_datetime</th>\n      <th>passenger_count</th>\n      <th>trip_distance</th>\n      <th>RatecodeID</th>\n      <th>store_and_fwd_flag</th>\n      <th>PULocationID</th>\n      <th>DOLocationID</th>\n      <th>payment_type</th>\n      <th>fare_amount</th>\n      <th>extra</th>\n      <th>mta_tax</th>\n      <th>tip_amount</th>\n      <th>tolls_amount</th>\n      <th>improvement_surcharge</th>\n      <th>total_amount</th>\n      <th>congestion_surcharge</th>\n      <th>airport_fee</th>\n      <th>Airport_fee</th>\n    </tr>\n  </thead>\n  <tbody>\n    <tr>\n      <th>0</th>\n      <td>2</td>\n      <td>2023-01-01 00:32:10</td>\n      <td>2023-01-01 00:40:36</td>\n      <td>1.0</td>\n      <td>0.97</td>\n      <td>1.0</td>\n      <td>N</td>\n      <td>161</td>\n      <td>141</td>\n      <td>2</td>\n      <td>9.3</td>\n      <td>1.00</td>\n      <td>0.5</td>\n      <td>0.00</td>\n      <td>0.0</td>\n      <td>1.0</td>\n      <td>14.30</td>\n      <td>2.5</td>\n      <td>0.00</td>\n      <td>NaN</td>\n    </tr>\n    <tr>\n      <th>1</th>\n      <td>2</td>\n      <td>2023-01-01 00:55:08</td>\n      <td>2023-01-01 01:01:27</td>\n      <td>1.0</td>\n      <td>1.10</td>\n      <td>1.0</td>\n      <td>N</td>\n      <td>43</td>\n      <td>237</td>\n      <td>1</td>\n      <td>7.9</td>\n      <td>1.00</td>\n      <td>0.5</td>\n      <td>4.00</td>\n      <td>0.0</td>\n      <td>1.0</td>\n      <td>16.90</td>\n      <td>2.5</td>\n      <td>0.00</td>\n      <td>NaN</td>\n    </tr>\n    <tr>\n      <th>2</th>\n      <td>2</td>\n      <td>2023-01-01 00:25:04</td>\n      <td>2023-01-01 00:37:49</td>\n      <td>1.0</td>\n      <td>2.51</td>\n      <td>1.0</td>\n      <td>N</td>\n      <td>48</td>\n      <td>238</td>\n      <td>1</td>\n      <td>14.9</td>\n      <td>1.00</td>\n      <td>0.5</td>\n      <td>15.00</td>\n      <td>0.0</td>\n      <td>1.0</td>\n      <td>34.90</td>\n      <td>2.5</td>\n      <td>0.00</td>\n      <td>NaN</td>\n    </tr>\n    <tr>\n      <th>3</th>\n      <td>1</td>\n      <td>2023-01-01 00:03:48</td>\n      <td>2023-01-01 00:13:25</td>\n      <td>0.0</td>\n      <td>1.90</td>\n      <td>1.0</td>\n      <td>N</td>\n      <td>138</td>\n      <td>7</td>\n      <td>1</td>\n      <td>12.1</td>\n      <td>7.25</td>\n      <td>0.5</td>\n      <td>0.00</td>\n      <td>0.0</td>\n      <td>1.0</td>\n      <td>20.85</td>\n      <td>0.0</td>\n      <td>1.25</td>\n      <td>NaN</td>\n    </tr>\n    <tr>\n      <th>4</th>\n      <td>2</td>\n      <td>2023-01-01 00:10:29</td>\n      <td>2023-01-01 00:21:19</td>\n      <td>1.0</td>\n      <td>1.43</td>\n      <td>1.0</td>\n      <td>N</td>\n      <td>107</td>\n      <td>79</td>\n      <td>1</td>\n      <td>11.4</td>\n      <td>1.00</td>\n      <td>0.5</td>\n      <td>3.28</td>\n      <td>0.0</td>\n      <td>1.0</td>\n      <td>19.68</td>\n      <td>2.5</td>\n      <td>0.00</td>\n      <td>NaN</td>\n    </tr>\n  </tbody>\n</table>\n</div>"
     },
     "execution_count": 2,
     "metadata": {},
     "output_type": "execute_result"
    }
   ],
   "source": [
    "df_yellow.head(5)"
   ]
  },
  {
   "cell_type": "code",
   "execution_count": 3,
   "metadata": {
    "ExecuteTime": {
     "end_time": "2024-01-16T09:26:28.930402900Z",
     "start_time": "2024-01-16T09:26:28.903324700Z"
    }
   },
   "outputs": [
    {
     "data": {
      "text/plain": "   VendorID lpep_pickup_datetime lpep_dropoff_datetime store_and_fwd_flag  \\\n0         2  2023-01-01 00:26:10   2023-01-01 00:37:11                  N   \n1         2  2023-01-01 00:51:03   2023-01-01 00:57:49                  N   \n2         2  2023-01-01 00:35:12   2023-01-01 00:41:32                  N   \n3         1  2023-01-01 00:13:14   2023-01-01 00:19:03                  N   \n4         1  2023-01-01 00:33:04   2023-01-01 00:39:02                  N   \n\n   RatecodeID  PULocationID  DOLocationID  passenger_count  trip_distance  \\\n0         1.0           166           143              1.0           2.58   \n1         1.0            24            43              1.0           1.81   \n2         1.0           223           179              1.0           0.00   \n3         1.0            41           238              1.0           1.30   \n4         1.0            41            74              1.0           1.10   \n\n   fare_amount  extra  mta_tax  tip_amount  tolls_amount ehail_fee  \\\n0         14.9    1.0      0.5        4.03           0.0      None   \n1         10.7    1.0      0.5        2.64           0.0      None   \n2          7.2    1.0      0.5        1.94           0.0      None   \n3          6.5    0.5      1.5        1.70           0.0      None   \n4          6.0    0.5      1.5        0.00           0.0      None   \n\n   improvement_surcharge  total_amount  payment_type  trip_type  \\\n0                    1.0         24.18           1.0        1.0   \n1                    1.0         15.84           1.0        1.0   \n2                    1.0         11.64           1.0        1.0   \n3                    1.0         10.20           1.0        1.0   \n4                    1.0          8.00           1.0        1.0   \n\n   congestion_surcharge  \n0                  2.75  \n1                  0.00  \n2                  0.00  \n3                  0.00  \n4                  0.00  ",
      "text/html": "<div>\n<style scoped>\n    .dataframe tbody tr th:only-of-type {\n        vertical-align: middle;\n    }\n\n    .dataframe tbody tr th {\n        vertical-align: top;\n    }\n\n    .dataframe thead th {\n        text-align: right;\n    }\n</style>\n<table border=\"1\" class=\"dataframe\">\n  <thead>\n    <tr style=\"text-align: right;\">\n      <th></th>\n      <th>VendorID</th>\n      <th>lpep_pickup_datetime</th>\n      <th>lpep_dropoff_datetime</th>\n      <th>store_and_fwd_flag</th>\n      <th>RatecodeID</th>\n      <th>PULocationID</th>\n      <th>DOLocationID</th>\n      <th>passenger_count</th>\n      <th>trip_distance</th>\n      <th>fare_amount</th>\n      <th>extra</th>\n      <th>mta_tax</th>\n      <th>tip_amount</th>\n      <th>tolls_amount</th>\n      <th>ehail_fee</th>\n      <th>improvement_surcharge</th>\n      <th>total_amount</th>\n      <th>payment_type</th>\n      <th>trip_type</th>\n      <th>congestion_surcharge</th>\n    </tr>\n  </thead>\n  <tbody>\n    <tr>\n      <th>0</th>\n      <td>2</td>\n      <td>2023-01-01 00:26:10</td>\n      <td>2023-01-01 00:37:11</td>\n      <td>N</td>\n      <td>1.0</td>\n      <td>166</td>\n      <td>143</td>\n      <td>1.0</td>\n      <td>2.58</td>\n      <td>14.9</td>\n      <td>1.0</td>\n      <td>0.5</td>\n      <td>4.03</td>\n      <td>0.0</td>\n      <td>None</td>\n      <td>1.0</td>\n      <td>24.18</td>\n      <td>1.0</td>\n      <td>1.0</td>\n      <td>2.75</td>\n    </tr>\n    <tr>\n      <th>1</th>\n      <td>2</td>\n      <td>2023-01-01 00:51:03</td>\n      <td>2023-01-01 00:57:49</td>\n      <td>N</td>\n      <td>1.0</td>\n      <td>24</td>\n      <td>43</td>\n      <td>1.0</td>\n      <td>1.81</td>\n      <td>10.7</td>\n      <td>1.0</td>\n      <td>0.5</td>\n      <td>2.64</td>\n      <td>0.0</td>\n      <td>None</td>\n      <td>1.0</td>\n      <td>15.84</td>\n      <td>1.0</td>\n      <td>1.0</td>\n      <td>0.00</td>\n    </tr>\n    <tr>\n      <th>2</th>\n      <td>2</td>\n      <td>2023-01-01 00:35:12</td>\n      <td>2023-01-01 00:41:32</td>\n      <td>N</td>\n      <td>1.0</td>\n      <td>223</td>\n      <td>179</td>\n      <td>1.0</td>\n      <td>0.00</td>\n      <td>7.2</td>\n      <td>1.0</td>\n      <td>0.5</td>\n      <td>1.94</td>\n      <td>0.0</td>\n      <td>None</td>\n      <td>1.0</td>\n      <td>11.64</td>\n      <td>1.0</td>\n      <td>1.0</td>\n      <td>0.00</td>\n    </tr>\n    <tr>\n      <th>3</th>\n      <td>1</td>\n      <td>2023-01-01 00:13:14</td>\n      <td>2023-01-01 00:19:03</td>\n      <td>N</td>\n      <td>1.0</td>\n      <td>41</td>\n      <td>238</td>\n      <td>1.0</td>\n      <td>1.30</td>\n      <td>6.5</td>\n      <td>0.5</td>\n      <td>1.5</td>\n      <td>1.70</td>\n      <td>0.0</td>\n      <td>None</td>\n      <td>1.0</td>\n      <td>10.20</td>\n      <td>1.0</td>\n      <td>1.0</td>\n      <td>0.00</td>\n    </tr>\n    <tr>\n      <th>4</th>\n      <td>1</td>\n      <td>2023-01-01 00:33:04</td>\n      <td>2023-01-01 00:39:02</td>\n      <td>N</td>\n      <td>1.0</td>\n      <td>41</td>\n      <td>74</td>\n      <td>1.0</td>\n      <td>1.10</td>\n      <td>6.0</td>\n      <td>0.5</td>\n      <td>1.5</td>\n      <td>0.00</td>\n      <td>0.0</td>\n      <td>None</td>\n      <td>1.0</td>\n      <td>8.00</td>\n      <td>1.0</td>\n      <td>1.0</td>\n      <td>0.00</td>\n    </tr>\n  </tbody>\n</table>\n</div>"
     },
     "execution_count": 3,
     "metadata": {},
     "output_type": "execute_result"
    }
   ],
   "source": [
    "df_green.head(5)"
   ]
  },
  {
   "cell_type": "code",
   "execution_count": 4,
   "metadata": {
    "ExecuteTime": {
     "end_time": "2024-01-16T09:26:33.324257400Z",
     "start_time": "2024-01-16T09:26:31.932644Z"
    }
   },
   "outputs": [
    {
     "data": {
      "text/plain": "<Figure size 700x700 with 1 Axes>",
      "image/png": "[encoded data removed]"
     },
     "metadata": {},
     "output_type": "display_data"
    }
   ],
   "source": [
    "from src.utils import create_scatterplot\n",
    "\n",
    "create_scatterplot(\n",
    "    df_yellow.sample(50), \n",
    "    x_col = 'trip_distance', \n",
    "    y_col = 'fare_amount', \n",
    "    title = 'trip_distance vs fare_amount', \n",
    "    xlabel = 'trip_distance',\n",
    "    ylabel = 'fare_amount',\n",
    ")"
   ]
  },
  {
   "cell_type": "code",
   "outputs": [],
   "source": [],
   "metadata": {
    "collapsed": false
   }
  },
  {
   "attachments": {},
   "cell_type": "markdown",
   "metadata": {},
   "source": [
    "### Task 2: Exploratory Data Analysis\n",
    "Conduct exploratory data analysis to understand the patterns and relationships in the data. This includes analyzing the distribution of trip distances, fares, and passenger counts, as well as the relationship between these variables."
   ]
  },
  {
   "cell_type": "code",
   "execution_count": 18,
   "metadata": {},
   "outputs": [],
   "source": [
    "# Write your code"
   ]
  },
  {
   "attachments": {},
   "cell_type": "markdown",
   "metadata": {},
   "source": [
    "### Task 3: Spatial Analysis\n",
    "Use Kepler.gl (https://kepler.gl/) or similar tools/packages to visualize the spatial patterns of taxi rides. This includes the pickup and dropoff locations, as well as the routes taken. Analyze the spatial patterns to identify hotspots of taxi demand.\n",
    "\n",
    "You can find a good tutorial on https://docs.kepler.gl/docs/keplergl-jupyter#install for how to use it in jupyter notebook with python.\n",
    "\n",
    "**Hint** In order to visualize the pickup/dropoff location geographically, you might need to know the latitude (lat) and longitude (lng) for each location. You can find the corresponding information in the dataframe \"df_zones\"."
   ]
  },
  {
   "cell_type": "code",
   "execution_count": 19,
   "metadata": {},
   "outputs": [
    {
     "data": {
      "text/html": [
       "<div>\n",
       "<style scoped>\n",
       "    .dataframe tbody tr th:only-of-type {\n",
       "        vertical-align: middle;\n",
       "    }\n",
       "\n",
       "    .dataframe tbody tr th {\n",
       "        vertical-align: top;\n",
       "    }\n",
       "\n",
       "    .dataframe thead th {\n",
       "        text-align: right;\n",
       "    }\n",
       "</style>\n",
       "<table border=\"1\" class=\"dataframe\">\n",
       "  <thead>\n",
       "    <tr style=\"text-align: right;\">\n",
       "      <th></th>\n",
       "      <th>Shape_Leng</th>\n",
       "      <th>Shape_Area</th>\n",
       "      <th>zone</th>\n",
       "      <th>LocationID</th>\n",
       "      <th>borough</th>\n",
       "      <th>lat</th>\n",
       "      <th>lng</th>\n",
       "    </tr>\n",
       "  </thead>\n",
       "  <tbody>\n",
       "    <tr>\n",
       "      <th>0</th>\n",
       "      <td>0.116357</td>\n",
       "      <td>0.000782</td>\n",
       "      <td>Newark Airport</td>\n",
       "      <td>1</td>\n",
       "      <td>EWR</td>\n",
       "      <td>40.689516</td>\n",
       "      <td>-74.176786</td>\n",
       "    </tr>\n",
       "    <tr>\n",
       "      <th>1</th>\n",
       "      <td>0.433470</td>\n",
       "      <td>0.004866</td>\n",
       "      <td>Jamaica Bay</td>\n",
       "      <td>2</td>\n",
       "      <td>Queens</td>\n",
       "      <td>40.625724</td>\n",
       "      <td>-73.826126</td>\n",
       "    </tr>\n",
       "    <tr>\n",
       "      <th>2</th>\n",
       "      <td>0.084341</td>\n",
       "      <td>0.000314</td>\n",
       "      <td>Allerton/Pelham Gardens</td>\n",
       "      <td>3</td>\n",
       "      <td>Bronx</td>\n",
       "      <td>40.865888</td>\n",
       "      <td>-73.849479</td>\n",
       "    </tr>\n",
       "    <tr>\n",
       "      <th>3</th>\n",
       "      <td>0.043567</td>\n",
       "      <td>0.000112</td>\n",
       "      <td>Alphabet City</td>\n",
       "      <td>4</td>\n",
       "      <td>Manhattan</td>\n",
       "      <td>40.724152</td>\n",
       "      <td>-73.977023</td>\n",
       "    </tr>\n",
       "    <tr>\n",
       "      <th>4</th>\n",
       "      <td>0.092146</td>\n",
       "      <td>0.000498</td>\n",
       "      <td>Arden Heights</td>\n",
       "      <td>5</td>\n",
       "      <td>Staten Island</td>\n",
       "      <td>40.550340</td>\n",
       "      <td>-74.189930</td>\n",
       "    </tr>\n",
       "  </tbody>\n",
       "</table>\n",
       "</div>"
      ],
      "text/plain": [
       "   Shape_Leng  Shape_Area                     zone  LocationID        borough  \\\n",
       "0    0.116357    0.000782           Newark Airport           1            EWR   \n",
       "1    0.433470    0.004866              Jamaica Bay           2         Queens   \n",
       "2    0.084341    0.000314  Allerton/Pelham Gardens           3          Bronx   \n",
       "3    0.043567    0.000112            Alphabet City           4      Manhattan   \n",
       "4    0.092146    0.000498            Arden Heights           5  Staten Island   \n",
       "\n",
       "         lat        lng  \n",
       "0  40.689516 -74.176786  \n",
       "1  40.625724 -73.826126  \n",
       "2  40.865888 -73.849479  \n",
       "3  40.724152 -73.977023  \n",
       "4  40.550340 -74.189930  "
      ]
     },
     "execution_count": 19,
     "metadata": {},
     "output_type": "execute_result"
    }
   ],
   "source": [
    "df_zones.head(5)"
   ]
  },
  {
   "cell_type": "code",
   "execution_count": 3,
   "metadata": {
    "ExecuteTime": {
     "end_time": "2024-01-10T12:19:21.165551700Z",
     "start_time": "2024-01-10T12:19:12.072982800Z"
    }
   },
   "outputs": [
    {
     "name": "stdout",
     "output_type": "stream",
     "text": [
      "User Guide: https://docs.kepler.gl/docs/keplergl-jupyter\n",
      "User Guide: https://docs.kepler.gl/docs/keplergl-jupyter\n",
      "User Guide: https://docs.kepler.gl/docs/keplergl-jupyter\n",
      "User Guide: https://docs.kepler.gl/docs/keplergl-jupyter\n"
     ]
    },
    {
     "data": {
      "text/plain": "KeplerGl(data={'taxi_yellow_pickup': {'index': [0, 1, 2, 3, 4, 5, 6, 7, 8, 9, 10, 11, 12, 13, 14, 15, 16, 17, …",
      "application/vnd.jupyter.widget-view+json": {
       "version_major": 2,
       "version_minor": 0,
       "model_id": "e1fd9dc8e5574c2f9e6efd70c7811db3"
      }
     },
     "metadata": {},
     "output_type": "display_data"
    }
   ],
   "source": [
    "# Write your code\n",
    "\n",
    "# Remove location out from scope\n",
    "df_yellow_clean = df_yellow[(df_yellow['PULocationID'] <= 263) & (df_yellow['DOLocationID'] <= 263)]\n",
    "df_green_clean = df_green[(df_green['PULocationID'] <= 263) & (df_green['DOLocationID'] <= 263)]\n",
    "\n",
    "# Make new data set to each picture\n",
    "df_yellow_PU = pd.DataFrame()\n",
    "df_yellow_DO = pd.DataFrame()\n",
    "df_green_PU = pd.DataFrame()\n",
    "df_green_DO = pd.DataFrame()\n",
    "\n",
    "# Add the lat and lng from df_yellow and df_green\n",
    "df_yellow_PU = pd.merge(df_yellow_clean, df_zones[['LocationID', 'lat', 'lng']], left_on='PULocationID', right_on='LocationID', how='left')\n",
    "df_yellow_DO = pd.merge(df_yellow_clean, df_zones[['LocationID', 'lat', 'lng']], left_on='DOLocationID', right_on='LocationID', how='left')\n",
    "df_green_PU = pd.merge(df_green_clean, df_zones[['LocationID', 'lat', 'lng']], left_on='PULocationID', right_on='LocationID', how='left')\n",
    "df_green_DO = pd.merge(df_green_clean, df_zones[['LocationID', 'lat', 'lng']], left_on='DOLocationID', right_on='LocationID', how='left')\n",
    "\n",
    "# Remove unused collums\n",
    "columns_to_keep = ['lat', 'lng']\n",
    "df_yellow_PU = df_yellow_PU.loc[:, columns_to_keep]\n",
    "df_yellow_DO = df_yellow_DO.loc[:, columns_to_keep]\n",
    "df_green_PU = df_green_PU.loc[:, columns_to_keep]\n",
    "df_green_DO = df_green_DO.loc[:, columns_to_keep]\n",
    "\n",
    "# Get count of dropoff and pickup to heat map\n",
    "df_yellow_PU = df_yellow_PU.value_counts(sort=False)\n",
    "df_yellow_DO = df_yellow_DO.value_counts(sort=False)\n",
    "df_green_PU = df_green_PU.value_counts(sort=False)\n",
    "df_green_DO = df_green_DO.value_counts(sort=False)\n",
    "\n",
    "# function to sort data into new DataFrame\n",
    "def sortDataWithCount(row):\n",
    "    temp = pd.DataFrame()\n",
    "    for index in range(row.size):\n",
    "        temp.loc[index, ['number', 'lat', 'lng']] = [row.iloc[index], row.index[index][0], row.index[index][1]]\n",
    "    return temp\n",
    "\n",
    "# Create the new column by applying the function to each row\n",
    "df_yellow_PU_final = sortDataWithCount(df_yellow_PU)\n",
    "df_yellow_DO_final = sortDataWithCount(df_yellow_DO)\n",
    "df_green_PU_final = sortDataWithCount(df_green_PU)\n",
    "df_green_DO_final = sortDataWithCount(df_green_DO)\n",
    "\n",
    "# Make empty maps \n",
    "from keplergl import KeplerGl\n",
    "map_yellow_PU = KeplerGl(height=600)\n",
    "map_yellow_DO = KeplerGl(height=600)\n",
    "map_green_PU = KeplerGl(height=600)\n",
    "map_green_DO = KeplerGl(height=600)\n",
    "\n",
    "# Add data to the map\n",
    "map_yellow_PU.add_data(data=df_yellow_PU_final, name='taxi_yellow_pickup')\n",
    "map_yellow_DO.add_data(data=df_yellow_DO_final, name='taxi_yellow_pickup')\n",
    "map_green_PU.add_data(data=df_green_PU_final, name='taxi_yellow_pickup')\n",
    "map_green_DO.add_data(data=df_green_DO_final, name='taxi_yellow_pickup')\n",
    "\n",
    "# Display a map where lighter-colored dots indicate higher activity levels\n",
    "map_yellow_PU\n",
    "#map_yellow_DO\n",
    "#map_green_PU\n",
    "#map_green_DO\n",
    "\n"
   ]
  },
  {
   "attachments": {},
   "cell_type": "markdown",
   "metadata": {},
   "source": [
    "### Task 4: Temporal Analysis\n",
    "Analyze the temporal patterns of taxi rides. This includes the number of rides by time of day, day of the week, and month of the year. Also, analyze the relationship between temporal patterns and other variables, such as trip distance and fare.\n",
    "\n",
    "You can find very good code examples to use on this page https://www.machinelearningplus.com/time-series/time-series-analysis-python/?utm_content=cmp-true"
   ]
  },
  {
   "cell_type": "code",
   "execution_count": 21,
   "metadata": {},
   "outputs": [],
   "source": [
    "# Write your code"
   ]
  },
  {
   "attachments": {},
   "cell_type": "markdown",
   "metadata": {},
   "source": [
    "### Task 5: Time-Series Forecasting\n",
    "Use Prophet or a similar tool to forecast the number of taxi rides in the future, respectively for green and yellow taxis. This includes creating a time-series model, tuning its parameters, and validating its performance. Also, interpret the model's predictions and identify the factors driving the forecasted trends.\n",
    "\n",
    "A good example for using Prophet to do time-series forecasting can be found here https://www.kaggle.com/code/prashant111/tutorial-time-series-forecasting-with-prophet\n",
    "\n",
    "**Hint**: In order to evaluate how your model performs, you need to split the dataset to be train and test. For time-series data, we cannot randomly select the data record (i.e. the rows) to be in train or test. Namely, all training data must be before the earliest test data. In other words, the model is always trained on historical data and then used to forecast the future."
   ]
  },
  {
   "cell_type": "code",
   "execution_count": null,
   "metadata": {
    "is_executing": true,
    "ExecuteTime": {
     "start_time": "2024-01-16T11:24:28.102630Z"
    }
   },
   "outputs": [],
   "source": [
    "import pandas as pd\n",
    "from prophet import Prophet\n",
    "from prophet.diagnostics import cross_validation, performance_metrics\n",
    "from prophet.plot import plot_cross_validation_metric\n",
    "from sklearn.metrics import mean_absolute_error, mean_squared_error\n",
    "import numpy as np\n",
    "\n",
    "# Convert the pickup datetime columns to datetime type\n",
    "df_yellow['ds'] = pd.to_datetime(df_yellow['tpep_pickup_datetime'])\n",
    "df_green['ds'] = pd.to_datetime(df_green['lpep_pickup_datetime'])\n",
    "\n",
    "# Assuming 'trip_distance' is the target variable for prediction\n",
    "df_yellow['y'] = df_yellow['trip_distance']\n",
    "df_green['y'] = df_green['trip_distance']\n",
    "\n",
    "# Fit the models on the training data\n",
    "model_yellow = Prophet(yearly_seasonality=True, weekly_seasonality=False, daily_seasonality=False)\n",
    "model_yellow.fit(df_yellow[['ds', 'y']])\n",
    "\n",
    "model_green = Prophet(yearly_seasonality=True, weekly_seasonality=False, daily_seasonality=False)\n",
    "model_green.fit(df_green[['ds', 'y']])\n",
    "\n",
    "# Create future dataframes for predictions\n",
    "future_yellow = model_yellow.make_future_dataframe(periods=2)  # Predicting the next 2 days\n",
    "future_green = model_green.make_future_dataframe(periods=2)    # Predicting the next 2 days\n",
    "\n",
    "# Make predictions\n",
    "forecast_yellow = model_yellow.predict(future_yellow)\n",
    "forecast_green = model_green.predict(future_green)\n",
    "\n",
    "# Plot the forecasts and components\n",
    "fig1_yellow = model_yellow.plot(forecast_yellow)\n",
    "fig1_yellow.savefig('forecast_yellow.png')\n",
    "\n",
    "fig1_green = model_green.plot(forecast_green)\n",
    "fig1_green.savefig('forecast_green.png')\n",
    "\n",
    "fig2_yellow = model_yellow.plot_components(forecast_yellow)\n",
    "fig2_yellow.savefig('components_yellow.png')\n",
    "\n",
    "fig2_green = model_green.plot_components(forecast_green)\n",
    "fig2_green.savefig('components_green.png')\n",
    "\n",
    "# Evaluate the model performance using MAE and RMSE\n",
    "yellow_mae = mean_absolute_error(df_yellow['y'], forecast_yellow['yhat'])\n",
    "yellow_rmse = np.sqrt(mean_squared_error(df_yellow['y'], forecast_yellow['yhat']))\n",
    "green_mae = mean_absolute_error(df_green['y'], forecast_green['yhat'])\n",
    "green_rmse = np.sqrt(mean_squared_error(df_green['y'], forecast_green['yhat']))\n",
    "\n",
    "# Print MAE and RMSE\n",
    "print(f\"Yellow Taxi MAE: {yellow_mae}, RMSE: {yellow_rmse}\")\n",
    "print(f\"Green Taxi MAE: {green_mae}, RMSE: {green_rmse}\")\n",
    "\n",
    "# Perform and plot cross-validation\n",
    "df_cv_yellow = cross_validation(model_yellow, initial='2 days', period='2 days', horizon='2 days')  # Reduced to 2 days\n",
    "df_p_yellow = performance_metrics(df_cv_yellow)\n",
    "plot_cross_validation_metric(df_cv_yellow, metric='mape')\n",
    "\n",
    "df_cv_green = cross_validation(model_green, initial='2 days', period='2 days', horizon='2 days')  # Reduced to 2 days\n",
    "df_p_green = performance_metrics(df_cv_green)\n",
    "plot_cross_validation_metric(df_cv_green, metric='mape')\n"
   ]
  },
  {
   "attachments": {},
   "cell_type": "markdown",
   "metadata": {},
   "source": [
    "### Task 6: Report and Presentation\n",
    "- Make this project as part of your presentation, **using beamer in LaTeX**. \n",
    "- This includes summarizing your methodology, presenting your results, and discussing your conclusions. Also, identify the limitations of your analysis and suggest areas for future research."
   ]
  },
  {
   "attachments": {},
   "cell_type": "markdown",
   "metadata": {},
   "source": []
  }
 ],
 "metadata": {
  "kernelspec": {
   "display_name": "base",
   "language": "python",
   "name": "python3"
  },
  "language_info": {
   "codemirror_mode": {
    "name": "ipython",
    "version": 3
   },
   "file_extension": ".py",
   "mimetype": "text/x-python",
   "name": "python",
   "nbconvert_exporter": "python",
   "pygments_lexer": "ipython3",
   "version": "3.11.7"
  },
  "orig_nbformat": 4
 },
 "nbformat": 4,
 "nbformat_minor": 2
}
