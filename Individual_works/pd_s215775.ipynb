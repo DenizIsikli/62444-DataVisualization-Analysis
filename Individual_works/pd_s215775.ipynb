{
 "cells": [
  {
   "attachments": {},
   "cell_type": "markdown",
   "metadata": {},
   "source": [
    "# Introduction"
   ]
  },
  {
   "attachments": {},
   "cell_type": "markdown",
   "metadata": {},
   "source": [
    "Hopefully, this short tutorial can show you a lot of different commands that will help you gain the most insights into your dataset. "
   ]
  },
  {
   "cell_type": "code",
   "execution_count": 30,
   "metadata": {
    "collapsed": true
   },
   "outputs": [],
   "source": [
    "import pandas as pd\n",
    "from src.utils import load_data_from_google_drive"
   ]
  },
  {
   "attachments": {},
   "cell_type": "markdown",
   "metadata": {},
   "source": [
    "# Loading in Data"
   ]
  },
  {
   "attachments": {},
   "cell_type": "markdown",
   "metadata": {},
   "source": [
    "The first step in any ML problem is identifying what format your data is in, and then loading it into whatever framework you're using. For Kaggle compeitions, a lot of data can be found in CSV files, so that's the example we're going to use. "
   ]
  },
  {
   "attachments": {},
   "cell_type": "markdown",
   "metadata": {},
   "source": [
    "We're going to be looking at a sports dataset that shows the results from NCAA basketball games from 1985 to 2016. This dataset is in a CSV file, and the function we're going to use to read in the file is called **pd.read_csv()**. This function returns a **dataframe** variable. The dataframe is the golden jewel data structure for Pandas. It is defined as \"a two-dimensional size-mutable, potentially heterogeneous tabular data structure with labeled axes (rows and columns)\"."
   ]
  },
  {
   "attachments": {},
   "cell_type": "markdown",
   "metadata": {},
   "source": [
    "Just think of it as a table for now. "
   ]
  },
  {
   "cell_type": "code",
   "execution_count": 31,
   "metadata": {
    "collapsed": false
   },
   "outputs": [],
   "source": [
    "df = load_data_from_google_drive(url='https://drive.google.com/file/d/184JcLbSpArA_uq0DgAv2k892KChJVPHt/view?usp=share_link')"
   ]
  },
  {
   "cell_type": "code",
   "execution_count": 32,
   "metadata": {},
   "outputs": [
    {
     "data": {
      "text/plain": "        Season  Daynum  Wteam  Wscore  Lteam  Lscore Wloc  Numot\n0         1985      20   1228      81   1328      64    N      0\n1         1985      25   1106      77   1354      70    H      0\n2         1985      25   1112      63   1223      56    H      0\n3         1985      25   1165      70   1432      54    H      0\n4         1985      25   1192      86   1447      74    H      0\n...        ...     ...    ...     ...    ...     ...  ...    ...\n145284    2016     132   1114      70   1419      50    N      0\n145285    2016     132   1163      72   1272      58    N      0\n145286    2016     132   1246      82   1401      77    N      1\n145287    2016     132   1277      66   1345      62    N      0\n145288    2016     132   1386      87   1433      74    N      0\n\n[145289 rows x 8 columns]",
      "text/html": "<div>\n<style scoped>\n    .dataframe tbody tr th:only-of-type {\n        vertical-align: middle;\n    }\n\n    .dataframe tbody tr th {\n        vertical-align: top;\n    }\n\n    .dataframe thead th {\n        text-align: right;\n    }\n</style>\n<table border=\"1\" class=\"dataframe\">\n  <thead>\n    <tr style=\"text-align: right;\">\n      <th></th>\n      <th>Season</th>\n      <th>Daynum</th>\n      <th>Wteam</th>\n      <th>Wscore</th>\n      <th>Lteam</th>\n      <th>Lscore</th>\n      <th>Wloc</th>\n      <th>Numot</th>\n    </tr>\n  </thead>\n  <tbody>\n    <tr>\n      <th>0</th>\n      <td>1985</td>\n      <td>20</td>\n      <td>1228</td>\n      <td>81</td>\n      <td>1328</td>\n      <td>64</td>\n      <td>N</td>\n      <td>0</td>\n    </tr>\n    <tr>\n      <th>1</th>\n      <td>1985</td>\n      <td>25</td>\n      <td>1106</td>\n      <td>77</td>\n      <td>1354</td>\n      <td>70</td>\n      <td>H</td>\n      <td>0</td>\n    </tr>\n    <tr>\n      <th>2</th>\n      <td>1985</td>\n      <td>25</td>\n      <td>1112</td>\n      <td>63</td>\n      <td>1223</td>\n      <td>56</td>\n      <td>H</td>\n      <td>0</td>\n    </tr>\n    <tr>\n      <th>3</th>\n      <td>1985</td>\n      <td>25</td>\n      <td>1165</td>\n      <td>70</td>\n      <td>1432</td>\n      <td>54</td>\n      <td>H</td>\n      <td>0</td>\n    </tr>\n    <tr>\n      <th>4</th>\n      <td>1985</td>\n      <td>25</td>\n      <td>1192</td>\n      <td>86</td>\n      <td>1447</td>\n      <td>74</td>\n      <td>H</td>\n      <td>0</td>\n    </tr>\n    <tr>\n      <th>...</th>\n      <td>...</td>\n      <td>...</td>\n      <td>...</td>\n      <td>...</td>\n      <td>...</td>\n      <td>...</td>\n      <td>...</td>\n      <td>...</td>\n    </tr>\n    <tr>\n      <th>145284</th>\n      <td>2016</td>\n      <td>132</td>\n      <td>1114</td>\n      <td>70</td>\n      <td>1419</td>\n      <td>50</td>\n      <td>N</td>\n      <td>0</td>\n    </tr>\n    <tr>\n      <th>145285</th>\n      <td>2016</td>\n      <td>132</td>\n      <td>1163</td>\n      <td>72</td>\n      <td>1272</td>\n      <td>58</td>\n      <td>N</td>\n      <td>0</td>\n    </tr>\n    <tr>\n      <th>145286</th>\n      <td>2016</td>\n      <td>132</td>\n      <td>1246</td>\n      <td>82</td>\n      <td>1401</td>\n      <td>77</td>\n      <td>N</td>\n      <td>1</td>\n    </tr>\n    <tr>\n      <th>145287</th>\n      <td>2016</td>\n      <td>132</td>\n      <td>1277</td>\n      <td>66</td>\n      <td>1345</td>\n      <td>62</td>\n      <td>N</td>\n      <td>0</td>\n    </tr>\n    <tr>\n      <th>145288</th>\n      <td>2016</td>\n      <td>132</td>\n      <td>1386</td>\n      <td>87</td>\n      <td>1433</td>\n      <td>74</td>\n      <td>N</td>\n      <td>0</td>\n    </tr>\n  </tbody>\n</table>\n<p>145289 rows × 8 columns</p>\n</div>"
     },
     "execution_count": 32,
     "metadata": {},
     "output_type": "execute_result"
    }
   ],
   "source": [
    "df"
   ]
  },
  {
   "attachments": {},
   "cell_type": "markdown",
   "metadata": {},
   "source": [
    "# The Basics"
   ]
  },
  {
   "attachments": {},
   "cell_type": "markdown",
   "metadata": {},
   "source": [
    "Now that we have our dataframe in our variable df, let's look at what it contains. We can use the function **head()** to see the first couple rows of the dataframe (or the function **tail()** to see the last few rows)."
   ]
  },
  {
   "cell_type": "code",
   "execution_count": 33,
   "metadata": {
    "collapsed": false
   },
   "outputs": [
    {
     "data": {
      "text/plain": "   Season  Daynum  Wteam  Wscore  Lteam  Lscore Wloc  Numot\n0    1985      20   1228      81   1328      64    N      0\n1    1985      25   1106      77   1354      70    H      0\n2    1985      25   1112      63   1223      56    H      0\n3    1985      25   1165      70   1432      54    H      0\n4    1985      25   1192      86   1447      74    H      0",
      "text/html": "<div>\n<style scoped>\n    .dataframe tbody tr th:only-of-type {\n        vertical-align: middle;\n    }\n\n    .dataframe tbody tr th {\n        vertical-align: top;\n    }\n\n    .dataframe thead th {\n        text-align: right;\n    }\n</style>\n<table border=\"1\" class=\"dataframe\">\n  <thead>\n    <tr style=\"text-align: right;\">\n      <th></th>\n      <th>Season</th>\n      <th>Daynum</th>\n      <th>Wteam</th>\n      <th>Wscore</th>\n      <th>Lteam</th>\n      <th>Lscore</th>\n      <th>Wloc</th>\n      <th>Numot</th>\n    </tr>\n  </thead>\n  <tbody>\n    <tr>\n      <th>0</th>\n      <td>1985</td>\n      <td>20</td>\n      <td>1228</td>\n      <td>81</td>\n      <td>1328</td>\n      <td>64</td>\n      <td>N</td>\n      <td>0</td>\n    </tr>\n    <tr>\n      <th>1</th>\n      <td>1985</td>\n      <td>25</td>\n      <td>1106</td>\n      <td>77</td>\n      <td>1354</td>\n      <td>70</td>\n      <td>H</td>\n      <td>0</td>\n    </tr>\n    <tr>\n      <th>2</th>\n      <td>1985</td>\n      <td>25</td>\n      <td>1112</td>\n      <td>63</td>\n      <td>1223</td>\n      <td>56</td>\n      <td>H</td>\n      <td>0</td>\n    </tr>\n    <tr>\n      <th>3</th>\n      <td>1985</td>\n      <td>25</td>\n      <td>1165</td>\n      <td>70</td>\n      <td>1432</td>\n      <td>54</td>\n      <td>H</td>\n      <td>0</td>\n    </tr>\n    <tr>\n      <th>4</th>\n      <td>1985</td>\n      <td>25</td>\n      <td>1192</td>\n      <td>86</td>\n      <td>1447</td>\n      <td>74</td>\n      <td>H</td>\n      <td>0</td>\n    </tr>\n  </tbody>\n</table>\n</div>"
     },
     "execution_count": 33,
     "metadata": {},
     "output_type": "execute_result"
    }
   ],
   "source": [
    "df.head()"
   ]
  },
  {
   "cell_type": "code",
   "execution_count": 34,
   "metadata": {
    "collapsed": false
   },
   "outputs": [
    {
     "data": {
      "text/plain": "        Season  Daynum  Wteam  Wscore  Lteam  Lscore Wloc  Numot\n145284    2016     132   1114      70   1419      50    N      0\n145285    2016     132   1163      72   1272      58    N      0\n145286    2016     132   1246      82   1401      77    N      1\n145287    2016     132   1277      66   1345      62    N      0\n145288    2016     132   1386      87   1433      74    N      0",
      "text/html": "<div>\n<style scoped>\n    .dataframe tbody tr th:only-of-type {\n        vertical-align: middle;\n    }\n\n    .dataframe tbody tr th {\n        vertical-align: top;\n    }\n\n    .dataframe thead th {\n        text-align: right;\n    }\n</style>\n<table border=\"1\" class=\"dataframe\">\n  <thead>\n    <tr style=\"text-align: right;\">\n      <th></th>\n      <th>Season</th>\n      <th>Daynum</th>\n      <th>Wteam</th>\n      <th>Wscore</th>\n      <th>Lteam</th>\n      <th>Lscore</th>\n      <th>Wloc</th>\n      <th>Numot</th>\n    </tr>\n  </thead>\n  <tbody>\n    <tr>\n      <th>145284</th>\n      <td>2016</td>\n      <td>132</td>\n      <td>1114</td>\n      <td>70</td>\n      <td>1419</td>\n      <td>50</td>\n      <td>N</td>\n      <td>0</td>\n    </tr>\n    <tr>\n      <th>145285</th>\n      <td>2016</td>\n      <td>132</td>\n      <td>1163</td>\n      <td>72</td>\n      <td>1272</td>\n      <td>58</td>\n      <td>N</td>\n      <td>0</td>\n    </tr>\n    <tr>\n      <th>145286</th>\n      <td>2016</td>\n      <td>132</td>\n      <td>1246</td>\n      <td>82</td>\n      <td>1401</td>\n      <td>77</td>\n      <td>N</td>\n      <td>1</td>\n    </tr>\n    <tr>\n      <th>145287</th>\n      <td>2016</td>\n      <td>132</td>\n      <td>1277</td>\n      <td>66</td>\n      <td>1345</td>\n      <td>62</td>\n      <td>N</td>\n      <td>0</td>\n    </tr>\n    <tr>\n      <th>145288</th>\n      <td>2016</td>\n      <td>132</td>\n      <td>1386</td>\n      <td>87</td>\n      <td>1433</td>\n      <td>74</td>\n      <td>N</td>\n      <td>0</td>\n    </tr>\n  </tbody>\n</table>\n</div>"
     },
     "execution_count": 34,
     "metadata": {},
     "output_type": "execute_result"
    }
   ],
   "source": [
    "df.tail()"
   ]
  },
  {
   "attachments": {},
   "cell_type": "markdown",
   "metadata": {},
   "source": [
    "We can see the dimensions of the dataframe using the the **shape** attribute"
   ]
  },
  {
   "cell_type": "code",
   "execution_count": 35,
   "metadata": {
    "collapsed": false
   },
   "outputs": [
    {
     "data": {
      "text/plain": "(145289, 8)"
     },
     "execution_count": 35,
     "metadata": {},
     "output_type": "execute_result"
    }
   ],
   "source": [
    "df.shape"
   ]
  },
  {
   "attachments": {},
   "cell_type": "markdown",
   "metadata": {
    "collapsed": true
   },
   "source": [
    "We can also extract all the column names as a list, by using the **columns** attribute and can extract the rows with the **index** attribute"
   ]
  },
  {
   "cell_type": "code",
   "execution_count": 36,
   "metadata": {
    "collapsed": false
   },
   "outputs": [
    {
     "data": {
      "text/plain": "['Season', 'Daynum', 'Wteam', 'Wscore', 'Lteam', 'Lscore', 'Wloc', 'Numot']"
     },
     "execution_count": 36,
     "metadata": {},
     "output_type": "execute_result"
    }
   ],
   "source": [
    "df.columns.tolist()"
   ]
  },
  {
   "attachments": {},
   "cell_type": "markdown",
   "metadata": {},
   "source": [
    "In order to get a better idea of the type of data that we are dealing with, we can call the **describe()** function to see statistics like mean, min, etc about each column of the dataset. "
   ]
  },
  {
   "cell_type": "code",
   "execution_count": 37,
   "metadata": {
    "collapsed": false
   },
   "outputs": [
    {
     "data": {
      "text/plain": "              Season         Daynum          Wteam         Wscore  \\\ncount  145289.000000  145289.000000  145289.000000  145289.000000   \nmean     2001.574834      75.223816    1286.720646      76.600321   \nstd         9.233342      33.287418     104.570275      12.173033   \nmin      1985.000000       0.000000    1101.000000      34.000000   \n25%      1994.000000      47.000000    1198.000000      68.000000   \n50%      2002.000000      78.000000    1284.000000      76.000000   \n75%      2010.000000     103.000000    1379.000000      84.000000   \nmax      2016.000000     132.000000    1464.000000     186.000000   \n\n               Lteam         Lscore          Numot  \ncount  145289.000000  145289.000000  145289.000000  \nmean     1282.864064      64.497009       0.044387  \nstd       104.829234      11.380625       0.247819  \nmin      1101.000000      20.000000       0.000000  \n25%      1191.000000      57.000000       0.000000  \n50%      1280.000000      64.000000       0.000000  \n75%      1375.000000      72.000000       0.000000  \nmax      1464.000000     150.000000       6.000000  ",
      "text/html": "<div>\n<style scoped>\n    .dataframe tbody tr th:only-of-type {\n        vertical-align: middle;\n    }\n\n    .dataframe tbody tr th {\n        vertical-align: top;\n    }\n\n    .dataframe thead th {\n        text-align: right;\n    }\n</style>\n<table border=\"1\" class=\"dataframe\">\n  <thead>\n    <tr style=\"text-align: right;\">\n      <th></th>\n      <th>Season</th>\n      <th>Daynum</th>\n      <th>Wteam</th>\n      <th>Wscore</th>\n      <th>Lteam</th>\n      <th>Lscore</th>\n      <th>Numot</th>\n    </tr>\n  </thead>\n  <tbody>\n    <tr>\n      <th>count</th>\n      <td>145289.000000</td>\n      <td>145289.000000</td>\n      <td>145289.000000</td>\n      <td>145289.000000</td>\n      <td>145289.000000</td>\n      <td>145289.000000</td>\n      <td>145289.000000</td>\n    </tr>\n    <tr>\n      <th>mean</th>\n      <td>2001.574834</td>\n      <td>75.223816</td>\n      <td>1286.720646</td>\n      <td>76.600321</td>\n      <td>1282.864064</td>\n      <td>64.497009</td>\n      <td>0.044387</td>\n    </tr>\n    <tr>\n      <th>std</th>\n      <td>9.233342</td>\n      <td>33.287418</td>\n      <td>104.570275</td>\n      <td>12.173033</td>\n      <td>104.829234</td>\n      <td>11.380625</td>\n      <td>0.247819</td>\n    </tr>\n    <tr>\n      <th>min</th>\n      <td>1985.000000</td>\n      <td>0.000000</td>\n      <td>1101.000000</td>\n      <td>34.000000</td>\n      <td>1101.000000</td>\n      <td>20.000000</td>\n      <td>0.000000</td>\n    </tr>\n    <tr>\n      <th>25%</th>\n      <td>1994.000000</td>\n      <td>47.000000</td>\n      <td>1198.000000</td>\n      <td>68.000000</td>\n      <td>1191.000000</td>\n      <td>57.000000</td>\n      <td>0.000000</td>\n    </tr>\n    <tr>\n      <th>50%</th>\n      <td>2002.000000</td>\n      <td>78.000000</td>\n      <td>1284.000000</td>\n      <td>76.000000</td>\n      <td>1280.000000</td>\n      <td>64.000000</td>\n      <td>0.000000</td>\n    </tr>\n    <tr>\n      <th>75%</th>\n      <td>2010.000000</td>\n      <td>103.000000</td>\n      <td>1379.000000</td>\n      <td>84.000000</td>\n      <td>1375.000000</td>\n      <td>72.000000</td>\n      <td>0.000000</td>\n    </tr>\n    <tr>\n      <th>max</th>\n      <td>2016.000000</td>\n      <td>132.000000</td>\n      <td>1464.000000</td>\n      <td>186.000000</td>\n      <td>1464.000000</td>\n      <td>150.000000</td>\n      <td>6.000000</td>\n    </tr>\n  </tbody>\n</table>\n</div>"
     },
     "execution_count": 37,
     "metadata": {},
     "output_type": "execute_result"
    }
   ],
   "source": [
    "df.describe()"
   ]
  },
  {
   "attachments": {},
   "cell_type": "markdown",
   "metadata": {},
   "source": [
    "Okay, so now let's looking at information that we want to extract from the dataframe. Let's say I wanted to know the max value of a certain column. The function **max()** will show you the maximum values of all columns"
   ]
  },
  {
   "cell_type": "code",
   "execution_count": 38,
   "metadata": {
    "collapsed": false
   },
   "outputs": [
    {
     "data": {
      "text/plain": "Season    2016\nDaynum     132\nWteam     1464\nWscore     186\nLteam     1464\nLscore     150\nWloc         N\nNumot        6\ndtype: object"
     },
     "execution_count": 38,
     "metadata": {},
     "output_type": "execute_result"
    }
   ],
   "source": [
    "df.max()"
   ]
  },
  {
   "attachments": {},
   "cell_type": "markdown",
   "metadata": {},
   "source": [
    "Then, if you'd like to specifically get the max value for a particular column, you pass in the name of the column using the bracket indexing operator"
   ]
  },
  {
   "cell_type": "code",
   "execution_count": 39,
   "metadata": {
    "collapsed": false
   },
   "outputs": [
    {
     "data": {
      "text/plain": "186"
     },
     "execution_count": 39,
     "metadata": {},
     "output_type": "execute_result"
    }
   ],
   "source": [
    "df['Wscore'].max()"
   ]
  },
  {
   "attachments": {},
   "cell_type": "markdown",
   "metadata": {},
   "source": [
    "If you'd like to find the mean of the Losing teams' score. "
   ]
  },
  {
   "cell_type": "code",
   "execution_count": 40,
   "metadata": {
    "collapsed": false
   },
   "outputs": [
    {
     "data": {
      "text/plain": "64.49700940883343"
     },
     "execution_count": 40,
     "metadata": {},
     "output_type": "execute_result"
    }
   ],
   "source": [
    "df['Lscore'].mean()"
   ]
  },
  {
   "attachments": {},
   "cell_type": "markdown",
   "metadata": {},
   "source": [
    "But what if that's not enough? Let's say we want to actually see the game(row) where this max score happened. We can call the **argmax()** function to identify the row index"
   ]
  },
  {
   "cell_type": "code",
   "execution_count": 41,
   "metadata": {
    "collapsed": false
   },
   "outputs": [
    {
     "data": {
      "text/plain": "24970"
     },
     "execution_count": 41,
     "metadata": {},
     "output_type": "execute_result"
    }
   ],
   "source": [
    "df['Wscore'].argmax()"
   ]
  },
  {
   "attachments": {},
   "cell_type": "markdown",
   "metadata": {},
   "source": [
    "One of the most useful functions that you can call on certain columns in a dataframe is the **value_counts()** function. It shows how many times each item appears in the column. This particular command shows the number of games in each season"
   ]
  },
  {
   "cell_type": "code",
   "execution_count": 42,
   "metadata": {
    "collapsed": false
   },
   "outputs": [
    {
     "data": {
      "text/plain": "2016    5369\n2014    5362\n2015    5354\n2013    5320\n2010    5263\n2012    5253\n2009    5249\n2011    5246\n2008    5163\n2007    5043\n2006    4757\n2005    4675\n2003    4616\n2004    4571\n2002    4555\n2000    4519\n2001    4467\n1999    4222\n1998    4167\n1997    4155\n1992    4127\n1991    4123\n1996    4122\n1995    4077\n1994    4060\n1990    4045\n1989    4037\n1993    3982\n1988    3955\n1987    3915\n1986    3783\n1985    3737\nName: Season, dtype: int64"
     },
     "execution_count": 42,
     "metadata": {},
     "output_type": "execute_result"
    }
   ],
   "source": [
    "df['Season'].value_counts()"
   ]
  },
  {
   "attachments": {},
   "cell_type": "markdown",
   "metadata": {},
   "source": [
    "**Q**: How many unique seasons are there in the dataset? Use the nunique() function."
   ]
  },
  {
   "cell_type": "code",
   "execution_count": 43,
   "metadata": {},
   "outputs": [
    {
     "data": {
      "text/plain": "32"
     },
     "execution_count": 43,
     "metadata": {},
     "output_type": "execute_result"
    }
   ],
   "source": [
    "# Write your code here\n",
    "unique_seasons = df['Season'].nunique() #Using nunique function on particular column season to find answer\n",
    "unique_seasons #Show answer"
   ]
  },
  {
   "attachments": {},
   "cell_type": "markdown",
   "metadata": {},
   "source": [
    "**Q**: Find the team with the most wins. Use the value_counts() function on the Wteam column."
   ]
  },
  {
   "cell_type": "code",
   "execution_count": 44,
   "metadata": {},
   "outputs": [
    {
     "data": {
      "text/plain": "1181"
     },
     "execution_count": 44,
     "metadata": {},
     "output_type": "execute_result"
    }
   ],
   "source": [
    "# Write your code here\n",
    "most_wins_team = df['Wteam'].value_counts().idxmax() #Use value_counts function on Wteam column with idxmax to find the team with the most wins\n",
    "most_wins_team #Shows index of the team with the most wins"
   ]
  },
  {
   "attachments": {},
   "cell_type": "markdown",
   "metadata": {},
   "source": [
    "# Acessing Values"
   ]
  },
  {
   "attachments": {},
   "cell_type": "markdown",
   "metadata": {},
   "source": [
    "Then, in order to get attributes about the game, we need to use the **iloc[]** function. Iloc is definitely one of the more important functions. The main idea is that you want to use it whenever you have the integer index of a certain row that you want to access. As per Pandas documentation, iloc is an \"integer-location based indexing for selection by position.\""
   ]
  },
  {
   "cell_type": "code",
   "execution_count": 45,
   "metadata": {
    "collapsed": false
   },
   "outputs": [
    {
     "data": {
      "text/plain": "       Season  Daynum  Wteam  Wscore  Lteam  Lscore Wloc  Numot\n24970    1991      68   1258     186   1109     140    H      0",
      "text/html": "<div>\n<style scoped>\n    .dataframe tbody tr th:only-of-type {\n        vertical-align: middle;\n    }\n\n    .dataframe tbody tr th {\n        vertical-align: top;\n    }\n\n    .dataframe thead th {\n        text-align: right;\n    }\n</style>\n<table border=\"1\" class=\"dataframe\">\n  <thead>\n    <tr style=\"text-align: right;\">\n      <th></th>\n      <th>Season</th>\n      <th>Daynum</th>\n      <th>Wteam</th>\n      <th>Wscore</th>\n      <th>Lteam</th>\n      <th>Lscore</th>\n      <th>Wloc</th>\n      <th>Numot</th>\n    </tr>\n  </thead>\n  <tbody>\n    <tr>\n      <th>24970</th>\n      <td>1991</td>\n      <td>68</td>\n      <td>1258</td>\n      <td>186</td>\n      <td>1109</td>\n      <td>140</td>\n      <td>H</td>\n      <td>0</td>\n    </tr>\n  </tbody>\n</table>\n</div>"
     },
     "execution_count": 45,
     "metadata": {},
     "output_type": "execute_result"
    }
   ],
   "source": [
    "df.iloc[[df['Wscore'].argmax()]]"
   ]
  },
  {
   "attachments": {},
   "cell_type": "markdown",
   "metadata": {},
   "source": [
    "Let's take this a step further. Let's say you want to know the game with the highest scoring winning team (this is what we just calculated), but you then want to know how many points the losing team scored. "
   ]
  },
  {
   "cell_type": "code",
   "execution_count": 78,
   "metadata": {
    "collapsed": false
   },
   "outputs": [
    {
     "data": {
      "text/plain": "24970    140\nName: Lscore, dtype: int64"
     },
     "execution_count": 78,
     "metadata": {},
     "output_type": "execute_result"
    }
   ],
   "source": [
    "df.iloc[[df['Wscore'].argmax()]]['Lscore']"
   ]
  },
  {
   "attachments": {},
   "cell_type": "markdown",
   "metadata": {},
   "source": [
    "When you see data displayed in the above format, you're dealing with a Pandas **Series** object, not a dataframe object."
   ]
  },
  {
   "cell_type": "code",
   "execution_count": 47,
   "metadata": {
    "collapsed": false
   },
   "outputs": [
    {
     "data": {
      "text/plain": "pandas.core.series.Series"
     },
     "execution_count": 47,
     "metadata": {},
     "output_type": "execute_result"
    }
   ],
   "source": [
    "type(df.iloc[[df['Wscore'].argmax()]]['Lscore'])"
   ]
  },
  {
   "cell_type": "code",
   "execution_count": 48,
   "metadata": {
    "collapsed": false
   },
   "outputs": [
    {
     "data": {
      "text/plain": "pandas.core.frame.DataFrame"
     },
     "execution_count": 48,
     "metadata": {},
     "output_type": "execute_result"
    }
   ],
   "source": [
    "type(df.iloc[[df['Wscore'].argmax()]])"
   ]
  },
  {
   "attachments": {},
   "cell_type": "markdown",
   "metadata": {},
   "source": [
    "The following is a summary of the 3 data structures in Pandas (Haven't ever really used Panels yet)\n",
    "\n",
    "![](DataStructures.png)"
   ]
  },
  {
   "attachments": {},
   "cell_type": "markdown",
   "metadata": {},
   "source": [
    "When you want to access values in a Series, you'll want to just treat the Series like a Python dictionary, so you'd access the value according to its key (which is normally an integer index)"
   ]
  },
  {
   "cell_type": "code",
   "execution_count": 49,
   "metadata": {
    "collapsed": false
   },
   "outputs": [
    {
     "data": {
      "text/plain": "140"
     },
     "execution_count": 49,
     "metadata": {},
     "output_type": "execute_result"
    }
   ],
   "source": [
    "df.iloc[[df['Wscore'].argmax()]]['Lscore'][24970]"
   ]
  },
  {
   "attachments": {},
   "cell_type": "markdown",
   "metadata": {},
   "source": [
    "The other really important function in Pandas is the **loc** function. Contrary to iloc, which is an integer based indexing, loc is a \"Purely label-location based indexer for selection by label\". Since all the games are ordered from 0 to 145288, iloc and loc are going to be pretty interchangable in this type of dataset"
   ]
  },
  {
   "cell_type": "code",
   "execution_count": 50,
   "metadata": {
    "collapsed": false
   },
   "outputs": [
    {
     "data": {
      "text/plain": "   Season  Daynum  Wteam  Wscore  Lteam  Lscore Wloc  Numot\n0    1985      20   1228      81   1328      64    N      0\n1    1985      25   1106      77   1354      70    H      0\n2    1985      25   1112      63   1223      56    H      0",
      "text/html": "<div>\n<style scoped>\n    .dataframe tbody tr th:only-of-type {\n        vertical-align: middle;\n    }\n\n    .dataframe tbody tr th {\n        vertical-align: top;\n    }\n\n    .dataframe thead th {\n        text-align: right;\n    }\n</style>\n<table border=\"1\" class=\"dataframe\">\n  <thead>\n    <tr style=\"text-align: right;\">\n      <th></th>\n      <th>Season</th>\n      <th>Daynum</th>\n      <th>Wteam</th>\n      <th>Wscore</th>\n      <th>Lteam</th>\n      <th>Lscore</th>\n      <th>Wloc</th>\n      <th>Numot</th>\n    </tr>\n  </thead>\n  <tbody>\n    <tr>\n      <th>0</th>\n      <td>1985</td>\n      <td>20</td>\n      <td>1228</td>\n      <td>81</td>\n      <td>1328</td>\n      <td>64</td>\n      <td>N</td>\n      <td>0</td>\n    </tr>\n    <tr>\n      <th>1</th>\n      <td>1985</td>\n      <td>25</td>\n      <td>1106</td>\n      <td>77</td>\n      <td>1354</td>\n      <td>70</td>\n      <td>H</td>\n      <td>0</td>\n    </tr>\n    <tr>\n      <th>2</th>\n      <td>1985</td>\n      <td>25</td>\n      <td>1112</td>\n      <td>63</td>\n      <td>1223</td>\n      <td>56</td>\n      <td>H</td>\n      <td>0</td>\n    </tr>\n  </tbody>\n</table>\n</div>"
     },
     "execution_count": 50,
     "metadata": {},
     "output_type": "execute_result"
    }
   ],
   "source": [
    "df.iloc[:3]"
   ]
  },
  {
   "cell_type": "code",
   "execution_count": 51,
   "metadata": {
    "collapsed": false
   },
   "outputs": [
    {
     "data": {
      "text/plain": "   Season  Daynum  Wteam  Wscore  Lteam  Lscore Wloc  Numot\n0    1985      20   1228      81   1328      64    N      0\n1    1985      25   1106      77   1354      70    H      0\n2    1985      25   1112      63   1223      56    H      0\n3    1985      25   1165      70   1432      54    H      0",
      "text/html": "<div>\n<style scoped>\n    .dataframe tbody tr th:only-of-type {\n        vertical-align: middle;\n    }\n\n    .dataframe tbody tr th {\n        vertical-align: top;\n    }\n\n    .dataframe thead th {\n        text-align: right;\n    }\n</style>\n<table border=\"1\" class=\"dataframe\">\n  <thead>\n    <tr style=\"text-align: right;\">\n      <th></th>\n      <th>Season</th>\n      <th>Daynum</th>\n      <th>Wteam</th>\n      <th>Wscore</th>\n      <th>Lteam</th>\n      <th>Lscore</th>\n      <th>Wloc</th>\n      <th>Numot</th>\n    </tr>\n  </thead>\n  <tbody>\n    <tr>\n      <th>0</th>\n      <td>1985</td>\n      <td>20</td>\n      <td>1228</td>\n      <td>81</td>\n      <td>1328</td>\n      <td>64</td>\n      <td>N</td>\n      <td>0</td>\n    </tr>\n    <tr>\n      <th>1</th>\n      <td>1985</td>\n      <td>25</td>\n      <td>1106</td>\n      <td>77</td>\n      <td>1354</td>\n      <td>70</td>\n      <td>H</td>\n      <td>0</td>\n    </tr>\n    <tr>\n      <th>2</th>\n      <td>1985</td>\n      <td>25</td>\n      <td>1112</td>\n      <td>63</td>\n      <td>1223</td>\n      <td>56</td>\n      <td>H</td>\n      <td>0</td>\n    </tr>\n    <tr>\n      <th>3</th>\n      <td>1985</td>\n      <td>25</td>\n      <td>1165</td>\n      <td>70</td>\n      <td>1432</td>\n      <td>54</td>\n      <td>H</td>\n      <td>0</td>\n    </tr>\n  </tbody>\n</table>\n</div>"
     },
     "execution_count": 51,
     "metadata": {},
     "output_type": "execute_result"
    }
   ],
   "source": [
    "df.loc[:3]"
   ]
  },
  {
   "attachments": {},
   "cell_type": "markdown",
   "metadata": {},
   "source": [
    "Notice the slight difference in that iloc is exclusive of the second number, while loc is inclusive. "
   ]
  },
  {
   "attachments": {},
   "cell_type": "markdown",
   "metadata": {},
   "source": [
    "Below is an example of how you can use loc to acheive the same task as we did previously with iloc"
   ]
  },
  {
   "cell_type": "code",
   "execution_count": 52,
   "metadata": {
    "collapsed": false
   },
   "outputs": [
    {
     "data": {
      "text/plain": "140"
     },
     "execution_count": 52,
     "metadata": {},
     "output_type": "execute_result"
    }
   ],
   "source": [
    "df.loc[df['Wscore'].argmax(), 'Lscore']"
   ]
  },
  {
   "attachments": {},
   "cell_type": "markdown",
   "metadata": {},
   "source": [
    "A faster version uses the **at()** function. At() is really useful wheneever you know the row label and the column label of the particular value that you want to get. "
   ]
  },
  {
   "cell_type": "code",
   "execution_count": 53,
   "metadata": {
    "collapsed": false
   },
   "outputs": [
    {
     "data": {
      "text/plain": "140"
     },
     "execution_count": 53,
     "metadata": {},
     "output_type": "execute_result"
    }
   ],
   "source": [
    "df.at[df['Wscore'].argmax(), 'Lscore']"
   ]
  },
  {
   "attachments": {},
   "cell_type": "markdown",
   "metadata": {},
   "source": [
    "If you'd like to see more discussion on how loc and iloc are different, check out this great Stack Overflow post: http://stackoverflow.com/questions/31593201/pandas-iloc-vs-ix-vs-loc-explanation. Just remember that **iloc looks at position** and **loc looks at labels**. Loc becomes very important when your row labels aren't integers. "
   ]
  },
  {
   "attachments": {},
   "cell_type": "markdown",
   "metadata": {},
   "source": [
    "# Sorting"
   ]
  },
  {
   "attachments": {},
   "cell_type": "markdown",
   "metadata": {},
   "source": [
    "Let's say that we want to sort the dataframe in increasing order for the scores of the losing team"
   ]
  },
  {
   "cell_type": "code",
   "execution_count": 54,
   "metadata": {
    "collapsed": false,
    "scrolled": true
   },
   "outputs": [
    {
     "data": {
      "text/plain": "        Season  Daynum  Wteam  Wscore  Lteam  Lscore Wloc  Numot\n100027    2008      66   1203      49   1387      20    H      0\n49310     1997      66   1157      61   1204      21    H      0\n89021     2006      44   1284      41   1343      21    A      0\n85042     2005      66   1131      73   1216      22    H      0\n103660    2009      26   1326      59   1359      22    H      0",
      "text/html": "<div>\n<style scoped>\n    .dataframe tbody tr th:only-of-type {\n        vertical-align: middle;\n    }\n\n    .dataframe tbody tr th {\n        vertical-align: top;\n    }\n\n    .dataframe thead th {\n        text-align: right;\n    }\n</style>\n<table border=\"1\" class=\"dataframe\">\n  <thead>\n    <tr style=\"text-align: right;\">\n      <th></th>\n      <th>Season</th>\n      <th>Daynum</th>\n      <th>Wteam</th>\n      <th>Wscore</th>\n      <th>Lteam</th>\n      <th>Lscore</th>\n      <th>Wloc</th>\n      <th>Numot</th>\n    </tr>\n  </thead>\n  <tbody>\n    <tr>\n      <th>100027</th>\n      <td>2008</td>\n      <td>66</td>\n      <td>1203</td>\n      <td>49</td>\n      <td>1387</td>\n      <td>20</td>\n      <td>H</td>\n      <td>0</td>\n    </tr>\n    <tr>\n      <th>49310</th>\n      <td>1997</td>\n      <td>66</td>\n      <td>1157</td>\n      <td>61</td>\n      <td>1204</td>\n      <td>21</td>\n      <td>H</td>\n      <td>0</td>\n    </tr>\n    <tr>\n      <th>89021</th>\n      <td>2006</td>\n      <td>44</td>\n      <td>1284</td>\n      <td>41</td>\n      <td>1343</td>\n      <td>21</td>\n      <td>A</td>\n      <td>0</td>\n    </tr>\n    <tr>\n      <th>85042</th>\n      <td>2005</td>\n      <td>66</td>\n      <td>1131</td>\n      <td>73</td>\n      <td>1216</td>\n      <td>22</td>\n      <td>H</td>\n      <td>0</td>\n    </tr>\n    <tr>\n      <th>103660</th>\n      <td>2009</td>\n      <td>26</td>\n      <td>1326</td>\n      <td>59</td>\n      <td>1359</td>\n      <td>22</td>\n      <td>H</td>\n      <td>0</td>\n    </tr>\n  </tbody>\n</table>\n</div>"
     },
     "execution_count": 54,
     "metadata": {},
     "output_type": "execute_result"
    }
   ],
   "source": [
    "df.sort_values('Lscore').head()"
   ]
  },
  {
   "attachments": {},
   "cell_type": "markdown",
   "metadata": {},
   "source": [
    "**Q**: Make three dataframes that are sorted by season, winning team, and winning score respectively. Then, Using iloc, select the rows from index 100 to 200 and the columns for season, winning team, and winning score, respectively. "
   ]
  },
  {
   "cell_type": "code",
   "execution_count": 85,
   "metadata": {},
   "outputs": [],
   "source": [
    "# Write your code here\n",
    "sorted_season = df.sort_values('Season').iloc[100:200][['Season']] #Use sort_values and then iloc to only show index 100-200\n",
    "\n",
    "sorted_Wteam = df.sort_values('Wteam').iloc[100:200][['Wteam']] #Use sort_values and then iloc to only show index 100-200\n",
    "\n",
    "sorted_Wscore = df.sort_values('Wscore').iloc[100:200][['Wscore']] #Use sort_values and then iloc to only show index 100-200\n",
    "\n",
    "#sorted_season #Show sorted season index 100-200\n",
    "#sorted_Wteam #Show sorted Wteam index 100-200\n",
    "#sorted_Wscore #Show sorted Wscore index 100-200"
   ]
  },
  {
   "attachments": {},
   "cell_type": "markdown",
   "metadata": {},
   "source": [
    "**Q**: From these three subsets you obtained above, find the season and winning team for the game with the highest winning score."
   ]
  },
  {
   "cell_type": "code",
   "execution_count": 87,
   "metadata": {},
   "outputs": [
    {
     "data": {
      "text/plain": "(1985, 1248)"
     },
     "execution_count": 87,
     "metadata": {},
     "output_type": "execute_result"
    }
   ],
   "source": [
    "# Write your code here\n",
    "max_win_score = sorted_Wscore['Wscore'].max() #Find highest winning score\n",
    "\n",
    "max_win_score_row = df[df['Wscore'] == max_win_score] #Find the row the highest winning score is located on\n",
    "\n",
    "# From the highest winning score row the season and team is found\n",
    "max_win_score_season = max_win_score_row['Season'].iloc[0]\n",
    "max_win_score_team = max_win_score_row['Wteam'].iloc[0]\n",
    "\n",
    "max_win_score_season, max_win_score_team #Show the season and team for the game with the highest winning score"
   ]
  },
  {
   "attachments": {},
   "cell_type": "markdown",
   "metadata": {},
   "source": [
    "# Filtering Rows Conditionally"
   ]
  },
  {
   "attachments": {},
   "cell_type": "markdown",
   "metadata": {},
   "source": [
    "Now, let's say we want to find all of the rows that satisy a particular condition. For example, I want to find all of the games where the winning team scored more than 150 points. The idea behind this command is you want to access the column 'Wscore' of the dataframe df (df['Wscore']), find which entries are above 150 (df['Wscore'] > 150), and then returns only those specific rows in a dataframe format (df[df['Wscore'] > 150])."
   ]
  },
  {
   "cell_type": "code",
   "execution_count": 57,
   "metadata": {
    "collapsed": false
   },
   "outputs": [
    {
     "data": {
      "text/plain": "       Season  Daynum  Wteam  Wscore  Lteam  Lscore Wloc  Numot\n5269     1986      75   1258     151   1109     107    H      0\n12046    1988      40   1328     152   1147      84    H      0\n12355    1988      52   1328     151   1173      99    N      0\n16040    1989      40   1328     152   1331     122    H      0\n16853    1989      68   1258     162   1109     144    A      0\n17867    1989      92   1258     181   1109     150    H      0\n19653    1990      30   1328     173   1109     101    H      0\n19971    1990      38   1258     152   1109     137    A      0\n20022    1990      40   1116     166   1109     101    H      0\n22145    1990      97   1258     157   1362     115    H      0\n23582    1991      26   1318     152   1258     123    N      0\n24341    1991      47   1328     172   1258     112    H      0\n24970    1991      68   1258     186   1109     140    H      0\n25656    1991      84   1106     151   1212      97    H      0\n28687    1992      54   1261     159   1319      86    H      0\n35023    1993     112   1380     155   1341      91    A      0\n40060    1995      32   1375     156   1341     114    H      0\n52600    1998      33   1395     153   1410      87    H      0",
      "text/html": "<div>\n<style scoped>\n    .dataframe tbody tr th:only-of-type {\n        vertical-align: middle;\n    }\n\n    .dataframe tbody tr th {\n        vertical-align: top;\n    }\n\n    .dataframe thead th {\n        text-align: right;\n    }\n</style>\n<table border=\"1\" class=\"dataframe\">\n  <thead>\n    <tr style=\"text-align: right;\">\n      <th></th>\n      <th>Season</th>\n      <th>Daynum</th>\n      <th>Wteam</th>\n      <th>Wscore</th>\n      <th>Lteam</th>\n      <th>Lscore</th>\n      <th>Wloc</th>\n      <th>Numot</th>\n    </tr>\n  </thead>\n  <tbody>\n    <tr>\n      <th>5269</th>\n      <td>1986</td>\n      <td>75</td>\n      <td>1258</td>\n      <td>151</td>\n      <td>1109</td>\n      <td>107</td>\n      <td>H</td>\n      <td>0</td>\n    </tr>\n    <tr>\n      <th>12046</th>\n      <td>1988</td>\n      <td>40</td>\n      <td>1328</td>\n      <td>152</td>\n      <td>1147</td>\n      <td>84</td>\n      <td>H</td>\n      <td>0</td>\n    </tr>\n    <tr>\n      <th>12355</th>\n      <td>1988</td>\n      <td>52</td>\n      <td>1328</td>\n      <td>151</td>\n      <td>1173</td>\n      <td>99</td>\n      <td>N</td>\n      <td>0</td>\n    </tr>\n    <tr>\n      <th>16040</th>\n      <td>1989</td>\n      <td>40</td>\n      <td>1328</td>\n      <td>152</td>\n      <td>1331</td>\n      <td>122</td>\n      <td>H</td>\n      <td>0</td>\n    </tr>\n    <tr>\n      <th>16853</th>\n      <td>1989</td>\n      <td>68</td>\n      <td>1258</td>\n      <td>162</td>\n      <td>1109</td>\n      <td>144</td>\n      <td>A</td>\n      <td>0</td>\n    </tr>\n    <tr>\n      <th>17867</th>\n      <td>1989</td>\n      <td>92</td>\n      <td>1258</td>\n      <td>181</td>\n      <td>1109</td>\n      <td>150</td>\n      <td>H</td>\n      <td>0</td>\n    </tr>\n    <tr>\n      <th>19653</th>\n      <td>1990</td>\n      <td>30</td>\n      <td>1328</td>\n      <td>173</td>\n      <td>1109</td>\n      <td>101</td>\n      <td>H</td>\n      <td>0</td>\n    </tr>\n    <tr>\n      <th>19971</th>\n      <td>1990</td>\n      <td>38</td>\n      <td>1258</td>\n      <td>152</td>\n      <td>1109</td>\n      <td>137</td>\n      <td>A</td>\n      <td>0</td>\n    </tr>\n    <tr>\n      <th>20022</th>\n      <td>1990</td>\n      <td>40</td>\n      <td>1116</td>\n      <td>166</td>\n      <td>1109</td>\n      <td>101</td>\n      <td>H</td>\n      <td>0</td>\n    </tr>\n    <tr>\n      <th>22145</th>\n      <td>1990</td>\n      <td>97</td>\n      <td>1258</td>\n      <td>157</td>\n      <td>1362</td>\n      <td>115</td>\n      <td>H</td>\n      <td>0</td>\n    </tr>\n    <tr>\n      <th>23582</th>\n      <td>1991</td>\n      <td>26</td>\n      <td>1318</td>\n      <td>152</td>\n      <td>1258</td>\n      <td>123</td>\n      <td>N</td>\n      <td>0</td>\n    </tr>\n    <tr>\n      <th>24341</th>\n      <td>1991</td>\n      <td>47</td>\n      <td>1328</td>\n      <td>172</td>\n      <td>1258</td>\n      <td>112</td>\n      <td>H</td>\n      <td>0</td>\n    </tr>\n    <tr>\n      <th>24970</th>\n      <td>1991</td>\n      <td>68</td>\n      <td>1258</td>\n      <td>186</td>\n      <td>1109</td>\n      <td>140</td>\n      <td>H</td>\n      <td>0</td>\n    </tr>\n    <tr>\n      <th>25656</th>\n      <td>1991</td>\n      <td>84</td>\n      <td>1106</td>\n      <td>151</td>\n      <td>1212</td>\n      <td>97</td>\n      <td>H</td>\n      <td>0</td>\n    </tr>\n    <tr>\n      <th>28687</th>\n      <td>1992</td>\n      <td>54</td>\n      <td>1261</td>\n      <td>159</td>\n      <td>1319</td>\n      <td>86</td>\n      <td>H</td>\n      <td>0</td>\n    </tr>\n    <tr>\n      <th>35023</th>\n      <td>1993</td>\n      <td>112</td>\n      <td>1380</td>\n      <td>155</td>\n      <td>1341</td>\n      <td>91</td>\n      <td>A</td>\n      <td>0</td>\n    </tr>\n    <tr>\n      <th>40060</th>\n      <td>1995</td>\n      <td>32</td>\n      <td>1375</td>\n      <td>156</td>\n      <td>1341</td>\n      <td>114</td>\n      <td>H</td>\n      <td>0</td>\n    </tr>\n    <tr>\n      <th>52600</th>\n      <td>1998</td>\n      <td>33</td>\n      <td>1395</td>\n      <td>153</td>\n      <td>1410</td>\n      <td>87</td>\n      <td>H</td>\n      <td>0</td>\n    </tr>\n  </tbody>\n</table>\n</div>"
     },
     "execution_count": 57,
     "metadata": {},
     "output_type": "execute_result"
    }
   ],
   "source": [
    "df[df['Wscore'] > 150]"
   ]
  },
  {
   "attachments": {},
   "cell_type": "markdown",
   "metadata": {},
   "source": [
    "This also works if you have multiple conditions. Let's say we want to find out when the winning team scores more than 150 points and when the losing team scores below 100. "
   ]
  },
  {
   "cell_type": "code",
   "execution_count": 58,
   "metadata": {
    "collapsed": false
   },
   "outputs": [
    {
     "data": {
      "text/plain": "       Season  Daynum  Wteam  Wscore  Lteam  Lscore Wloc  Numot\n12046    1988      40   1328     152   1147      84    H      0\n12355    1988      52   1328     151   1173      99    N      0\n25656    1991      84   1106     151   1212      97    H      0\n28687    1992      54   1261     159   1319      86    H      0\n35023    1993     112   1380     155   1341      91    A      0\n52600    1998      33   1395     153   1410      87    H      0",
      "text/html": "<div>\n<style scoped>\n    .dataframe tbody tr th:only-of-type {\n        vertical-align: middle;\n    }\n\n    .dataframe tbody tr th {\n        vertical-align: top;\n    }\n\n    .dataframe thead th {\n        text-align: right;\n    }\n</style>\n<table border=\"1\" class=\"dataframe\">\n  <thead>\n    <tr style=\"text-align: right;\">\n      <th></th>\n      <th>Season</th>\n      <th>Daynum</th>\n      <th>Wteam</th>\n      <th>Wscore</th>\n      <th>Lteam</th>\n      <th>Lscore</th>\n      <th>Wloc</th>\n      <th>Numot</th>\n    </tr>\n  </thead>\n  <tbody>\n    <tr>\n      <th>12046</th>\n      <td>1988</td>\n      <td>40</td>\n      <td>1328</td>\n      <td>152</td>\n      <td>1147</td>\n      <td>84</td>\n      <td>H</td>\n      <td>0</td>\n    </tr>\n    <tr>\n      <th>12355</th>\n      <td>1988</td>\n      <td>52</td>\n      <td>1328</td>\n      <td>151</td>\n      <td>1173</td>\n      <td>99</td>\n      <td>N</td>\n      <td>0</td>\n    </tr>\n    <tr>\n      <th>25656</th>\n      <td>1991</td>\n      <td>84</td>\n      <td>1106</td>\n      <td>151</td>\n      <td>1212</td>\n      <td>97</td>\n      <td>H</td>\n      <td>0</td>\n    </tr>\n    <tr>\n      <th>28687</th>\n      <td>1992</td>\n      <td>54</td>\n      <td>1261</td>\n      <td>159</td>\n      <td>1319</td>\n      <td>86</td>\n      <td>H</td>\n      <td>0</td>\n    </tr>\n    <tr>\n      <th>35023</th>\n      <td>1993</td>\n      <td>112</td>\n      <td>1380</td>\n      <td>155</td>\n      <td>1341</td>\n      <td>91</td>\n      <td>A</td>\n      <td>0</td>\n    </tr>\n    <tr>\n      <th>52600</th>\n      <td>1998</td>\n      <td>33</td>\n      <td>1395</td>\n      <td>153</td>\n      <td>1410</td>\n      <td>87</td>\n      <td>H</td>\n      <td>0</td>\n    </tr>\n  </tbody>\n</table>\n</div>"
     },
     "execution_count": 58,
     "metadata": {},
     "output_type": "execute_result"
    }
   ],
   "source": [
    "df[(df['Wscore'] > 150) & (df['Lscore'] < 100)]"
   ]
  },
  {
   "attachments": {},
   "cell_type": "markdown",
   "metadata": {},
   "source": [
    "**Q**: Create a new column in the DataFrame called 'ScoreDifference' which is the absolute difference between the winning score and the losing score. Filter the DataFrame to only include games where the 'ScoreDifference' is greater than the average 'ScoreDifference' for all games."
   ]
  },
  {
   "cell_type": "code",
   "execution_count": 89,
   "metadata": {},
   "outputs": [
    {
     "data": {
      "text/plain": "        Season  Daynum  Wteam  Wscore  Lteam  Lscore Wloc  Numot  \\\n0         1985      20   1228      81   1328      64    N      0   \n3         1985      25   1165      70   1432      54    H      0   \n6         1985      25   1228      64   1226      44    N      0   \n8         1985      25   1260      98   1133      80    H      0   \n10        1985      25   1307     103   1288      71    H      0   \n...        ...     ...    ...     ...    ...     ...  ...    ...   \n145280    2016     131   1401      71   1261      38    N      0   \n145282    2016     131   1433      76   1172      54    N      0   \n145284    2016     132   1114      70   1419      50    N      0   \n145285    2016     132   1163      72   1272      58    N      0   \n145288    2016     132   1386      87   1433      74    N      0   \n\n       HighScoringGame  ScoreDifference  \n0                   No               17  \n3                   No               16  \n6                   No               20  \n8                   No               18  \n10                 Yes               32  \n...                ...              ...  \n145280              No               33  \n145282              No               22  \n145284              No               20  \n145285              No               14  \n145288              No               13  \n\n[57227 rows x 10 columns]",
      "text/html": "<div>\n<style scoped>\n    .dataframe tbody tr th:only-of-type {\n        vertical-align: middle;\n    }\n\n    .dataframe tbody tr th {\n        vertical-align: top;\n    }\n\n    .dataframe thead th {\n        text-align: right;\n    }\n</style>\n<table border=\"1\" class=\"dataframe\">\n  <thead>\n    <tr style=\"text-align: right;\">\n      <th></th>\n      <th>Season</th>\n      <th>Daynum</th>\n      <th>Wteam</th>\n      <th>Wscore</th>\n      <th>Lteam</th>\n      <th>Lscore</th>\n      <th>Wloc</th>\n      <th>Numot</th>\n      <th>HighScoringGame</th>\n      <th>ScoreDifference</th>\n    </tr>\n  </thead>\n  <tbody>\n    <tr>\n      <th>0</th>\n      <td>1985</td>\n      <td>20</td>\n      <td>1228</td>\n      <td>81</td>\n      <td>1328</td>\n      <td>64</td>\n      <td>N</td>\n      <td>0</td>\n      <td>No</td>\n      <td>17</td>\n    </tr>\n    <tr>\n      <th>3</th>\n      <td>1985</td>\n      <td>25</td>\n      <td>1165</td>\n      <td>70</td>\n      <td>1432</td>\n      <td>54</td>\n      <td>H</td>\n      <td>0</td>\n      <td>No</td>\n      <td>16</td>\n    </tr>\n    <tr>\n      <th>6</th>\n      <td>1985</td>\n      <td>25</td>\n      <td>1228</td>\n      <td>64</td>\n      <td>1226</td>\n      <td>44</td>\n      <td>N</td>\n      <td>0</td>\n      <td>No</td>\n      <td>20</td>\n    </tr>\n    <tr>\n      <th>8</th>\n      <td>1985</td>\n      <td>25</td>\n      <td>1260</td>\n      <td>98</td>\n      <td>1133</td>\n      <td>80</td>\n      <td>H</td>\n      <td>0</td>\n      <td>No</td>\n      <td>18</td>\n    </tr>\n    <tr>\n      <th>10</th>\n      <td>1985</td>\n      <td>25</td>\n      <td>1307</td>\n      <td>103</td>\n      <td>1288</td>\n      <td>71</td>\n      <td>H</td>\n      <td>0</td>\n      <td>Yes</td>\n      <td>32</td>\n    </tr>\n    <tr>\n      <th>...</th>\n      <td>...</td>\n      <td>...</td>\n      <td>...</td>\n      <td>...</td>\n      <td>...</td>\n      <td>...</td>\n      <td>...</td>\n      <td>...</td>\n      <td>...</td>\n      <td>...</td>\n    </tr>\n    <tr>\n      <th>145280</th>\n      <td>2016</td>\n      <td>131</td>\n      <td>1401</td>\n      <td>71</td>\n      <td>1261</td>\n      <td>38</td>\n      <td>N</td>\n      <td>0</td>\n      <td>No</td>\n      <td>33</td>\n    </tr>\n    <tr>\n      <th>145282</th>\n      <td>2016</td>\n      <td>131</td>\n      <td>1433</td>\n      <td>76</td>\n      <td>1172</td>\n      <td>54</td>\n      <td>N</td>\n      <td>0</td>\n      <td>No</td>\n      <td>22</td>\n    </tr>\n    <tr>\n      <th>145284</th>\n      <td>2016</td>\n      <td>132</td>\n      <td>1114</td>\n      <td>70</td>\n      <td>1419</td>\n      <td>50</td>\n      <td>N</td>\n      <td>0</td>\n      <td>No</td>\n      <td>20</td>\n    </tr>\n    <tr>\n      <th>145285</th>\n      <td>2016</td>\n      <td>132</td>\n      <td>1163</td>\n      <td>72</td>\n      <td>1272</td>\n      <td>58</td>\n      <td>N</td>\n      <td>0</td>\n      <td>No</td>\n      <td>14</td>\n    </tr>\n    <tr>\n      <th>145288</th>\n      <td>2016</td>\n      <td>132</td>\n      <td>1386</td>\n      <td>87</td>\n      <td>1433</td>\n      <td>74</td>\n      <td>N</td>\n      <td>0</td>\n      <td>No</td>\n      <td>13</td>\n    </tr>\n  </tbody>\n</table>\n<p>57227 rows × 10 columns</p>\n</div>"
     },
     "execution_count": 89,
     "metadata": {},
     "output_type": "execute_result"
    }
   ],
   "source": [
    "# Write your code here\n",
    "df['ScoreDifference'] = (df['Wscore'] - df['Lscore']).abs() #Find the score difference and create a column\n",
    "avg_score_diff = df['ScoreDifference'].mean() #Find the average score difference\n",
    "over_avg_df = df[df['ScoreDifference'] > avg_score_diff] #Filter for games with a greater score difference than the average\n",
    "\n",
    "over_avg_df"
   ]
  },
  {
   "attachments": {},
   "cell_type": "markdown",
   "metadata": {},
   "source": [
    "**Q**: From this filtered DataFrame, find the season and teams involved in the game with the highest 'ScoreDifference'."
   ]
  },
  {
   "cell_type": "code",
   "execution_count": 91,
   "metadata": {},
   "outputs": [
    {
     "data": {
      "text/plain": "(1996, 1409, 1341)"
     },
     "execution_count": 91,
     "metadata": {},
     "output_type": "execute_result"
    }
   ],
   "source": [
    "# Write your code here\n",
    "max_score_diff = over_avg_df['ScoreDifference'].max() #Find max score difference\n",
    "max_score_diff_row = over_avg_df[over_avg_df['ScoreDifference'] == max_score_diff] #Find row with max score difference\n",
    "\n",
    "# Extract the season, winning team, and losing team from this row\n",
    "max_score_diff_season = max_score_diff_row['Season'].iloc[0] #Find season from row\n",
    "max_score_diff_Wteam = max_score_diff_row['Wteam'].iloc[0] #Find winning team from row\n",
    "max_score_diff_Lteam = max_score_diff_row['Lteam'].iloc[0] #Find losing team from row\n",
    "\n",
    "# Print or return the results\n",
    "max_score_diff_season, max_score_diff_Wteam, max_score_diff_Lteam #show the season and teams involved in the game with the highest ‘ScoreDifference’"
   ]
  },
  {
   "attachments": {},
   "cell_type": "markdown",
   "metadata": {},
   "source": [
    "# Grouping"
   ]
  },
  {
   "attachments": {},
   "cell_type": "markdown",
   "metadata": {},
   "source": [
    "Another important function in Pandas is **groupby()**. This is a function that allows you to group entries by certain attributes (e.g Grouping entries by Wteam number) and then perform operations on them. The following function groups all the entries (games) with the same Wteam number and finds the mean for each group. "
   ]
  },
  {
   "cell_type": "code",
   "execution_count": 61,
   "metadata": {
    "collapsed": false
   },
   "outputs": [
    {
     "data": {
      "text/plain": "Wteam\n1101    78.111111\n1102    69.893204\n1103    75.839768\n1104    75.825944\n1105    74.960894\nName: Wscore, dtype: float64"
     },
     "execution_count": 61,
     "metadata": {},
     "output_type": "execute_result"
    }
   ],
   "source": [
    "df.groupby('Wteam')['Wscore'].mean().head()"
   ]
  },
  {
   "attachments": {},
   "cell_type": "markdown",
   "metadata": {},
   "source": [
    "This next command groups all the games with the same Wteam number and finds where how many times that specific team won at home, on the road, or at a neutral site"
   ]
  },
  {
   "cell_type": "code",
   "execution_count": 62,
   "metadata": {
    "collapsed": false,
    "scrolled": false
   },
   "outputs": [
    {
     "data": {
      "text/plain": "Wteam  Wloc\n1101   H        12\n       A         3\n       N         3\n1102   H       204\n       A        73\n       N        32\n1103   H       324\n       A       153\n       N        41\nName: Wloc, dtype: int64"
     },
     "execution_count": 62,
     "metadata": {},
     "output_type": "execute_result"
    }
   ],
   "source": [
    "df.groupby('Wteam')['Wloc'].value_counts().head(9)"
   ]
  },
  {
   "attachments": {},
   "cell_type": "markdown",
   "metadata": {},
   "source": [
    "Each dataframe has a **values** attribute which is useful because it basically displays your dataframe in a numpy array style format"
   ]
  },
  {
   "cell_type": "code",
   "execution_count": 63,
   "metadata": {
    "collapsed": false
   },
   "outputs": [
    {
     "data": {
      "text/plain": "array([[1985, 20, 1228, ..., 64, 'N', 0],\n       [1985, 25, 1106, ..., 70, 'H', 0],\n       [1985, 25, 1112, ..., 56, 'H', 0],\n       ...,\n       [2016, 132, 1246, ..., 77, 'N', 1],\n       [2016, 132, 1277, ..., 62, 'N', 0],\n       [2016, 132, 1386, ..., 74, 'N', 0]], dtype=object)"
     },
     "execution_count": 63,
     "metadata": {},
     "output_type": "execute_result"
    }
   ],
   "source": [
    "df.values"
   ]
  },
  {
   "attachments": {},
   "cell_type": "markdown",
   "metadata": {},
   "source": [
    "Now, you can simply just access elements like you would in an array. "
   ]
  },
  {
   "cell_type": "code",
   "execution_count": 64,
   "metadata": {
    "collapsed": false
   },
   "outputs": [
    {
     "data": {
      "text/plain": "1985"
     },
     "execution_count": 64,
     "metadata": {},
     "output_type": "execute_result"
    }
   ],
   "source": [
    "df.values[0][0]"
   ]
  },
  {
   "attachments": {},
   "cell_type": "markdown",
   "metadata": {},
   "source": [
    "**Q**: Group the DataFrame by season and find the average winning score for each season."
   ]
  },
  {
   "cell_type": "code",
   "execution_count": 94,
   "metadata": {},
   "outputs": [
    {
     "data": {
      "text/plain": "Season\n1985    74.723040\n1986    74.813640\n1987    77.993870\n1988    79.773704\n1989    81.728511\n1990    80.846477\n1991    82.733932\n1992    79.992004\n1993    79.508790\n1994    81.160345\n1995    80.096149\n1996    78.205483\n1997    76.300842\n1998    77.229902\n1999    76.043581\n2000    76.310467\n2001    77.088650\n2002    76.963557\n2003    75.795061\n2004    74.971122\n2005    74.693690\n2006    74.587555\n2007    74.829467\n2008    74.962425\n2009    74.033721\n2010    74.652480\n2011    74.374190\n2012    73.379973\n2013    72.840789\n2014    76.101268\n2015    72.680799\n2016    78.295958\nName: Wscore, dtype: float64"
     },
     "execution_count": 94,
     "metadata": {},
     "output_type": "execute_result"
    }
   ],
   "source": [
    "# Write your code here\n",
    "avg_win_score = df.groupby('Season')['Wscore'].mean() #Grouped by 'Season' column and calculated the mean\n",
    "avg_win_score #Show average winning score for each season"
   ]
  },
  {
   "attachments": {},
   "cell_type": "markdown",
   "metadata": {},
   "source": [
    "**Q**: Group the DataFrame by winning team and find the maximum winning score for each team across all seasons."
   ]
  },
  {
   "cell_type": "code",
   "execution_count": 95,
   "metadata": {},
   "outputs": [
    {
     "data": {
      "text/plain": "Wteam\n1101     95\n1102    111\n1103    109\n1104    114\n1105    114\n       ... \n1460    136\n1461    112\n1462    125\n1463    105\n1464    115\nName: Wscore, Length: 364, dtype: int64"
     },
     "execution_count": 95,
     "metadata": {},
     "output_type": "execute_result"
    }
   ],
   "source": [
    "# Write your code here\n",
    "max_win_score = df.groupby('Wteam')['Wscore'].max() #Grouped by the 'Wteam' column and calculated max win score for each team\n",
    "max_win_score #Show maximum winning score for each team across all seasons"
   ]
  },
  {
   "attachments": {},
   "cell_type": "markdown",
   "metadata": {},
   "source": [
    "**Q**: Group the DataFrame by both season and winning team. Find the team with the highest average winning score for each season."
   ]
  },
  {
   "cell_type": "code",
   "execution_count": 96,
   "metadata": {},
   "outputs": [
    {
     "data": {
      "text/plain": "      Season  Wteam      Wscore\n174     1985   1328   92.800000\n287     1986   1109   91.200000\n783     1987   1380   95.875000\n977     1988   1258  111.750000\n1268    1989   1258  117.315789\n1560    1990   1258  126.347826\n1950    1991   1380  112.312500\n2246    1992   1380   99.642857\n2542    1993   1380  101.875000\n2842    1994   1380  106.583333\n3003    1995   1206  102.833333\n3305    1996   1206  103.600000\n3648    1997   1254   94.142857\n4070    1998   1395  101.153846\n4312    1999   1317   95.750000\n4695    2000   1395   95.647059\n5013    2001   1395   99.315789\n5201    2002   1242   92.888889\n5660    2003   1395   88.222222\n5809    2004   1194   92.142857\n6239    2005   1311   91.333333\n6460    2006   1190   89.533333\n7026    2007   1440   99.400000\n7367    2008   1440   94.500000\n7652    2009   1377   96.200000\n8061    2010   1440   95.000000\n8414    2011   1449   90.130435\n8683    2012   1370   87.400000\n9036    2013   1377   86.500000\n9333    2014   1322   92.600000\n9683    2015   1322   90.733333\n9861    2016   1146   97.142857",
      "text/html": "<div>\n<style scoped>\n    .dataframe tbody tr th:only-of-type {\n        vertical-align: middle;\n    }\n\n    .dataframe tbody tr th {\n        vertical-align: top;\n    }\n\n    .dataframe thead th {\n        text-align: right;\n    }\n</style>\n<table border=\"1\" class=\"dataframe\">\n  <thead>\n    <tr style=\"text-align: right;\">\n      <th></th>\n      <th>Season</th>\n      <th>Wteam</th>\n      <th>Wscore</th>\n    </tr>\n  </thead>\n  <tbody>\n    <tr>\n      <th>174</th>\n      <td>1985</td>\n      <td>1328</td>\n      <td>92.800000</td>\n    </tr>\n    <tr>\n      <th>287</th>\n      <td>1986</td>\n      <td>1109</td>\n      <td>91.200000</td>\n    </tr>\n    <tr>\n      <th>783</th>\n      <td>1987</td>\n      <td>1380</td>\n      <td>95.875000</td>\n    </tr>\n    <tr>\n      <th>977</th>\n      <td>1988</td>\n      <td>1258</td>\n      <td>111.750000</td>\n    </tr>\n    <tr>\n      <th>1268</th>\n      <td>1989</td>\n      <td>1258</td>\n      <td>117.315789</td>\n    </tr>\n    <tr>\n      <th>1560</th>\n      <td>1990</td>\n      <td>1258</td>\n      <td>126.347826</td>\n    </tr>\n    <tr>\n      <th>1950</th>\n      <td>1991</td>\n      <td>1380</td>\n      <td>112.312500</td>\n    </tr>\n    <tr>\n      <th>2246</th>\n      <td>1992</td>\n      <td>1380</td>\n      <td>99.642857</td>\n    </tr>\n    <tr>\n      <th>2542</th>\n      <td>1993</td>\n      <td>1380</td>\n      <td>101.875000</td>\n    </tr>\n    <tr>\n      <th>2842</th>\n      <td>1994</td>\n      <td>1380</td>\n      <td>106.583333</td>\n    </tr>\n    <tr>\n      <th>3003</th>\n      <td>1995</td>\n      <td>1206</td>\n      <td>102.833333</td>\n    </tr>\n    <tr>\n      <th>3305</th>\n      <td>1996</td>\n      <td>1206</td>\n      <td>103.600000</td>\n    </tr>\n    <tr>\n      <th>3648</th>\n      <td>1997</td>\n      <td>1254</td>\n      <td>94.142857</td>\n    </tr>\n    <tr>\n      <th>4070</th>\n      <td>1998</td>\n      <td>1395</td>\n      <td>101.153846</td>\n    </tr>\n    <tr>\n      <th>4312</th>\n      <td>1999</td>\n      <td>1317</td>\n      <td>95.750000</td>\n    </tr>\n    <tr>\n      <th>4695</th>\n      <td>2000</td>\n      <td>1395</td>\n      <td>95.647059</td>\n    </tr>\n    <tr>\n      <th>5013</th>\n      <td>2001</td>\n      <td>1395</td>\n      <td>99.315789</td>\n    </tr>\n    <tr>\n      <th>5201</th>\n      <td>2002</td>\n      <td>1242</td>\n      <td>92.888889</td>\n    </tr>\n    <tr>\n      <th>5660</th>\n      <td>2003</td>\n      <td>1395</td>\n      <td>88.222222</td>\n    </tr>\n    <tr>\n      <th>5809</th>\n      <td>2004</td>\n      <td>1194</td>\n      <td>92.142857</td>\n    </tr>\n    <tr>\n      <th>6239</th>\n      <td>2005</td>\n      <td>1311</td>\n      <td>91.333333</td>\n    </tr>\n    <tr>\n      <th>6460</th>\n      <td>2006</td>\n      <td>1190</td>\n      <td>89.533333</td>\n    </tr>\n    <tr>\n      <th>7026</th>\n      <td>2007</td>\n      <td>1440</td>\n      <td>99.400000</td>\n    </tr>\n    <tr>\n      <th>7367</th>\n      <td>2008</td>\n      <td>1440</td>\n      <td>94.500000</td>\n    </tr>\n    <tr>\n      <th>7652</th>\n      <td>2009</td>\n      <td>1377</td>\n      <td>96.200000</td>\n    </tr>\n    <tr>\n      <th>8061</th>\n      <td>2010</td>\n      <td>1440</td>\n      <td>95.000000</td>\n    </tr>\n    <tr>\n      <th>8414</th>\n      <td>2011</td>\n      <td>1449</td>\n      <td>90.130435</td>\n    </tr>\n    <tr>\n      <th>8683</th>\n      <td>2012</td>\n      <td>1370</td>\n      <td>87.400000</td>\n    </tr>\n    <tr>\n      <th>9036</th>\n      <td>2013</td>\n      <td>1377</td>\n      <td>86.500000</td>\n    </tr>\n    <tr>\n      <th>9333</th>\n      <td>2014</td>\n      <td>1322</td>\n      <td>92.600000</td>\n    </tr>\n    <tr>\n      <th>9683</th>\n      <td>2015</td>\n      <td>1322</td>\n      <td>90.733333</td>\n    </tr>\n    <tr>\n      <th>9861</th>\n      <td>2016</td>\n      <td>1146</td>\n      <td>97.142857</td>\n    </tr>\n  </tbody>\n</table>\n</div>"
     },
     "execution_count": 96,
     "metadata": {},
     "output_type": "execute_result"
    }
   ],
   "source": [
    "# Write your code here\n",
    "average_scores = df.groupby(['Season', 'Wteam'])['Wscore'].mean() #Grouped by 'Season and 'Wteam' columns and calculated avg win score\n",
    "average_scores_reset = average_scores.reset_index() #Reset index to sort values\n",
    "highest_avg_score_season = average_scores_reset.sort_values(['Season', 'Wscore'], ascending=[True, False]) #Sorted by highest average winning score for each season\n",
    "highest_avg_score_season = highest_avg_score_season.drop_duplicates(subset=['Season'], keep='first') #Get rid of duplicates\n",
    "highest_avg_score_season #Show team with highest average winning score for each season"
   ]
  },
  {
   "attachments": {},
   "cell_type": "markdown",
   "metadata": {},
   "source": [
    "**Q**: Create a new DataFrame that counts the number of wins for each team in each season. This will involve grouping by both season and winning team, and then using the count() function."
   ]
  },
  {
   "cell_type": "code",
   "execution_count": 98,
   "metadata": {},
   "outputs": [
    {
     "data": {
      "text/plain": "       Season  Wteam  NumWins\n0        1985   1102        5\n1        1985   1103        9\n2        1985   1104       21\n3        1985   1106       10\n4        1985   1108       19\n...       ...    ...      ...\n10167    2016   1460       20\n10168    2016   1461       12\n10169    2016   1462       27\n10170    2016   1463       21\n10171    2016   1464        9\n\n[10172 rows x 3 columns]",
      "text/html": "<div>\n<style scoped>\n    .dataframe tbody tr th:only-of-type {\n        vertical-align: middle;\n    }\n\n    .dataframe tbody tr th {\n        vertical-align: top;\n    }\n\n    .dataframe thead th {\n        text-align: right;\n    }\n</style>\n<table border=\"1\" class=\"dataframe\">\n  <thead>\n    <tr style=\"text-align: right;\">\n      <th></th>\n      <th>Season</th>\n      <th>Wteam</th>\n      <th>NumWins</th>\n    </tr>\n  </thead>\n  <tbody>\n    <tr>\n      <th>0</th>\n      <td>1985</td>\n      <td>1102</td>\n      <td>5</td>\n    </tr>\n    <tr>\n      <th>1</th>\n      <td>1985</td>\n      <td>1103</td>\n      <td>9</td>\n    </tr>\n    <tr>\n      <th>2</th>\n      <td>1985</td>\n      <td>1104</td>\n      <td>21</td>\n    </tr>\n    <tr>\n      <th>3</th>\n      <td>1985</td>\n      <td>1106</td>\n      <td>10</td>\n    </tr>\n    <tr>\n      <th>4</th>\n      <td>1985</td>\n      <td>1108</td>\n      <td>19</td>\n    </tr>\n    <tr>\n      <th>...</th>\n      <td>...</td>\n      <td>...</td>\n      <td>...</td>\n    </tr>\n    <tr>\n      <th>10167</th>\n      <td>2016</td>\n      <td>1460</td>\n      <td>20</td>\n    </tr>\n    <tr>\n      <th>10168</th>\n      <td>2016</td>\n      <td>1461</td>\n      <td>12</td>\n    </tr>\n    <tr>\n      <th>10169</th>\n      <td>2016</td>\n      <td>1462</td>\n      <td>27</td>\n    </tr>\n    <tr>\n      <th>10170</th>\n      <td>2016</td>\n      <td>1463</td>\n      <td>21</td>\n    </tr>\n    <tr>\n      <th>10171</th>\n      <td>2016</td>\n      <td>1464</td>\n      <td>9</td>\n    </tr>\n  </tbody>\n</table>\n<p>10172 rows × 3 columns</p>\n</div>"
     },
     "execution_count": 98,
     "metadata": {},
     "output_type": "execute_result"
    }
   ],
   "source": [
    "# Write your code here\n",
    "win_count = df.groupby(['Season', 'Wteam']).size().reset_index(name='NumWins') #Grouped by 'Season' and 'Wteam' and number of wins\n",
    "win_count #show win count for each team in each season"
   ]
  },
  {
   "attachments": {},
   "cell_type": "markdown",
   "metadata": {},
   "source": [
    "**Q**: For each season, find the team with the most wins. This will involve creating a DataFrame similar to the one in task 5, and then using the idxmax() function for each season."
   ]
  },
  {
   "cell_type": "code",
   "execution_count": 99,
   "metadata": {},
   "outputs": [
    {
     "data": {
      "text/plain": "      Season  Wteam  NumWins\n217     1985   1385       27\n342     1986   1181       32\n818     1987   1424       33\n861     1988   1112       31\n1323    1989   1328       28\n1551    1990   1247       29\n1739    1991   1116       30\n2088    1992   1181       28\n2423    1993   1231       28\n2665    1994   1163       27\n2928    1995   1116       26\n3357    1996   1269       31\n3638    1997   1242       31\n3943    1998   1242       33\n4201    1999   1181       32\n4709    2000   1409       29\n4829    2001   1181       29\n5121    2002   1153       30\n5456    2003   1166       29\n5981    2004   1390       29\n6165    2005   1228       32\n6452    2006   1181       30\n6841    2007   1242       30\n7209    2008   1272       33\n7552    2009   1272       31\n7870    2010   1242       32\n8217    2011   1242       32\n8565    2012   1246       32\n8878    2013   1211       30\n9462    2014   1455       33\n9609    2015   1246       34\n9955    2016   1242       29",
      "text/html": "<div>\n<style scoped>\n    .dataframe tbody tr th:only-of-type {\n        vertical-align: middle;\n    }\n\n    .dataframe tbody tr th {\n        vertical-align: top;\n    }\n\n    .dataframe thead th {\n        text-align: right;\n    }\n</style>\n<table border=\"1\" class=\"dataframe\">\n  <thead>\n    <tr style=\"text-align: right;\">\n      <th></th>\n      <th>Season</th>\n      <th>Wteam</th>\n      <th>NumWins</th>\n    </tr>\n  </thead>\n  <tbody>\n    <tr>\n      <th>217</th>\n      <td>1985</td>\n      <td>1385</td>\n      <td>27</td>\n    </tr>\n    <tr>\n      <th>342</th>\n      <td>1986</td>\n      <td>1181</td>\n      <td>32</td>\n    </tr>\n    <tr>\n      <th>818</th>\n      <td>1987</td>\n      <td>1424</td>\n      <td>33</td>\n    </tr>\n    <tr>\n      <th>861</th>\n      <td>1988</td>\n      <td>1112</td>\n      <td>31</td>\n    </tr>\n    <tr>\n      <th>1323</th>\n      <td>1989</td>\n      <td>1328</td>\n      <td>28</td>\n    </tr>\n    <tr>\n      <th>1551</th>\n      <td>1990</td>\n      <td>1247</td>\n      <td>29</td>\n    </tr>\n    <tr>\n      <th>1739</th>\n      <td>1991</td>\n      <td>1116</td>\n      <td>30</td>\n    </tr>\n    <tr>\n      <th>2088</th>\n      <td>1992</td>\n      <td>1181</td>\n      <td>28</td>\n    </tr>\n    <tr>\n      <th>2423</th>\n      <td>1993</td>\n      <td>1231</td>\n      <td>28</td>\n    </tr>\n    <tr>\n      <th>2665</th>\n      <td>1994</td>\n      <td>1163</td>\n      <td>27</td>\n    </tr>\n    <tr>\n      <th>2928</th>\n      <td>1995</td>\n      <td>1116</td>\n      <td>26</td>\n    </tr>\n    <tr>\n      <th>3357</th>\n      <td>1996</td>\n      <td>1269</td>\n      <td>31</td>\n    </tr>\n    <tr>\n      <th>3638</th>\n      <td>1997</td>\n      <td>1242</td>\n      <td>31</td>\n    </tr>\n    <tr>\n      <th>3943</th>\n      <td>1998</td>\n      <td>1242</td>\n      <td>33</td>\n    </tr>\n    <tr>\n      <th>4201</th>\n      <td>1999</td>\n      <td>1181</td>\n      <td>32</td>\n    </tr>\n    <tr>\n      <th>4709</th>\n      <td>2000</td>\n      <td>1409</td>\n      <td>29</td>\n    </tr>\n    <tr>\n      <th>4829</th>\n      <td>2001</td>\n      <td>1181</td>\n      <td>29</td>\n    </tr>\n    <tr>\n      <th>5121</th>\n      <td>2002</td>\n      <td>1153</td>\n      <td>30</td>\n    </tr>\n    <tr>\n      <th>5456</th>\n      <td>2003</td>\n      <td>1166</td>\n      <td>29</td>\n    </tr>\n    <tr>\n      <th>5981</th>\n      <td>2004</td>\n      <td>1390</td>\n      <td>29</td>\n    </tr>\n    <tr>\n      <th>6165</th>\n      <td>2005</td>\n      <td>1228</td>\n      <td>32</td>\n    </tr>\n    <tr>\n      <th>6452</th>\n      <td>2006</td>\n      <td>1181</td>\n      <td>30</td>\n    </tr>\n    <tr>\n      <th>6841</th>\n      <td>2007</td>\n      <td>1242</td>\n      <td>30</td>\n    </tr>\n    <tr>\n      <th>7209</th>\n      <td>2008</td>\n      <td>1272</td>\n      <td>33</td>\n    </tr>\n    <tr>\n      <th>7552</th>\n      <td>2009</td>\n      <td>1272</td>\n      <td>31</td>\n    </tr>\n    <tr>\n      <th>7870</th>\n      <td>2010</td>\n      <td>1242</td>\n      <td>32</td>\n    </tr>\n    <tr>\n      <th>8217</th>\n      <td>2011</td>\n      <td>1242</td>\n      <td>32</td>\n    </tr>\n    <tr>\n      <th>8565</th>\n      <td>2012</td>\n      <td>1246</td>\n      <td>32</td>\n    </tr>\n    <tr>\n      <th>8878</th>\n      <td>2013</td>\n      <td>1211</td>\n      <td>30</td>\n    </tr>\n    <tr>\n      <th>9462</th>\n      <td>2014</td>\n      <td>1455</td>\n      <td>33</td>\n    </tr>\n    <tr>\n      <th>9609</th>\n      <td>2015</td>\n      <td>1246</td>\n      <td>34</td>\n    </tr>\n    <tr>\n      <th>9955</th>\n      <td>2016</td>\n      <td>1242</td>\n      <td>29</td>\n    </tr>\n  </tbody>\n</table>\n</div>"
     },
     "execution_count": 99,
     "metadata": {},
     "output_type": "execute_result"
    }
   ],
   "source": [
    "# Write your code here\n",
    "team_wins_season = df.groupby(['Season', 'Wteam']).size().reset_index(name='NumWins') #Similar as last task\n",
    "most_win_index = team_wins_season.groupby('Season')['NumWins'].idxmax() #Find index of most wins team for each season\n",
    "most_win_team_seasons = team_wins_season.loc[most_win_index] #Used index to find team with most wins each season\n",
    "most_win_team_seasons #Show the team with most wins each season"
   ]
  },
  {
   "attachments": {},
   "cell_type": "markdown",
   "metadata": {},
   "source": [
    "**Q**: Group the DataFrame by losing team and find the average losing score for each team across all seasons. Compare this with the average winning score for each team from task 3. Are there teams that have a higher average losing score than winning score?"
   ]
  },
  {
   "cell_type": "code",
   "execution_count": 102,
   "metadata": {},
   "outputs": [
    {
     "data": {
      "text/plain": "       Wteam     Wscore     Lscore\n92      1104  63.500000  64.374317\n116     1106  62.133333  66.284165\n118     1106  65.444444  66.284165\n123     1106  64.200000  66.284165\n148     1108  62.166667  65.429825\n...      ...        ...        ...\n9829    1392  58.600000  59.164062\n9946    1394  58.000000  61.450000\n10093   1342  57.000000  58.051813\n10112   1136  53.000000  59.802469\n10141   1370  65.857143  66.559055\n\n[211 rows x 3 columns]",
      "text/html": "<div>\n<style scoped>\n    .dataframe tbody tr th:only-of-type {\n        vertical-align: middle;\n    }\n\n    .dataframe tbody tr th {\n        vertical-align: top;\n    }\n\n    .dataframe thead th {\n        text-align: right;\n    }\n</style>\n<table border=\"1\" class=\"dataframe\">\n  <thead>\n    <tr style=\"text-align: right;\">\n      <th></th>\n      <th>Wteam</th>\n      <th>Wscore</th>\n      <th>Lscore</th>\n    </tr>\n  </thead>\n  <tbody>\n    <tr>\n      <th>92</th>\n      <td>1104</td>\n      <td>63.500000</td>\n      <td>64.374317</td>\n    </tr>\n    <tr>\n      <th>116</th>\n      <td>1106</td>\n      <td>62.133333</td>\n      <td>66.284165</td>\n    </tr>\n    <tr>\n      <th>118</th>\n      <td>1106</td>\n      <td>65.444444</td>\n      <td>66.284165</td>\n    </tr>\n    <tr>\n      <th>123</th>\n      <td>1106</td>\n      <td>64.200000</td>\n      <td>66.284165</td>\n    </tr>\n    <tr>\n      <th>148</th>\n      <td>1108</td>\n      <td>62.166667</td>\n      <td>65.429825</td>\n    </tr>\n    <tr>\n      <th>...</th>\n      <td>...</td>\n      <td>...</td>\n      <td>...</td>\n    </tr>\n    <tr>\n      <th>9829</th>\n      <td>1392</td>\n      <td>58.600000</td>\n      <td>59.164062</td>\n    </tr>\n    <tr>\n      <th>9946</th>\n      <td>1394</td>\n      <td>58.000000</td>\n      <td>61.450000</td>\n    </tr>\n    <tr>\n      <th>10093</th>\n      <td>1342</td>\n      <td>57.000000</td>\n      <td>58.051813</td>\n    </tr>\n    <tr>\n      <th>10112</th>\n      <td>1136</td>\n      <td>53.000000</td>\n      <td>59.802469</td>\n    </tr>\n    <tr>\n      <th>10141</th>\n      <td>1370</td>\n      <td>65.857143</td>\n      <td>66.559055</td>\n    </tr>\n  </tbody>\n</table>\n<p>211 rows × 3 columns</p>\n</div>"
     },
     "execution_count": 102,
     "metadata": {},
     "output_type": "execute_result"
    }
   ],
   "source": [
    "# Write your code here\n",
    "average_losing_score_by_team = df.groupby('Lteam')['Lscore'].mean() #Calculate losing score\n",
    "average_winning_score_by_team = average_scores #Use win score from task 3\n",
    "\n",
    "#Convert to dataframes\n",
    "average_losing_score_df = average_losing_score_by_team.reset_index()\n",
    "average_winning_score_df = average_winning_score_by_team.reset_index()\n",
    "average_scores_comparison = pd.merge(average_winning_score_df, average_losing_score_df, left_on='Wteam', right_on='Lteam', how='outer') #Merge df\n",
    "\n",
    "#Compare avg scores\n",
    "average_scores_comparison['HigherAvgLosingScore'] = average_scores_comparison['Lscore'] > average_scores_comparison['Wscore']\n",
    "teams_with_higher_avg_losing_scores = average_scores_comparison[average_scores_comparison['HigherAvgLosingScore']]\n",
    "\n",
    "#Show teams with a higher average losing score than winning score\n",
    "teams_with_higher_avg_losing_scores[['Wteam', 'Wscore', 'Lscore']]"
   ]
  },
  {
   "attachments": {},
   "cell_type": "markdown",
   "metadata": {},
   "source": [
    "# Dataframe Iteration"
   ]
  },
  {
   "attachments": {},
   "cell_type": "markdown",
   "metadata": {},
   "source": [
    "In order to iterate through dataframes, we can use the **iterrows()** function. Below is an example of what the first two rows look like. Each row in iterrows is a Series object"
   ]
  },
  {
   "cell_type": "code",
   "execution_count": 71,
   "metadata": {
    "collapsed": false
   },
   "outputs": [
    {
     "name": "stdout",
     "output_type": "stream",
     "text": [
      "Season    1985\n",
      "Daynum      20\n",
      "Wteam     1228\n",
      "Wscore      81\n",
      "Lteam     1328\n",
      "Lscore      64\n",
      "Wloc         N\n",
      "Numot        0\n",
      "Name: 0, dtype: object\n",
      "Season    1985\n",
      "Daynum      25\n",
      "Wteam     1106\n",
      "Wscore      77\n",
      "Lteam     1354\n",
      "Lscore      70\n",
      "Wloc         H\n",
      "Numot        0\n",
      "Name: 1, dtype: object\n"
     ]
    }
   ],
   "source": [
    "for index, row in df.iterrows():\n",
    "    print(row)\n",
    "    if index == 1:\n",
    "        break"
   ]
  },
  {
   "attachments": {},
   "cell_type": "markdown",
   "metadata": {},
   "source": [
    "**Q**: Create a new column 'HighScoringGame' that is 'Yes' if the winning score is greater than 100 and 'No' otherwise. This will require iterating over the rows of the DataFrame and checking the value of the winning score for each row."
   ]
  },
  {
   "cell_type": "code",
   "execution_count": 104,
   "metadata": {},
   "outputs": [
    {
     "data": {
      "text/plain": "        Season  Daynum  Wteam  Wscore  Lteam  Lscore Wloc  Numot  \\\n0         1985      20   1228      81   1328      64    N      0   \n1         1985      25   1106      77   1354      70    H      0   \n2         1985      25   1112      63   1223      56    H      0   \n3         1985      25   1165      70   1432      54    H      0   \n4         1985      25   1192      86   1447      74    H      0   \n...        ...     ...    ...     ...    ...     ...  ...    ...   \n145284    2016     132   1114      70   1419      50    N      0   \n145285    2016     132   1163      72   1272      58    N      0   \n145286    2016     132   1246      82   1401      77    N      1   \n145287    2016     132   1277      66   1345      62    N      0   \n145288    2016     132   1386      87   1433      74    N      0   \n\n       HighScoringGame  ScoreDifference  \n0                   No               17  \n1                   No                7  \n2                   No                7  \n3                   No               16  \n4                   No               12  \n...                ...              ...  \n145284              No               20  \n145285              No               14  \n145286              No                5  \n145287              No                4  \n145288              No               13  \n\n[145289 rows x 10 columns]",
      "text/html": "<div>\n<style scoped>\n    .dataframe tbody tr th:only-of-type {\n        vertical-align: middle;\n    }\n\n    .dataframe tbody tr th {\n        vertical-align: top;\n    }\n\n    .dataframe thead th {\n        text-align: right;\n    }\n</style>\n<table border=\"1\" class=\"dataframe\">\n  <thead>\n    <tr style=\"text-align: right;\">\n      <th></th>\n      <th>Season</th>\n      <th>Daynum</th>\n      <th>Wteam</th>\n      <th>Wscore</th>\n      <th>Lteam</th>\n      <th>Lscore</th>\n      <th>Wloc</th>\n      <th>Numot</th>\n      <th>HighScoringGame</th>\n      <th>ScoreDifference</th>\n    </tr>\n  </thead>\n  <tbody>\n    <tr>\n      <th>0</th>\n      <td>1985</td>\n      <td>20</td>\n      <td>1228</td>\n      <td>81</td>\n      <td>1328</td>\n      <td>64</td>\n      <td>N</td>\n      <td>0</td>\n      <td>No</td>\n      <td>17</td>\n    </tr>\n    <tr>\n      <th>1</th>\n      <td>1985</td>\n      <td>25</td>\n      <td>1106</td>\n      <td>77</td>\n      <td>1354</td>\n      <td>70</td>\n      <td>H</td>\n      <td>0</td>\n      <td>No</td>\n      <td>7</td>\n    </tr>\n    <tr>\n      <th>2</th>\n      <td>1985</td>\n      <td>25</td>\n      <td>1112</td>\n      <td>63</td>\n      <td>1223</td>\n      <td>56</td>\n      <td>H</td>\n      <td>0</td>\n      <td>No</td>\n      <td>7</td>\n    </tr>\n    <tr>\n      <th>3</th>\n      <td>1985</td>\n      <td>25</td>\n      <td>1165</td>\n      <td>70</td>\n      <td>1432</td>\n      <td>54</td>\n      <td>H</td>\n      <td>0</td>\n      <td>No</td>\n      <td>16</td>\n    </tr>\n    <tr>\n      <th>4</th>\n      <td>1985</td>\n      <td>25</td>\n      <td>1192</td>\n      <td>86</td>\n      <td>1447</td>\n      <td>74</td>\n      <td>H</td>\n      <td>0</td>\n      <td>No</td>\n      <td>12</td>\n    </tr>\n    <tr>\n      <th>...</th>\n      <td>...</td>\n      <td>...</td>\n      <td>...</td>\n      <td>...</td>\n      <td>...</td>\n      <td>...</td>\n      <td>...</td>\n      <td>...</td>\n      <td>...</td>\n      <td>...</td>\n    </tr>\n    <tr>\n      <th>145284</th>\n      <td>2016</td>\n      <td>132</td>\n      <td>1114</td>\n      <td>70</td>\n      <td>1419</td>\n      <td>50</td>\n      <td>N</td>\n      <td>0</td>\n      <td>No</td>\n      <td>20</td>\n    </tr>\n    <tr>\n      <th>145285</th>\n      <td>2016</td>\n      <td>132</td>\n      <td>1163</td>\n      <td>72</td>\n      <td>1272</td>\n      <td>58</td>\n      <td>N</td>\n      <td>0</td>\n      <td>No</td>\n      <td>14</td>\n    </tr>\n    <tr>\n      <th>145286</th>\n      <td>2016</td>\n      <td>132</td>\n      <td>1246</td>\n      <td>82</td>\n      <td>1401</td>\n      <td>77</td>\n      <td>N</td>\n      <td>1</td>\n      <td>No</td>\n      <td>5</td>\n    </tr>\n    <tr>\n      <th>145287</th>\n      <td>2016</td>\n      <td>132</td>\n      <td>1277</td>\n      <td>66</td>\n      <td>1345</td>\n      <td>62</td>\n      <td>N</td>\n      <td>0</td>\n      <td>No</td>\n      <td>4</td>\n    </tr>\n    <tr>\n      <th>145288</th>\n      <td>2016</td>\n      <td>132</td>\n      <td>1386</td>\n      <td>87</td>\n      <td>1433</td>\n      <td>74</td>\n      <td>N</td>\n      <td>0</td>\n      <td>No</td>\n      <td>13</td>\n    </tr>\n  </tbody>\n</table>\n<p>145289 rows × 10 columns</p>\n</div>"
     },
     "execution_count": 104,
     "metadata": {},
     "output_type": "execute_result"
    }
   ],
   "source": [
    "# Write your code here\n",
    "# Define a function to apply to each row\n",
    "def high_scoring_game(row):\n",
    "    if row['Wscore'] > 100:\n",
    "        return 'Yes'\n",
    "    else:\n",
    "        return 'No'\n",
    "\n",
    "# Create the new column by applying the function to each row\n",
    "df['HighScoringGame'] = df.apply(high_scoring_game, axis=1) #Used apply instead of iterrows as it is more efficient in this case\n",
    "df #Show table with HighScoringGame"
   ]
  },
  {
   "attachments": {},
   "cell_type": "markdown",
   "metadata": {},
   "source": [
    "**Q**: Calculate the total number of games played by each team, whether they won or lost. This will require iterating over the rows of the DataFrame and updating a dictionary that keeps track of the number of games for each team."
   ]
  },
  {
   "cell_type": "code",
   "execution_count": 106,
   "metadata": {},
   "outputs": [
    {
     "data": {
      "text/plain": "{1228: 992,\n 1328: 968,\n 1106: 855,\n 1354: 906,\n 1112: 981,\n 1223: 363,\n 1165: 833,\n 1432: 69,\n 1192: 908,\n 1447: 903,\n 1218: 931,\n 1337: 922,\n 1226: 847,\n 1242: 993,\n 1268: 969,\n 1260: 914,\n 1133: 949,\n 1305: 922,\n 1424: 974,\n 1307: 969,\n 1288: 925,\n 1344: 951,\n 1438: 952,\n 1374: 916,\n 1411: 903,\n 1412: 962,\n 1397: 963,\n 1417: 966,\n 1225: 880,\n 1116: 980,\n 1368: 808,\n 1120: 936,\n 1391: 879,\n 1135: 847,\n 1306: 898,\n 1143: 947,\n 1388: 897,\n 1153: 970,\n 1184: 863,\n 1159: 887,\n 1171: 829,\n 1216: 930,\n 1173: 960,\n 1134: 200,\n 1177: 942,\n 1296: 879,\n 1193: 942,\n 1265: 934,\n 1196: 981,\n 1416: 881,\n 1206: 938,\n 1137: 912,\n 1210: 972,\n 1149: 824,\n 1211: 921,\n 1102: 840,\n 1234: 968,\n 1114: 910,\n 1332: 927,\n 1243: 927,\n 1317: 883,\n 1257: 994,\n 1231: 969,\n 1277: 966,\n 1145: 934,\n 1278: 948,\n 1453: 912,\n 1286: 851,\n 1186: 849,\n 1301: 979,\n 1144: 850,\n 1325: 942,\n 1384: 887,\n 1326: 968,\n 1248: 896,\n 1287: 857,\n 1339: 879,\n 1334: 899,\n 1365: 907,\n 1375: 896,\n 1126: 906,\n 1403: 939,\n 1152: 865,\n 1423: 931,\n 1347: 858,\n 1429: 930,\n 1428: 931,\n 1437: 983,\n 1436: 911,\n 1172: 879,\n 1439: 946,\n 1330: 963,\n 1443: 942,\n 1121: 175,\n 1455: 947,\n 1249: 873,\n 1241: 942,\n 1440: 825,\n 1314: 1010,\n 1200: 922,\n 1323: 950,\n 1264: 928,\n 1458: 951,\n 1104: 975,\n 1160: 928,\n 1414: 922,\n 1181: 1013,\n 1387: 956,\n 1183: 871,\n 1247: 943,\n 1284: 932,\n 1402: 847,\n 1276: 959,\n 1178: 920,\n 1364: 890,\n 1338: 962,\n 1290: 875,\n 1376: 945,\n 1378: 936,\n 1202: 856,\n 1396: 979,\n 1180: 930,\n 1398: 870,\n 1399: 860,\n 1155: 950,\n 1258: 898,\n 1448: 947,\n 1464: 856,\n 1124: 906,\n 1341: 857,\n 1130: 951,\n 1254: 898,\n 1204: 862,\n 1151: 899,\n 1233: 957,\n 1220: 933,\n 1246: 999,\n 1405: 921,\n 1280: 946,\n 1238: 920,\n 1308: 935,\n 1431: 937,\n 1253: 915,\n 1363: 889,\n 1348: 938,\n 1373: 950,\n 1379: 896,\n 1270: 861,\n 1409: 966,\n 1331: 809,\n 1444: 916,\n 1434: 902,\n 1451: 866,\n 1139: 923,\n 1442: 840,\n 1154: 820,\n 1456: 891,\n 1229: 951,\n 1227: 917,\n 1259: 913,\n 1406: 926,\n 1261: 956,\n 1272: 992,\n 1117: 891,\n 1273: 896,\n 1163: 977,\n 1318: 942,\n 1360: 889,\n 1393: 993,\n 1419: 894,\n 1418: 912,\n 1281: 977,\n 1161: 905,\n 1109: 169,\n 1309: 840,\n 1298: 894,\n 1321: 912,\n 1285: 865,\n 1271: 887,\n 1353: 939,\n 1351: 929,\n 1359: 874,\n 1267: 909,\n 1361: 915,\n 1386: 958,\n 1400: 982,\n 1322: 854,\n 1433: 975,\n 1187: 861,\n 1245: 927,\n 1111: 876,\n 1150: 942,\n 1119: 868,\n 1141: 872,\n 1221: 929,\n 1122: 903,\n 1185: 900,\n 1199: 949,\n 1201: 947,\n 1212: 837,\n 1197: 896,\n 1140: 965,\n 1292: 888,\n 1162: 831,\n 1319: 843,\n 1239: 891,\n 1320: 913,\n 1371: 946,\n 1349: 888,\n 1222: 930,\n 1382: 914,\n 1383: 898,\n 1385: 954,\n 1390: 932,\n 1425: 944,\n 1435: 961,\n 1463: 838,\n 1441: 854,\n 1449: 938,\n 1123: 906,\n 1103: 910,\n 1129: 907,\n 1209: 891,\n 1156: 900,\n 1336: 926,\n 1174: 913,\n 1343: 832,\n 1232: 913,\n 1203: 933,\n 1110: 910,\n 1335: 880,\n 1283: 952,\n 1235: 950,\n 1166: 957,\n 1311: 839,\n 1256: 925,\n 1147: 698,\n 1250: 898,\n 1266: 951,\n 1452: 945,\n 1269: 946,\n 1208: 954,\n 1310: 949,\n 1329: 941,\n 1333: 911,\n 1345: 966,\n 1263: 898,\n 1352: 925,\n 1380: 862,\n 1446: 48,\n 1427: 858,\n 1113: 937,\n 1408: 808,\n 1410: 831,\n 1350: 959,\n 1450: 913,\n 1462: 954,\n 1131: 945,\n 1190: 891,\n 1168: 891,\n 1179: 914,\n 1304: 953,\n 1224: 907,\n 1356: 953,\n 1426: 859,\n 1215: 147,\n 1132: 895,\n 1217: 828,\n 1389: 928,\n 1395: 943,\n 1461: 914,\n 1279: 927,\n 1275: 932,\n 1293: 886,\n 1191: 928,\n 1299: 870,\n 1401: 940,\n 1175: 890,\n 1327: 22,\n 1207: 923,\n 1108: 866,\n 1182: 924,\n 1274: 915,\n 1362: 867,\n 1164: 893,\n 1118: 27,\n 1420: 845,\n 1457: 801,\n 1148: 844,\n 1372: 795,\n 1157: 784,\n 1421: 799,\n 1358: 806,\n 1460: 827,\n 1198: 812,\n 1291: 815,\n 1381: 735,\n 1251: 755,\n 1282: 745,\n 1169: 724,\n 1302: 200,\n 1454: 737,\n 1170: 660,\n 1138: 728,\n 1158: 720,\n 1422: 719,\n 1369: 682,\n 1404: 643,\n 1194: 647,\n 1407: 639,\n 1142: 597,\n 1214: 627,\n 1459: 575,\n 1240: 568,\n 1313: 563,\n 1115: 520,\n 1176: 526,\n 1346: 522,\n 1237: 519,\n 1340: 497,\n 1107: 512,\n 1357: 500,\n 1324: 506,\n 1189: 481,\n 1125: 506,\n 1105: 447,\n 1392: 493,\n 1219: 466,\n 1127: 442,\n 1289: 48,\n 1415: 418,\n 1236: 400,\n 1394: 390,\n 1205: 405,\n 1128: 106,\n 1252: 401,\n 1366: 384,\n 1294: 336,\n 1255: 344,\n 1430: 325,\n 1413: 348,\n 1355: 327,\n 1244: 322,\n 1295: 308,\n 1316: 327,\n 1445: 107,\n 1312: 276,\n 1146: 267,\n 1167: 260,\n 1300: 252,\n 1367: 267,\n 1342: 260,\n 1195: 273,\n 1188: 207,\n 1377: 210,\n 1315: 217,\n 1136: 240,\n 1370: 222,\n 1303: 129,\n 1297: 113,\n 1213: 84,\n 1262: 83,\n 1101: 76,\n 1230: 64}"
     },
     "execution_count": 106,
     "metadata": {},
     "output_type": "execute_result"
    }
   ],
   "source": [
    "# Write your code here\n",
    "# Initialize dictionary game_played to store games played\n",
    "games_played = {}\n",
    "\n",
    "# Iterate over each row in the DataFrame\n",
    "for index, row in df.iterrows():\n",
    "    # Increment the games played count for the winning team\n",
    "    if row['Wteam'] in games_played:\n",
    "        games_played[row['Wteam']] += 1\n",
    "    else:\n",
    "        games_played[row['Wteam']] = 1\n",
    "\n",
    "    # Increment the games played count for the losing team\n",
    "    if row['Lteam'] in games_played:\n",
    "        games_played[row['Lteam']] += 1\n",
    "    else:\n",
    "        games_played[row['Lteam']] = 1\n",
    "\n",
    "games_played #Show dictionary containing total number of games played by each team"
   ]
  },
  {
   "attachments": {},
   "cell_type": "markdown",
   "metadata": {},
   "source": [
    "**Q**: For each season, find the game with the highest score difference (winning score - losing score). This will require iterating over the rows of the DataFrame, keeping track of the highest score difference for each season, and updating it if a game with a higher score difference is found."
   ]
  },
  {
   "cell_type": "code",
   "execution_count": 107,
   "metadata": {},
   "outputs": [
    {
     "data": {
      "text/plain": "{1985: {'game_id': 236, 'score_diff': 60, 'Wteam': 1361, 'Lteam': 1288},\n 1986: {'game_id': 4731, 'score_diff': 84, 'Wteam': 1314, 'Lteam': 1264},\n 1987: {'game_id': 8240, 'score_diff': 73, 'Wteam': 1155, 'Lteam': 1118},\n 1988: {'game_id': 12046, 'score_diff': 68, 'Wteam': 1328, 'Lteam': 1147},\n 1989: {'game_id': 16677, 'score_diff': 70, 'Wteam': 1242, 'Lteam': 1135},\n 1990: {'game_id': 19502, 'score_diff': 76, 'Wteam': 1181, 'Lteam': 1217},\n 1991: {'game_id': 25161, 'score_diff': 68, 'Wteam': 1163, 'Lteam': 1148},\n 1992: {'game_id': 27997, 'score_diff': 82, 'Wteam': 1116, 'Lteam': 1126},\n 1993: {'game_id': 33858, 'score_diff': 81, 'Wteam': 1328, 'Lteam': 1197},\n 1994: {'game_id': 36404, 'score_diff': 69, 'Wteam': 1228, 'Lteam': 1152},\n 1995: {'game_id': 39858, 'score_diff': 74, 'Wteam': 1246, 'Lteam': 1404},\n 1996: {'game_id': 44653, 'score_diff': 91, 'Wteam': 1409, 'Lteam': 1341},\n 1997: {'game_id': 49033, 'score_diff': 80, 'Wteam': 1278, 'Lteam': 1106},\n 1998: {'game_id': 52600, 'score_diff': 66, 'Wteam': 1395, 'Lteam': 1410},\n 1999: {'game_id': 57618, 'score_diff': 75, 'Wteam': 1268, 'Lteam': 1317},\n 2000: {'game_id': 60616, 'score_diff': 75, 'Wteam': 1261, 'Lteam': 1212},\n 2001: {'game_id': 65999, 'score_diff': 75, 'Wteam': 1196, 'Lteam': 1197},\n 2002: {'game_id': 70737, 'score_diff': 59, 'Wteam': 1328, 'Lteam': 1183},\n 2003: {'game_id': 74791, 'score_diff': 72, 'Wteam': 1403, 'Lteam': 1311},\n 2004: {'game_id': 79181, 'score_diff': 70, 'Wteam': 1328, 'Lteam': 1115},\n 2005: {'game_id': 83372, 'score_diff': 64, 'Wteam': 1403, 'Lteam': 1421},\n 2006: {'game_id': 89542, 'score_diff': 72, 'Wteam': 1400, 'Lteam': 1341},\n 2007: {'game_id': 94507, 'score_diff': 74, 'Wteam': 1401, 'Lteam': 1212},\n 2008: {'game_id': 97737, 'score_diff': 70, 'Wteam': 1182, 'Lteam': 1224},\n 2009: {'game_id': 103723, 'score_diff': 68, 'Wteam': 1314, 'Lteam': 1421},\n 2010: {'game_id': 108405, 'score_diff': 75, 'Wteam': 1397, 'Lteam': 1421},\n 2011: {'game_id': 114015, 'score_diff': 69, 'Wteam': 1388, 'Lteam': 1152},\n 2012: {'game_id': 118699, 'score_diff': 62, 'Wteam': 1345, 'Lteam': 1296},\n 2013: {'game_id': 124057, 'score_diff': 58, 'Wteam': 1235, 'Lteam': 1105},\n 2014: {'game_id': 131373, 'score_diff': 74, 'Wteam': 1256, 'Lteam': 1255},\n 2015: {'game_id': 134590, 'score_diff': 69, 'Wteam': 1181, 'Lteam': 1342},\n 2016: {'game_id': 140040, 'score_diff': 73, 'Wteam': 1139, 'Lteam': 1154}}"
     },
     "execution_count": 107,
     "metadata": {},
     "output_type": "execute_result"
    }
   ],
   "source": [
    "# Write your code here\n",
    "# Initialize dictionary to store the highest score difference per season\n",
    "highest_diff_seasons = {}\n",
    "\n",
    "# Iterate over each row in the DataFrame\n",
    "for index, row in df.iterrows():\n",
    "    # Calculate the score difference for the current game\n",
    "    current_diff = row['Wscore'] - row['Lscore']\n",
    "\n",
    "    # If the current season is not in the dictionary or the current difference is higher than the recorded one, update it\n",
    "    if row['Season'] not in highest_diff_seasons or highest_diff_seasons[row['Season']]['score_diff'] < current_diff:\n",
    "        highest_diff_seasons[row['Season']] = {'game_id': index, 'score_diff': current_diff, 'Wteam': row['Wteam'], 'Lteam': row['Lteam']}\n",
    "\n",
    "highest_diff_seasons #Show dictionary containing the game with highest difference each season"
   ]
  },
  {
   "attachments": {},
   "cell_type": "markdown",
   "metadata": {},
   "source": [
    "Remember, iterating over a DataFrame should generally be avoided if a vectorized operation can be used instead, as vectorized operations are usually much faster. However, these tasks are designed to give practice with DataFrame iteration for cases where it might be necessary."
   ]
  },
  {
   "attachments": {},
   "cell_type": "markdown",
   "metadata": {},
   "source": [
    "Vectorized Operation Example: Create a new column 'HighScoringGame' in the DataFrame using a vectorized operation. This column should contain 'Yes' if the winning score is greater than 100 and 'No' otherwise. Use the np.where function from the numpy library for this task."
   ]
  },
  {
   "cell_type": "code",
   "execution_count": 75,
   "metadata": {},
   "outputs": [],
   "source": [
    "import numpy as np\n",
    "df['HighScoringGame'] = np.where(df['Wscore'] > 100, 'Yes', 'No')"
   ]
  },
  {
   "attachments": {},
   "cell_type": "markdown",
   "metadata": {},
   "source": [
    "**Q**: Vectorized Operation: Calculate the total number of games played by each team, whether they won or lost. Instead of iterating over the DataFrame, use the value_counts() function on the winning team and losing team columns separately, and then add the two Series together."
   ]
  },
  {
   "cell_type": "code",
   "execution_count": 109,
   "metadata": {},
   "outputs": [
    {
     "data": {
      "text/plain": "1101     76\n1102    840\n1103    910\n1104    975\n1105    447\n       ... \n1460    827\n1461    914\n1462    954\n1463    838\n1464    856\nLength: 364, dtype: int64"
     },
     "execution_count": 109,
     "metadata": {},
     "output_type": "execute_result"
    }
   ],
   "source": [
    "# Write your code here\n",
    "# Count number of wins for each team\n",
    "wins_count = df['Wteam'].value_counts() #Using value_counts()\n",
    "\n",
    "# Count number of losses for each team\n",
    "losses_count = df['Lteam'].value_counts() #Using value_counts()\n",
    "\n",
    "# Add both Series together to get total number of games played by each team\n",
    "total_games = wins_count.add(losses_count, fill_value=0)\n",
    "\n",
    "total_games #Show total number of games"
   ]
  },
  {
   "attachments": {},
   "cell_type": "markdown",
   "metadata": {},
   "source": [
    "**Q**: For each season, find the game with the highest score difference (winning score - losing score). Instead of iterating over the DataFrame, create a new column 'ScoreDifference' using vectorized subtraction, then use the groupby() function and idxmax() function to find the game with the highest score difference for each season."
   ]
  },
  {
   "cell_type": "code",
   "execution_count": 110,
   "metadata": {},
   "outputs": [
    {
     "data": {
      "text/plain": "        Season  Daynum  Wteam  Wscore  Lteam  Lscore Wloc  Numot  \\\n236       1985      33   1361     128   1288      68    H      0   \n4731      1986      60   1314     129   1264      45    N      0   \n8240      1987      51   1155     112   1118      39    H      0   \n12046     1988      40   1328     152   1147      84    H      0   \n16677     1989      64   1242     115   1135      45    H      0   \n19502     1990      26   1181     130   1217      54    H      0   \n25161     1991      73   1163     115   1148      47    H      0   \n27997     1992      30   1116     128   1126      46    H      0   \n33858     1993      86   1328     146   1197      65    H      0   \n36404     1994      47   1228     121   1152      52    H      0   \n39858     1995      26   1246     124   1404      50    H      0   \n44653     1996      48   1409     141   1341      50    H      0   \n49033     1997      56   1278     114   1106      34    H      0   \n52600     1998      33   1395     153   1410      87    H      0   \n57618     1999      58   1268     132   1317      57    H      0   \n60616     2000      19   1261     112   1212      37    H      0   \n65999     2001      41   1196     125   1197      50    H      0   \n70737     2002      50   1328     109   1183      50    H      0   \n74791     2003      33   1403     107   1311      35    H      0   \n79181     2004      29   1328      94   1115      24    H      0   \n83372     2005      18   1403     119   1421      55    H      0   \n89542     2006      60   1400     110   1341      38    H      0   \n94507     2007      59   1401     101   1212      27    H      0   \n97737     2008       4   1182     129   1224      59    H      0   \n103723    2009      27   1314     116   1421      48    H      0   \n108405    2010      15   1397     124   1421      49    H      0   \n114015    2011      22   1388     121   1152      52    H      0   \n118699    2012      11   1345      96   1296      34    H      0   \n124057    2013       7   1235      98   1105      40    H      0   \n131373    2014      61   1256     126   1255      52    H      0   \n134590    2015      11   1181     113   1342      44    H      0   \n140040    2016      12   1139     144   1154      71    H      0   \n\n       HighScoringGame  ScoreDifference  \n236                Yes               60  \n4731               Yes               84  \n8240               Yes               73  \n12046              Yes               68  \n16677              Yes               70  \n19502              Yes               76  \n25161              Yes               68  \n27997              Yes               82  \n33858              Yes               81  \n36404              Yes               69  \n39858              Yes               74  \n44653              Yes               91  \n49033              Yes               80  \n52600              Yes               66  \n57618              Yes               75  \n60616              Yes               75  \n65999              Yes               75  \n70737              Yes               59  \n74791              Yes               72  \n79181               No               70  \n83372              Yes               64  \n89542              Yes               72  \n94507              Yes               74  \n97737              Yes               70  \n103723             Yes               68  \n108405             Yes               75  \n114015             Yes               69  \n118699              No               62  \n124057              No               58  \n131373             Yes               74  \n134590             Yes               69  \n140040             Yes               73  ",
      "text/html": "<div>\n<style scoped>\n    .dataframe tbody tr th:only-of-type {\n        vertical-align: middle;\n    }\n\n    .dataframe tbody tr th {\n        vertical-align: top;\n    }\n\n    .dataframe thead th {\n        text-align: right;\n    }\n</style>\n<table border=\"1\" class=\"dataframe\">\n  <thead>\n    <tr style=\"text-align: right;\">\n      <th></th>\n      <th>Season</th>\n      <th>Daynum</th>\n      <th>Wteam</th>\n      <th>Wscore</th>\n      <th>Lteam</th>\n      <th>Lscore</th>\n      <th>Wloc</th>\n      <th>Numot</th>\n      <th>HighScoringGame</th>\n      <th>ScoreDifference</th>\n    </tr>\n  </thead>\n  <tbody>\n    <tr>\n      <th>236</th>\n      <td>1985</td>\n      <td>33</td>\n      <td>1361</td>\n      <td>128</td>\n      <td>1288</td>\n      <td>68</td>\n      <td>H</td>\n      <td>0</td>\n      <td>Yes</td>\n      <td>60</td>\n    </tr>\n    <tr>\n      <th>4731</th>\n      <td>1986</td>\n      <td>60</td>\n      <td>1314</td>\n      <td>129</td>\n      <td>1264</td>\n      <td>45</td>\n      <td>N</td>\n      <td>0</td>\n      <td>Yes</td>\n      <td>84</td>\n    </tr>\n    <tr>\n      <th>8240</th>\n      <td>1987</td>\n      <td>51</td>\n      <td>1155</td>\n      <td>112</td>\n      <td>1118</td>\n      <td>39</td>\n      <td>H</td>\n      <td>0</td>\n      <td>Yes</td>\n      <td>73</td>\n    </tr>\n    <tr>\n      <th>12046</th>\n      <td>1988</td>\n      <td>40</td>\n      <td>1328</td>\n      <td>152</td>\n      <td>1147</td>\n      <td>84</td>\n      <td>H</td>\n      <td>0</td>\n      <td>Yes</td>\n      <td>68</td>\n    </tr>\n    <tr>\n      <th>16677</th>\n      <td>1989</td>\n      <td>64</td>\n      <td>1242</td>\n      <td>115</td>\n      <td>1135</td>\n      <td>45</td>\n      <td>H</td>\n      <td>0</td>\n      <td>Yes</td>\n      <td>70</td>\n    </tr>\n    <tr>\n      <th>19502</th>\n      <td>1990</td>\n      <td>26</td>\n      <td>1181</td>\n      <td>130</td>\n      <td>1217</td>\n      <td>54</td>\n      <td>H</td>\n      <td>0</td>\n      <td>Yes</td>\n      <td>76</td>\n    </tr>\n    <tr>\n      <th>25161</th>\n      <td>1991</td>\n      <td>73</td>\n      <td>1163</td>\n      <td>115</td>\n      <td>1148</td>\n      <td>47</td>\n      <td>H</td>\n      <td>0</td>\n      <td>Yes</td>\n      <td>68</td>\n    </tr>\n    <tr>\n      <th>27997</th>\n      <td>1992</td>\n      <td>30</td>\n      <td>1116</td>\n      <td>128</td>\n      <td>1126</td>\n      <td>46</td>\n      <td>H</td>\n      <td>0</td>\n      <td>Yes</td>\n      <td>82</td>\n    </tr>\n    <tr>\n      <th>33858</th>\n      <td>1993</td>\n      <td>86</td>\n      <td>1328</td>\n      <td>146</td>\n      <td>1197</td>\n      <td>65</td>\n      <td>H</td>\n      <td>0</td>\n      <td>Yes</td>\n      <td>81</td>\n    </tr>\n    <tr>\n      <th>36404</th>\n      <td>1994</td>\n      <td>47</td>\n      <td>1228</td>\n      <td>121</td>\n      <td>1152</td>\n      <td>52</td>\n      <td>H</td>\n      <td>0</td>\n      <td>Yes</td>\n      <td>69</td>\n    </tr>\n    <tr>\n      <th>39858</th>\n      <td>1995</td>\n      <td>26</td>\n      <td>1246</td>\n      <td>124</td>\n      <td>1404</td>\n      <td>50</td>\n      <td>H</td>\n      <td>0</td>\n      <td>Yes</td>\n      <td>74</td>\n    </tr>\n    <tr>\n      <th>44653</th>\n      <td>1996</td>\n      <td>48</td>\n      <td>1409</td>\n      <td>141</td>\n      <td>1341</td>\n      <td>50</td>\n      <td>H</td>\n      <td>0</td>\n      <td>Yes</td>\n      <td>91</td>\n    </tr>\n    <tr>\n      <th>49033</th>\n      <td>1997</td>\n      <td>56</td>\n      <td>1278</td>\n      <td>114</td>\n      <td>1106</td>\n      <td>34</td>\n      <td>H</td>\n      <td>0</td>\n      <td>Yes</td>\n      <td>80</td>\n    </tr>\n    <tr>\n      <th>52600</th>\n      <td>1998</td>\n      <td>33</td>\n      <td>1395</td>\n      <td>153</td>\n      <td>1410</td>\n      <td>87</td>\n      <td>H</td>\n      <td>0</td>\n      <td>Yes</td>\n      <td>66</td>\n    </tr>\n    <tr>\n      <th>57618</th>\n      <td>1999</td>\n      <td>58</td>\n      <td>1268</td>\n      <td>132</td>\n      <td>1317</td>\n      <td>57</td>\n      <td>H</td>\n      <td>0</td>\n      <td>Yes</td>\n      <td>75</td>\n    </tr>\n    <tr>\n      <th>60616</th>\n      <td>2000</td>\n      <td>19</td>\n      <td>1261</td>\n      <td>112</td>\n      <td>1212</td>\n      <td>37</td>\n      <td>H</td>\n      <td>0</td>\n      <td>Yes</td>\n      <td>75</td>\n    </tr>\n    <tr>\n      <th>65999</th>\n      <td>2001</td>\n      <td>41</td>\n      <td>1196</td>\n      <td>125</td>\n      <td>1197</td>\n      <td>50</td>\n      <td>H</td>\n      <td>0</td>\n      <td>Yes</td>\n      <td>75</td>\n    </tr>\n    <tr>\n      <th>70737</th>\n      <td>2002</td>\n      <td>50</td>\n      <td>1328</td>\n      <td>109</td>\n      <td>1183</td>\n      <td>50</td>\n      <td>H</td>\n      <td>0</td>\n      <td>Yes</td>\n      <td>59</td>\n    </tr>\n    <tr>\n      <th>74791</th>\n      <td>2003</td>\n      <td>33</td>\n      <td>1403</td>\n      <td>107</td>\n      <td>1311</td>\n      <td>35</td>\n      <td>H</td>\n      <td>0</td>\n      <td>Yes</td>\n      <td>72</td>\n    </tr>\n    <tr>\n      <th>79181</th>\n      <td>2004</td>\n      <td>29</td>\n      <td>1328</td>\n      <td>94</td>\n      <td>1115</td>\n      <td>24</td>\n      <td>H</td>\n      <td>0</td>\n      <td>No</td>\n      <td>70</td>\n    </tr>\n    <tr>\n      <th>83372</th>\n      <td>2005</td>\n      <td>18</td>\n      <td>1403</td>\n      <td>119</td>\n      <td>1421</td>\n      <td>55</td>\n      <td>H</td>\n      <td>0</td>\n      <td>Yes</td>\n      <td>64</td>\n    </tr>\n    <tr>\n      <th>89542</th>\n      <td>2006</td>\n      <td>60</td>\n      <td>1400</td>\n      <td>110</td>\n      <td>1341</td>\n      <td>38</td>\n      <td>H</td>\n      <td>0</td>\n      <td>Yes</td>\n      <td>72</td>\n    </tr>\n    <tr>\n      <th>94507</th>\n      <td>2007</td>\n      <td>59</td>\n      <td>1401</td>\n      <td>101</td>\n      <td>1212</td>\n      <td>27</td>\n      <td>H</td>\n      <td>0</td>\n      <td>Yes</td>\n      <td>74</td>\n    </tr>\n    <tr>\n      <th>97737</th>\n      <td>2008</td>\n      <td>4</td>\n      <td>1182</td>\n      <td>129</td>\n      <td>1224</td>\n      <td>59</td>\n      <td>H</td>\n      <td>0</td>\n      <td>Yes</td>\n      <td>70</td>\n    </tr>\n    <tr>\n      <th>103723</th>\n      <td>2009</td>\n      <td>27</td>\n      <td>1314</td>\n      <td>116</td>\n      <td>1421</td>\n      <td>48</td>\n      <td>H</td>\n      <td>0</td>\n      <td>Yes</td>\n      <td>68</td>\n    </tr>\n    <tr>\n      <th>108405</th>\n      <td>2010</td>\n      <td>15</td>\n      <td>1397</td>\n      <td>124</td>\n      <td>1421</td>\n      <td>49</td>\n      <td>H</td>\n      <td>0</td>\n      <td>Yes</td>\n      <td>75</td>\n    </tr>\n    <tr>\n      <th>114015</th>\n      <td>2011</td>\n      <td>22</td>\n      <td>1388</td>\n      <td>121</td>\n      <td>1152</td>\n      <td>52</td>\n      <td>H</td>\n      <td>0</td>\n      <td>Yes</td>\n      <td>69</td>\n    </tr>\n    <tr>\n      <th>118699</th>\n      <td>2012</td>\n      <td>11</td>\n      <td>1345</td>\n      <td>96</td>\n      <td>1296</td>\n      <td>34</td>\n      <td>H</td>\n      <td>0</td>\n      <td>No</td>\n      <td>62</td>\n    </tr>\n    <tr>\n      <th>124057</th>\n      <td>2013</td>\n      <td>7</td>\n      <td>1235</td>\n      <td>98</td>\n      <td>1105</td>\n      <td>40</td>\n      <td>H</td>\n      <td>0</td>\n      <td>No</td>\n      <td>58</td>\n    </tr>\n    <tr>\n      <th>131373</th>\n      <td>2014</td>\n      <td>61</td>\n      <td>1256</td>\n      <td>126</td>\n      <td>1255</td>\n      <td>52</td>\n      <td>H</td>\n      <td>0</td>\n      <td>Yes</td>\n      <td>74</td>\n    </tr>\n    <tr>\n      <th>134590</th>\n      <td>2015</td>\n      <td>11</td>\n      <td>1181</td>\n      <td>113</td>\n      <td>1342</td>\n      <td>44</td>\n      <td>H</td>\n      <td>0</td>\n      <td>Yes</td>\n      <td>69</td>\n    </tr>\n    <tr>\n      <th>140040</th>\n      <td>2016</td>\n      <td>12</td>\n      <td>1139</td>\n      <td>144</td>\n      <td>1154</td>\n      <td>71</td>\n      <td>H</td>\n      <td>0</td>\n      <td>Yes</td>\n      <td>73</td>\n    </tr>\n  </tbody>\n</table>\n</div>"
     },
     "execution_count": 110,
     "metadata": {},
     "output_type": "execute_result"
    }
   ],
   "source": [
    "# Write your code here\n",
    "#Create new column for score difference\n",
    "df['ScoreDifference'] = df['Wscore'] - df['Lscore']\n",
    "\n",
    "#Grouped by season and found index of the game with highest score difference\n",
    "idx = df.groupby('Season')['ScoreDifference'].idxmax()\n",
    "\n",
    "#Used index to select rows that contain the game with the highest score difference each season\n",
    "games_with_highest_score_diff = df.loc[idx]\n",
    "\n",
    "games_with_highest_score_diff #Show games with highest score diff each season"
   ]
  },
  {
   "attachments": {},
   "cell_type": "markdown",
   "metadata": {},
   "source": [
    "# Extracting Rows and Columns"
   ]
  },
  {
   "attachments": {},
   "cell_type": "markdown",
   "metadata": {},
   "source": [
    "The bracket indexing operator is one way to extract certain columns from a dataframe."
   ]
  },
  {
   "cell_type": "code",
   "execution_count": 38,
   "metadata": {
    "collapsed": false,
    "scrolled": true
   },
   "outputs": [
    {
     "data": {
      "text/html": [
       "<div>\n",
       "<style scoped>\n",
       "    .dataframe tbody tr th:only-of-type {\n",
       "        vertical-align: middle;\n",
       "    }\n",
       "\n",
       "    .dataframe tbody tr th {\n",
       "        vertical-align: top;\n",
       "    }\n",
       "\n",
       "    .dataframe thead th {\n",
       "        text-align: right;\n",
       "    }\n",
       "</style>\n",
       "<table border=\"1\" class=\"dataframe\">\n",
       "  <thead>\n",
       "    <tr style=\"text-align: right;\">\n",
       "      <th></th>\n",
       "      <th>Wscore</th>\n",
       "      <th>Lscore</th>\n",
       "    </tr>\n",
       "  </thead>\n",
       "  <tbody>\n",
       "    <tr>\n",
       "      <th>0</th>\n",
       "      <td>81</td>\n",
       "      <td>64</td>\n",
       "    </tr>\n",
       "    <tr>\n",
       "      <th>1</th>\n",
       "      <td>77</td>\n",
       "      <td>70</td>\n",
       "    </tr>\n",
       "    <tr>\n",
       "      <th>2</th>\n",
       "      <td>63</td>\n",
       "      <td>56</td>\n",
       "    </tr>\n",
       "    <tr>\n",
       "      <th>3</th>\n",
       "      <td>70</td>\n",
       "      <td>54</td>\n",
       "    </tr>\n",
       "    <tr>\n",
       "      <th>4</th>\n",
       "      <td>86</td>\n",
       "      <td>74</td>\n",
       "    </tr>\n",
       "  </tbody>\n",
       "</table>\n",
       "</div>"
      ],
      "text/plain": [
       "   Wscore  Lscore\n",
       "0      81      64\n",
       "1      77      70\n",
       "2      63      56\n",
       "3      70      54\n",
       "4      86      74"
      ]
     },
     "execution_count": 38,
     "metadata": {},
     "output_type": "execute_result"
    }
   ],
   "source": [
    "df[['Wscore', 'Lscore']].head()"
   ]
  },
  {
   "attachments": {},
   "cell_type": "markdown",
   "metadata": {},
   "source": [
    "Notice that you can acheive the same result by using the loc function. Loc is a veryyyy versatile function that can help you in a lot of accessing and extracting tasks. "
   ]
  },
  {
   "cell_type": "code",
   "execution_count": 39,
   "metadata": {
    "collapsed": false
   },
   "outputs": [
    {
     "data": {
      "text/html": [
       "<div>\n",
       "<style scoped>\n",
       "    .dataframe tbody tr th:only-of-type {\n",
       "        vertical-align: middle;\n",
       "    }\n",
       "\n",
       "    .dataframe tbody tr th {\n",
       "        vertical-align: top;\n",
       "    }\n",
       "\n",
       "    .dataframe thead th {\n",
       "        text-align: right;\n",
       "    }\n",
       "</style>\n",
       "<table border=\"1\" class=\"dataframe\">\n",
       "  <thead>\n",
       "    <tr style=\"text-align: right;\">\n",
       "      <th></th>\n",
       "      <th>Wscore</th>\n",
       "      <th>Lscore</th>\n",
       "    </tr>\n",
       "  </thead>\n",
       "  <tbody>\n",
       "    <tr>\n",
       "      <th>0</th>\n",
       "      <td>81</td>\n",
       "      <td>64</td>\n",
       "    </tr>\n",
       "    <tr>\n",
       "      <th>1</th>\n",
       "      <td>77</td>\n",
       "      <td>70</td>\n",
       "    </tr>\n",
       "    <tr>\n",
       "      <th>2</th>\n",
       "      <td>63</td>\n",
       "      <td>56</td>\n",
       "    </tr>\n",
       "    <tr>\n",
       "      <th>3</th>\n",
       "      <td>70</td>\n",
       "      <td>54</td>\n",
       "    </tr>\n",
       "    <tr>\n",
       "      <th>4</th>\n",
       "      <td>86</td>\n",
       "      <td>74</td>\n",
       "    </tr>\n",
       "  </tbody>\n",
       "</table>\n",
       "</div>"
      ],
      "text/plain": [
       "   Wscore  Lscore\n",
       "0      81      64\n",
       "1      77      70\n",
       "2      63      56\n",
       "3      70      54\n",
       "4      86      74"
      ]
     },
     "execution_count": 39,
     "metadata": {},
     "output_type": "execute_result"
    }
   ],
   "source": [
    "df.loc[:, ['Wscore', 'Lscore']].head()"
   ]
  },
  {
   "attachments": {},
   "cell_type": "markdown",
   "metadata": {},
   "source": [
    "Note the difference is the return types when you use brackets and when you use double brackets. "
   ]
  },
  {
   "cell_type": "code",
   "execution_count": 40,
   "metadata": {
    "collapsed": false
   },
   "outputs": [
    {
     "data": {
      "text/plain": [
       "pandas.core.series.Series"
      ]
     },
     "execution_count": 40,
     "metadata": {},
     "output_type": "execute_result"
    }
   ],
   "source": [
    "type(df['Wscore'])"
   ]
  },
  {
   "cell_type": "code",
   "execution_count": 41,
   "metadata": {
    "collapsed": false
   },
   "outputs": [
    {
     "data": {
      "text/plain": [
       "pandas.core.frame.DataFrame"
      ]
     },
     "execution_count": 41,
     "metadata": {},
     "output_type": "execute_result"
    }
   ],
   "source": [
    "type(df[['Wscore']])"
   ]
  },
  {
   "attachments": {},
   "cell_type": "markdown",
   "metadata": {},
   "source": [
    "You've seen before that you can access columns through df['col name']. You can access rows by using slicing operations. "
   ]
  },
  {
   "cell_type": "code",
   "execution_count": 42,
   "metadata": {
    "collapsed": false
   },
   "outputs": [
    {
     "data": {
      "text/html": [
       "<div>\n",
       "<style scoped>\n",
       "    .dataframe tbody tr th:only-of-type {\n",
       "        vertical-align: middle;\n",
       "    }\n",
       "\n",
       "    .dataframe tbody tr th {\n",
       "        vertical-align: top;\n",
       "    }\n",
       "\n",
       "    .dataframe thead th {\n",
       "        text-align: right;\n",
       "    }\n",
       "</style>\n",
       "<table border=\"1\" class=\"dataframe\">\n",
       "  <thead>\n",
       "    <tr style=\"text-align: right;\">\n",
       "      <th></th>\n",
       "      <th>Season</th>\n",
       "      <th>Daynum</th>\n",
       "      <th>Wteam</th>\n",
       "      <th>Wscore</th>\n",
       "      <th>Lteam</th>\n",
       "      <th>Lscore</th>\n",
       "      <th>Wloc</th>\n",
       "      <th>Numot</th>\n",
       "    </tr>\n",
       "  </thead>\n",
       "  <tbody>\n",
       "    <tr>\n",
       "      <th>0</th>\n",
       "      <td>1985</td>\n",
       "      <td>20</td>\n",
       "      <td>1228</td>\n",
       "      <td>81</td>\n",
       "      <td>1328</td>\n",
       "      <td>64</td>\n",
       "      <td>N</td>\n",
       "      <td>0</td>\n",
       "    </tr>\n",
       "    <tr>\n",
       "      <th>1</th>\n",
       "      <td>1985</td>\n",
       "      <td>25</td>\n",
       "      <td>1106</td>\n",
       "      <td>77</td>\n",
       "      <td>1354</td>\n",
       "      <td>70</td>\n",
       "      <td>H</td>\n",
       "      <td>0</td>\n",
       "    </tr>\n",
       "    <tr>\n",
       "      <th>2</th>\n",
       "      <td>1985</td>\n",
       "      <td>25</td>\n",
       "      <td>1112</td>\n",
       "      <td>63</td>\n",
       "      <td>1223</td>\n",
       "      <td>56</td>\n",
       "      <td>H</td>\n",
       "      <td>0</td>\n",
       "    </tr>\n",
       "  </tbody>\n",
       "</table>\n",
       "</div>"
      ],
      "text/plain": [
       "   Season  Daynum  Wteam  Wscore  Lteam  Lscore Wloc  Numot\n",
       "0    1985      20   1228      81   1328      64    N      0\n",
       "1    1985      25   1106      77   1354      70    H      0\n",
       "2    1985      25   1112      63   1223      56    H      0"
      ]
     },
     "execution_count": 42,
     "metadata": {},
     "output_type": "execute_result"
    }
   ],
   "source": [
    "df[0:3]"
   ]
  },
  {
   "attachments": {},
   "cell_type": "markdown",
   "metadata": {},
   "source": [
    "Here's an equivalent using iloc"
   ]
  },
  {
   "cell_type": "code",
   "execution_count": 43,
   "metadata": {
    "collapsed": false
   },
   "outputs": [
    {
     "data": {
      "text/html": [
       "<div>\n",
       "<style scoped>\n",
       "    .dataframe tbody tr th:only-of-type {\n",
       "        vertical-align: middle;\n",
       "    }\n",
       "\n",
       "    .dataframe tbody tr th {\n",
       "        vertical-align: top;\n",
       "    }\n",
       "\n",
       "    .dataframe thead th {\n",
       "        text-align: right;\n",
       "    }\n",
       "</style>\n",
       "<table border=\"1\" class=\"dataframe\">\n",
       "  <thead>\n",
       "    <tr style=\"text-align: right;\">\n",
       "      <th></th>\n",
       "      <th>Season</th>\n",
       "      <th>Daynum</th>\n",
       "      <th>Wteam</th>\n",
       "      <th>Wscore</th>\n",
       "      <th>Lteam</th>\n",
       "      <th>Lscore</th>\n",
       "      <th>Wloc</th>\n",
       "      <th>Numot</th>\n",
       "    </tr>\n",
       "  </thead>\n",
       "  <tbody>\n",
       "    <tr>\n",
       "      <th>0</th>\n",
       "      <td>1985</td>\n",
       "      <td>20</td>\n",
       "      <td>1228</td>\n",
       "      <td>81</td>\n",
       "      <td>1328</td>\n",
       "      <td>64</td>\n",
       "      <td>N</td>\n",
       "      <td>0</td>\n",
       "    </tr>\n",
       "    <tr>\n",
       "      <th>1</th>\n",
       "      <td>1985</td>\n",
       "      <td>25</td>\n",
       "      <td>1106</td>\n",
       "      <td>77</td>\n",
       "      <td>1354</td>\n",
       "      <td>70</td>\n",
       "      <td>H</td>\n",
       "      <td>0</td>\n",
       "    </tr>\n",
       "    <tr>\n",
       "      <th>2</th>\n",
       "      <td>1985</td>\n",
       "      <td>25</td>\n",
       "      <td>1112</td>\n",
       "      <td>63</td>\n",
       "      <td>1223</td>\n",
       "      <td>56</td>\n",
       "      <td>H</td>\n",
       "      <td>0</td>\n",
       "    </tr>\n",
       "  </tbody>\n",
       "</table>\n",
       "</div>"
      ],
      "text/plain": [
       "   Season  Daynum  Wteam  Wscore  Lteam  Lscore Wloc  Numot\n",
       "0    1985      20   1228      81   1328      64    N      0\n",
       "1    1985      25   1106      77   1354      70    H      0\n",
       "2    1985      25   1112      63   1223      56    H      0"
      ]
     },
     "execution_count": 43,
     "metadata": {},
     "output_type": "execute_result"
    }
   ],
   "source": [
    "df.iloc[0:3,:]"
   ]
  },
  {
   "attachments": {},
   "cell_type": "markdown",
   "metadata": {},
   "source": [
    "# Data Cleaning"
   ]
  },
  {
   "attachments": {},
   "cell_type": "markdown",
   "metadata": {},
   "source": [
    "One of the big jobs of doing well in Kaggle competitions is that of data cleaning. A lot of times, the CSV file you're given (especially like in the Titanic dataset), you'll have a lot of missing values in the dataset, which you have to identify. The following **isnull** function will figure out if there are any missing values in the dataframe, and will then sum up the total for each column. In this case, we have a pretty clean dataset."
   ]
  },
  {
   "cell_type": "code",
   "execution_count": 44,
   "metadata": {
    "collapsed": false
   },
   "outputs": [
    {
     "data": {
      "text/plain": [
       "Season    0\n",
       "Daynum    0\n",
       "Wteam     0\n",
       "Wscore    0\n",
       "Lteam     0\n",
       "Lscore    0\n",
       "Wloc      0\n",
       "Numot     0\n",
       "dtype: int64"
      ]
     },
     "execution_count": 44,
     "metadata": {},
     "output_type": "execute_result"
    }
   ],
   "source": [
    "df.isnull().sum()"
   ]
  },
  {
   "attachments": {},
   "cell_type": "markdown",
   "metadata": {},
   "source": [
    "If you do end up having missing values in your datasets, be sure to get familiar with these two functions. \n",
    "* **dropna()** - This function allows you to drop all(or some) of the rows that have missing values. \n",
    "* **fillna()** - This function allows you replace the rows that have missing values with the value that you pass in."
   ]
  },
  {
   "attachments": {},
   "cell_type": "markdown",
   "metadata": {},
   "source": [
    "# Other Useful Functions"
   ]
  },
  {
   "attachments": {},
   "cell_type": "markdown",
   "metadata": {},
   "source": [
    "* **drop()** - This function removes the column or row that you pass in (You also have the specify the axis). \n",
    "* **agg()** - The aggregate function lets you compute summary statistics about each group\n",
    "* **apply()** - Lets you apply a specific function to any/all elements in a Dataframe or Series\n",
    "* **get_dummies()** - Helpful for turning categorical data into one hot vectors.\n",
    "* **drop_duplicates()** - Lets you remove identical rows"
   ]
  },
  {
   "attachments": {},
   "cell_type": "markdown",
   "metadata": {
    "collapsed": true
   },
   "source": [
    "# Lots of Other Great Resources"
   ]
  },
  {
   "attachments": {},
   "cell_type": "markdown",
   "metadata": {},
   "source": [
    "Pandas has been around for a while and there are a lot of other good resources if you're still interested on getting the most out of this library. \n",
    "* http://pandas.pydata.org/pandas-docs/stable/10min.html\n",
    "* https://www.datacamp.com/community/tutorials/pandas-tutorial-dataframe-python\n",
    "* http://www.gregreda.com/2013/10/26/intro-to-pandas-data-structures/\n",
    "* https://www.dataquest.io/blog/pandas-python-tutorial/\n",
    "* https://drive.google.com/file/d/0ByIrJAE4KMTtTUtiVExiUGVkRkE/view\n",
    "* https://www.youtube.com/playlist?list=PL5-da3qGB5ICCsgW1MxlZ0Hq8LL5U3u9y"
   ]
  }
 ],
 "metadata": {
  "anaconda-cloud": {},
  "kernelspec": {
   "display_name": "base",
   "language": "python",
   "name": "python3"
  },
  "language_info": {
   "codemirror_mode": {
    "name": "ipython",
    "version": 3
   },
   "file_extension": ".py",
   "mimetype": "text/x-python",
   "name": "python",
   "nbconvert_exporter": "python",
   "pygments_lexer": "ipython3",
   "version": "3.9.13"
  }
 },
 "nbformat": 4,
 "nbformat_minor": 1
}
