{
 "cells": [
  {
   "attachments": {},
   "cell_type": "markdown",
   "metadata": {},
   "source": [
    "# Project 2：NASA Data Acquisation, Visualization, and Analysis"
   ]
  },
  {
   "cell_type": "code",
   "execution_count": 1,
   "metadata": {},
   "outputs": [],
   "source": [
    "# The code makes sure that once there is change in the 'src/' folder, the \n",
    "# change will be automatically reloaded in the notebook.\n",
    "%reload_ext autoreload\n",
    "%autoreload 2\n",
    "%aimport src"
   ]
  },
  {
   "attachments": {},
   "cell_type": "markdown",
   "metadata": {},
   "source": [
    "### Task 1: Understanding the NASA API and Data Collection\n",
    "\n",
    "- Register for a NASA API key and understand the different types of data that the API provides.\n",
    "- Run the Python script below to fetch data about **Near Earth Objects (NEOs)** from the NASA API for a years data.\n",
    "- Extract and understand the different pieces of data provided for each NEO."
   ]
  },
  {
   "cell_type": "code",
   "execution_count": 2,
   "metadata": {},
   "outputs": [],
   "source": [
    "import requests\n",
    "import time\n",
    "from datetime import datetime, timedelta\n",
    "from getpass import getpass\n",
    "\n",
    "# Set your NASA API KEY, this step asks you to enter your API KEY.\n",
    "# (The input box may be float in the top on your editor.)\n",
    "api_key = getpass()"
   ]
  },
  {
   "cell_type": "code",
   "execution_count": 6,
   "metadata": {},
   "outputs": [],
   "source": [
    "# Set the start and end dates for the data you want to fetch\n",
    "start_date = datetime.strptime('2022-01-01', '%Y-%m-%d')\n",
    "end_date = start_date + timedelta(days=364)  # 1 year later\n",
    "\n",
    "# Initialize a list to store the data\n",
    "data = []\n",
    "\n",
    "# Fetch data from the NASA API 7 days at a time\n",
    "# The introduction of the API is on https://api.nasa.gov, under \"Browse APIs\" -> \"Asteroids NeoWs\"\n",
    "# You can look into the example query in the link below to see what the data look like:\n",
    "# https://api.nasa.gov/neo/rest/v1/feed?start_date=2015-09-07&end_date=2015-09-08&api_key=DEMO_KEY\n",
    "current_date = start_date\n",
    "while current_date < end_date:\n",
    "    next_date = min(current_date + timedelta(days=7), end_date)\n",
    "    response = requests.get(f'https://api.nasa.gov/neo/rest/v1/feed?start_date={current_date.strftime(\"%Y-%m-%d\")}&end_date={next_date.strftime(\"%Y-%m-%d\")}&api_key={api_key}')\n",
    "    data.append(response.json())\n",
    "    current_date = next_date + timedelta(days=1) #Incremented current_date by a day. Necessary to prevent overlap\n",
    "    time.sleep(1)  # To avoid hitting the rate limit\n",
    "\n",
    "# Now 'data' contains the NEO data for the 1-year period"
   ]
  },
  {
   "cell_type": "code",
   "execution_count": 10,
   "metadata": {},
   "outputs": [
    {
     "name": "stdout",
     "output_type": "stream",
     "text": [
      "['2022-01-01', '2022-01-02', '2022-01-03', '2022-01-04', '2022-01-05', '2022-01-06', '2022-01-07', '2022-01-08', '2022-01-09', '2022-01-10', '2022-01-11', '2022-01-12', '2022-01-13', '2022-01-14', '2022-01-15', '2022-01-16', '2022-01-17', '2022-01-18', '2022-01-19', '2022-01-20', '2022-01-21', '2022-01-22', '2022-01-23', '2022-01-24', '2022-01-25', '2022-01-26', '2022-01-27', '2022-01-28', '2022-01-29', '2022-01-30', '2022-01-31', '2022-02-01', '2022-02-02', '2022-02-03', '2022-02-04', '2022-02-05', '2022-02-06', '2022-02-07', '2022-02-08', '2022-02-09', '2022-02-10', '2022-02-11', '2022-02-12', '2022-02-13', '2022-02-14', '2022-02-15', '2022-02-16', '2022-02-17', '2022-02-18', '2022-02-19', '2022-02-20', '2022-02-21', '2022-02-22', '2022-02-23', '2022-02-24', '2022-02-25', '2022-02-26', '2022-02-27', '2022-02-28', '2022-03-01', '2022-03-02', '2022-03-03', '2022-03-04', '2022-03-05', '2022-03-06', '2022-03-07', '2022-03-08', '2022-03-09', '2022-03-10', '2022-03-11', '2022-03-12', '2022-03-13', '2022-03-14', '2022-03-15', '2022-03-16', '2022-03-17', '2022-03-18', '2022-03-19', '2022-03-20', '2022-03-21', '2022-03-22', '2022-03-23', '2022-03-24', '2022-03-25', '2022-03-26', '2022-03-27', '2022-03-28', '2022-03-29', '2022-03-30', '2022-03-31', '2022-04-01', '2022-04-02', '2022-04-03', '2022-04-04', '2022-04-05', '2022-04-06', '2022-04-07', '2022-04-08', '2022-04-09', '2022-04-10', '2022-04-11', '2022-04-12', '2022-04-13', '2022-04-14', '2022-04-15', '2022-04-16', '2022-04-17', '2022-04-18', '2022-04-19', '2022-04-20', '2022-04-21', '2022-04-22', '2022-04-23', '2022-04-24', '2022-04-25', '2022-04-26', '2022-04-27', '2022-04-28', '2022-04-29', '2022-04-30', '2022-05-01', '2022-05-02', '2022-05-03', '2022-05-04', '2022-05-05', '2022-05-06', '2022-05-07', '2022-05-08', '2022-05-09', '2022-05-10', '2022-05-11', '2022-05-12', '2022-05-13', '2022-05-14', '2022-05-15', '2022-05-16', '2022-05-17', '2022-05-18', '2022-05-19', '2022-05-20', '2022-05-21', '2022-05-22', '2022-05-23', '2022-05-24', '2022-05-25', '2022-05-27', '2022-05-28', '2022-05-29', '2022-05-30', '2022-05-31', '2022-06-01', '2022-06-02', '2022-06-03', '2022-06-04', '2022-06-05', '2022-06-06', '2022-06-07', '2022-06-08', '2022-06-09', '2022-06-10', '2022-06-11', '2022-06-12', '2022-06-13', '2022-06-14', '2022-06-15', '2022-06-16', '2022-06-17', '2022-06-18', '2022-06-19', '2022-06-20', '2022-06-21', '2022-06-22', '2022-06-23', '2022-06-24', '2022-06-25', '2022-06-26', '2022-06-27', '2022-06-28', '2022-06-29', '2022-06-30', '2022-07-01', '2022-07-02', '2022-07-03', '2022-07-04', '2022-07-05', '2022-07-06', '2022-07-07', '2022-07-08', '2022-07-09', '2022-07-10', '2022-07-11', '2022-07-12', '2022-07-13', '2022-07-14', '2022-07-15', '2022-07-16', '2022-07-17', '2022-07-18', '2022-07-19', '2022-07-20', '2022-07-21', '2022-07-22', '2022-07-23', '2022-07-24', '2022-07-25', '2022-07-26', '2022-07-27', '2022-07-28', '2022-07-29', '2022-07-30', '2022-07-31', '2022-08-01', '2022-08-02', '2022-08-03', '2022-08-04', '2022-08-05', '2022-08-06', '2022-08-07', '2022-08-08', '2022-08-09', '2022-08-10', '2022-08-11', '2022-08-12', '2022-08-13', '2022-08-14', '2022-08-15', '2022-08-16', '2022-08-17', '2022-08-18', '2022-08-19', '2022-08-20', '2022-08-21', '2022-08-22', '2022-08-23', '2022-08-24', '2022-08-25', '2022-08-26', '2022-08-27', '2022-08-28', '2022-08-29', '2022-08-30', '2022-08-31', '2022-09-01', '2022-09-02', '2022-09-03', '2022-09-04', '2022-09-05', '2022-09-06', '2022-09-07', '2022-09-08', '2022-09-09', '2022-09-10', '2022-09-11', '2022-09-12', '2022-09-13', '2022-09-14', '2022-09-15', '2022-09-16', '2022-09-17', '2022-09-18', '2022-09-19', '2022-09-20', '2022-09-21', '2022-09-22', '2022-09-23', '2022-09-24', '2022-09-25', '2022-09-26', '2022-09-27', '2022-09-28', '2022-09-29', '2022-09-30', '2022-10-01', '2022-10-02', '2022-10-03', '2022-10-04', '2022-10-05', '2022-10-06', '2022-10-07', '2022-10-08', '2022-10-09', '2022-10-10', '2022-10-11', '2022-10-12', '2022-10-13', '2022-10-14', '2022-10-15', '2022-10-16', '2022-10-17', '2022-10-18', '2022-10-19', '2022-10-20', '2022-10-21', '2022-10-22', '2022-10-23', '2022-10-24', '2022-10-25', '2022-10-26', '2022-10-27', '2022-10-28', '2022-10-29', '2022-10-30', '2022-10-31', '2022-11-01', '2022-11-02', '2022-11-03', '2022-11-04', '2022-11-05', '2022-11-06', '2022-11-07', '2022-11-08', '2022-11-09', '2022-11-10', '2022-11-11', '2022-11-12', '2022-11-13', '2022-11-14', '2022-11-15', '2022-11-16', '2022-11-17', '2022-11-18', '2022-11-19', '2022-11-20', '2022-11-21', '2022-11-22', '2022-11-23', '2022-11-24', '2022-11-25', '2022-11-26', '2022-11-27', '2022-11-28', '2022-11-29', '2022-11-30', '2022-12-01', '2022-12-02', '2022-12-03', '2022-12-04', '2022-12-05', '2022-12-06', '2022-12-07', '2022-12-08', '2022-12-09', '2022-12-10', '2022-12-11', '2022-12-12', '2022-12-13', '2022-12-14', '2022-12-15', '2022-12-16', '2022-12-17', '2022-12-18', '2022-12-19', '2022-12-20', '2022-12-21', '2022-12-22', '2022-12-23', '2022-12-24', '2022-12-25', '2022-12-26', '2022-12-27', '2022-12-28', '2022-12-29', '2022-12-30', '2022-12-31']\n"
     ]
    }
   ],
   "source": [
    "# Check the date coverage of your data.\n",
    "dates_contained_in_data = []\n",
    "for d in data:\n",
    "    dates_contained_in_data += list(d['near_earth_objects'].keys())\n",
    "\n",
    "print(sorted(dates_contained_in_data))"
   ]
  },
  {
   "cell_type": "code",
   "execution_count": 120,
   "metadata": {},
   "outputs": [],
   "source": [
    "from src.utils import get_a_random_chunk_property\n",
    "get_a_random_chunk_property(data)"
   ]
  },
  {
   "attachments": {},
   "cell_type": "markdown",
   "metadata": {},
   "source": [
    "For the remaining tasks, you have to organize the data as pd.DataFrame so as to suit the specific need in each task. This part may require a considerably amount of efforts, which is normal in data science and analytics works."
   ]
  },
  {
   "cell_type": "code",
   "execution_count": 8,
   "outputs": [],
   "source": [
    "#Save to pickle\n",
    "import pickle\n",
    "with open('NASAdata_raw.pkl', 'wb') as f:\n",
    "    pickle.dump(data, f)"
   ],
   "metadata": {
    "collapsed": false
   }
  },
  {
   "cell_type": "code",
   "execution_count": 11,
   "outputs": [],
   "source": [
    "#Import from pickle\n",
    "import pickle\n",
    "with open('NASAdata_raw.pkl', 'rb') as f:\n",
    "    data = pickle.load(f)"
   ],
   "metadata": {
    "collapsed": false
   }
  },
  {
   "cell_type": "code",
   "execution_count": 34,
   "outputs": [
    {
     "data": {
      "text/plain": "            date       id                 name  absolute_magnitude_h  \\\n0     2022-01-07  2216523    216523 (2001 HY7)                 20.70   \n1     2022-01-07  2494697   494697 (2004 SW55)                 20.77   \n2     2022-01-07  2496860  496860 (1999 XL136)                 19.67   \n3     2022-01-07  3311963           (2006 AL4)                 24.92   \n4     2022-01-07  3401388            (2008 CO)                 22.60   \n...          ...      ...                  ...                   ...   \n2669  2022-12-31  3989139           (2020 BW5)                 26.41   \n2670  2022-12-31  3989355            (2020 CB)                 27.70   \n2671  2022-12-30  3367130          (2007 BB49)                 19.69   \n2672  2022-12-30  3373981            (2007 HC)                 25.20   \n2673  2022-12-30  3723817         (2015 MO116)                 24.00   \n\n      estimated_diameter_min (m)  estimated_diameter_max (m)  \\\n0                     192.555078                  430.566244   \n1                     186.446818                  416.907760   \n2                     309.424699                  691.894660   \n3                      27.577505                   61.665176   \n4                      80.270317                  179.489885   \n...                          ...                         ...   \n2669                   13.885291                   31.048454   \n2670                    7.665756                   17.141151   \n2671                  306.587876                  685.551332   \n2672                   24.241248                   54.205079   \n2673                   42.126461                   94.197631   \n\n      potentially_hazardous  close_apporoach_date_full  \\\n0                      True                        NaN   \n1                      True                        NaN   \n2                      True                        NaN   \n3                     False                        NaN   \n4                     False                        NaN   \n...                     ...                        ...   \n2669                  False                        NaN   \n2670                  False                        NaN   \n2671                  False                        NaN   \n2672                  False                        NaN   \n2673                  False                        NaN   \n\n     relative_velocity (km/s)  miss_distance (km) orbiting_body  \\\n0               13.0121883425  58057611.156145579         Earth   \n1               10.0478001196  20026767.655944806         Earth   \n2               16.7624360583  13396080.931113835         Earth   \n3                9.4579600698   14239203.68058826         Earth   \n4                4.4645655825  30934770.472739391         Earth   \n...                       ...                 ...           ...   \n2669             6.2101753206  62348309.884604931         Earth   \n2670              4.478349521  27830701.407084417         Earth   \n2671              8.225655557  55425577.809005498         Earth   \n2672             7.8507811715  62027014.978776625         Earth   \n2673            10.3643718018  67630465.339974226         Earth   \n\n      is_sentry_object  \n0                False  \n1                False  \n2                False  \n3                False  \n4                False  \n...                ...  \n2669             False  \n2670             False  \n2671             False  \n2672             False  \n2673             False  \n\n[2674 rows x 12 columns]",
      "text/html": "<div>\n<style scoped>\n    .dataframe tbody tr th:only-of-type {\n        vertical-align: middle;\n    }\n\n    .dataframe tbody tr th {\n        vertical-align: top;\n    }\n\n    .dataframe thead th {\n        text-align: right;\n    }\n</style>\n<table border=\"1\" class=\"dataframe\">\n  <thead>\n    <tr style=\"text-align: right;\">\n      <th></th>\n      <th>date</th>\n      <th>id</th>\n      <th>name</th>\n      <th>absolute_magnitude_h</th>\n      <th>estimated_diameter_min (m)</th>\n      <th>estimated_diameter_max (m)</th>\n      <th>potentially_hazardous</th>\n      <th>close_apporoach_date_full</th>\n      <th>relative_velocity (km/s)</th>\n      <th>miss_distance (km)</th>\n      <th>orbiting_body</th>\n      <th>is_sentry_object</th>\n    </tr>\n  </thead>\n  <tbody>\n    <tr>\n      <th>0</th>\n      <td>2022-01-07</td>\n      <td>2216523</td>\n      <td>216523 (2001 HY7)</td>\n      <td>20.70</td>\n      <td>192.555078</td>\n      <td>430.566244</td>\n      <td>True</td>\n      <td>NaN</td>\n      <td>13.0121883425</td>\n      <td>58057611.156145579</td>\n      <td>Earth</td>\n      <td>False</td>\n    </tr>\n    <tr>\n      <th>1</th>\n      <td>2022-01-07</td>\n      <td>2494697</td>\n      <td>494697 (2004 SW55)</td>\n      <td>20.77</td>\n      <td>186.446818</td>\n      <td>416.907760</td>\n      <td>True</td>\n      <td>NaN</td>\n      <td>10.0478001196</td>\n      <td>20026767.655944806</td>\n      <td>Earth</td>\n      <td>False</td>\n    </tr>\n    <tr>\n      <th>2</th>\n      <td>2022-01-07</td>\n      <td>2496860</td>\n      <td>496860 (1999 XL136)</td>\n      <td>19.67</td>\n      <td>309.424699</td>\n      <td>691.894660</td>\n      <td>True</td>\n      <td>NaN</td>\n      <td>16.7624360583</td>\n      <td>13396080.931113835</td>\n      <td>Earth</td>\n      <td>False</td>\n    </tr>\n    <tr>\n      <th>3</th>\n      <td>2022-01-07</td>\n      <td>3311963</td>\n      <td>(2006 AL4)</td>\n      <td>24.92</td>\n      <td>27.577505</td>\n      <td>61.665176</td>\n      <td>False</td>\n      <td>NaN</td>\n      <td>9.4579600698</td>\n      <td>14239203.68058826</td>\n      <td>Earth</td>\n      <td>False</td>\n    </tr>\n    <tr>\n      <th>4</th>\n      <td>2022-01-07</td>\n      <td>3401388</td>\n      <td>(2008 CO)</td>\n      <td>22.60</td>\n      <td>80.270317</td>\n      <td>179.489885</td>\n      <td>False</td>\n      <td>NaN</td>\n      <td>4.4645655825</td>\n      <td>30934770.472739391</td>\n      <td>Earth</td>\n      <td>False</td>\n    </tr>\n    <tr>\n      <th>...</th>\n      <td>...</td>\n      <td>...</td>\n      <td>...</td>\n      <td>...</td>\n      <td>...</td>\n      <td>...</td>\n      <td>...</td>\n      <td>...</td>\n      <td>...</td>\n      <td>...</td>\n      <td>...</td>\n      <td>...</td>\n    </tr>\n    <tr>\n      <th>2669</th>\n      <td>2022-12-31</td>\n      <td>3989139</td>\n      <td>(2020 BW5)</td>\n      <td>26.41</td>\n      <td>13.885291</td>\n      <td>31.048454</td>\n      <td>False</td>\n      <td>NaN</td>\n      <td>6.2101753206</td>\n      <td>62348309.884604931</td>\n      <td>Earth</td>\n      <td>False</td>\n    </tr>\n    <tr>\n      <th>2670</th>\n      <td>2022-12-31</td>\n      <td>3989355</td>\n      <td>(2020 CB)</td>\n      <td>27.70</td>\n      <td>7.665756</td>\n      <td>17.141151</td>\n      <td>False</td>\n      <td>NaN</td>\n      <td>4.478349521</td>\n      <td>27830701.407084417</td>\n      <td>Earth</td>\n      <td>False</td>\n    </tr>\n    <tr>\n      <th>2671</th>\n      <td>2022-12-30</td>\n      <td>3367130</td>\n      <td>(2007 BB49)</td>\n      <td>19.69</td>\n      <td>306.587876</td>\n      <td>685.551332</td>\n      <td>False</td>\n      <td>NaN</td>\n      <td>8.225655557</td>\n      <td>55425577.809005498</td>\n      <td>Earth</td>\n      <td>False</td>\n    </tr>\n    <tr>\n      <th>2672</th>\n      <td>2022-12-30</td>\n      <td>3373981</td>\n      <td>(2007 HC)</td>\n      <td>25.20</td>\n      <td>24.241248</td>\n      <td>54.205079</td>\n      <td>False</td>\n      <td>NaN</td>\n      <td>7.8507811715</td>\n      <td>62027014.978776625</td>\n      <td>Earth</td>\n      <td>False</td>\n    </tr>\n    <tr>\n      <th>2673</th>\n      <td>2022-12-30</td>\n      <td>3723817</td>\n      <td>(2015 MO116)</td>\n      <td>24.00</td>\n      <td>42.126461</td>\n      <td>94.197631</td>\n      <td>False</td>\n      <td>NaN</td>\n      <td>10.3643718018</td>\n      <td>67630465.339974226</td>\n      <td>Earth</td>\n      <td>False</td>\n    </tr>\n  </tbody>\n</table>\n<p>2674 rows × 12 columns</p>\n</div>"
     },
     "execution_count": 34,
     "metadata": {},
     "output_type": "execute_result"
    }
   ],
   "source": [
    "import pandas as pd\n",
    "temp_dfs = []   #Create a temp list to store all the dataframe we are going to generate\n",
    "\n",
    "for d in data:      #The way the data is saved to a list leaves it in pieces that we have to go over\n",
    "    for day in d['near_earth_objects']:\n",
    "        subset = d['near_earth_objects'][day]   #We take a subset consisting of all object logged that day\n",
    "        df_temp = pd.json_normalize(subset)     #Turn the subset into a dataframe\n",
    "        df_temp2 = pd.json_normalize(subset, record_path='close_approach_data') #Normalize doesn't catch close_approach_data for some reason, so we single that out too\n",
    "        df_temp = pd.concat([df_temp, df_temp2], axis=1) #Combine the two temp dataframes\n",
    "        df_temp = df_temp[['id',        #Retrieve the columns we want\n",
    "                           'name',\n",
    "                           'absolute_magnitude_h',\n",
    "                           'estimated_diameter.meters.estimated_diameter_min', #meters\n",
    "                           'estimated_diameter.meters.estimated_diameter_max', #meters\n",
    "                           'is_potentially_hazardous_asteroid',\n",
    "                           'close_approach_date_full',\n",
    "                           'relative_velocity.kilometers_per_second',   #kilometers per second\n",
    "                           'miss_distance.kilometers',      #kilometers\n",
    "                           'orbiting_body',\n",
    "                           'is_sentry_object']]\n",
    "        df_temp.rename(columns={'estimated_diameter.meters.estimated_diameter_min': 'estimated_diameter_min (m)',\n",
    "                                'estimated_diameter.meters.estimated_diameter_max': 'estimated_diameter_max (m)',\n",
    "                                'relative_velocity.kilometers_per_second': 'relative_velocity (km/s)',\n",
    "                                'miss_distance.kilometers': 'miss_distance (km)',\n",
    "                                'is_potentially_hazardous_asteroid': 'potentially_hazardous'}, inplace=True)\n",
    "        df_temp['date'] = day       #Save the date in a new column\n",
    "        orderedColumns = ['date', 'id', 'name', 'absolute_magnitude_h', 'estimated_diameter_min (m)',\n",
    "                          'estimated_diameter_max (m)', 'potentially_hazardous', 'close_apporoach_date_full',\n",
    "                          'relative_velocity (km/s)', 'miss_distance (km)', 'orbiting_body', 'is_sentry_object']\n",
    "        df_temp = df_temp.reindex(columns=orderedColumns)\n",
    "        temp_dfs.append(df_temp)    #Save the dataframe in a temp list\n",
    "\n",
    "df = pd.concat(temp_dfs, ignore_index=True)     #Combine all the saved dataframes\n",
    "df"
   ],
   "metadata": {
    "collapsed": false
   }
  },
  {
   "cell_type": "code",
   "execution_count": 35,
   "outputs": [],
   "source": [
    "#Save to pickle\n",
    "import pickle\n",
    "with open('NASAdata_df.pkl', 'wb') as f:\n",
    "    pickle.dump(df, f)"
   ],
   "metadata": {
    "collapsed": false
   }
  },
  {
   "cell_type": "code",
   "execution_count": 37,
   "outputs": [],
   "source": [
    "#Import from pickle\n",
    "import pickle\n",
    "with open('NASAdata_df.pkl', 'rb') as f:\n",
    "    df = pickle.load(f)\n",
    "df"
   ],
   "metadata": {
    "collapsed": false
   }
  },
  {
   "attachments": {},
   "cell_type": "markdown",
   "metadata": {},
   "source": [
    "### Task 2: Data Analysis\n",
    "\n",
    "- Calculate the average size of the NEOs for each day.\n",
    "- Determine the proportion of NEOs that are potentially hazardous.\n",
    "- Find the NEO with the closest approach distance for each day.\n",
    "- Use statistical methods to analyze the data. For example, calculate the mean, median, mode, and standard deviation of the NEO sizes. Determine if the size of a NEO is correlated with whether it is potentially hazardous."
   ]
  },
  {
   "cell_type": "code",
   "execution_count": 98,
   "metadata": {},
   "outputs": [],
   "source": [
    "# Write your code"
   ]
  },
  {
   "attachments": {},
   "cell_type": "markdown",
   "metadata": {},
   "source": [
    "### Task 3: Data Visualization Part A\n",
    "\n",
    "- Create a line plot of the number of NEOs per week.\n",
    "- Create a histogram of the distribution of NEO sizes.\n",
    "- Create a bar plot of the average NEO size per week.\n",
    "- Use a library like Seaborn to create more complex visualizations, such as a box plot of the NEO sizes or a heat map of the number of NEOs per week. **Be creative**!"
   ]
  },
  {
   "cell_type": "code",
   "execution_count": 77,
   "metadata": {},
   "outputs": [],
   "source": [
    "# Write your code"
   ]
  },
  {
   "attachments": {},
   "cell_type": "markdown",
   "metadata": {},
   "source": [
    "### Task 4: Data Visualization Part B\n",
    "\n",
    "- Create a pie chart of the proportion of hazardous vs non-hazardous NEOs.\n",
    "- Create a scatter plot of the correlation between NEO size and close approach distance.\n",
    "- Customize the appearance of your plots (e.g., colors, labels, titles).\n",
    "- Create interactive visualizations using a library like Plotly. For example, create an interactive scatter plot where you can hover over each point to see more information about the NEO. **Be creative!**"
   ]
  },
  {
   "cell_type": "code",
   "execution_count": 99,
   "metadata": {},
   "outputs": [],
   "source": [
    "# Write your code"
   ]
  },
  {
   "attachments": {},
   "cell_type": "markdown",
   "metadata": {},
   "source": [
    "### Task 5: Interpretation of Results\n",
    "\n",
    "- Interpret the results of your data visualization in part A and B. \n",
    "- What insights can you gain about NEOs from your results? Summarizing your findings.\n",
    "- Use your findings to make predictions or recommendations. For example, if you found that larger NEOs are more likely to be potentially hazardous, you could recommend that more resources be allocated to tracking large NEOs. **Be creative!**\n",
    "- Identify, understand, and explain one scientific paper, on a clustering or classification method of relevance that could help Task 5. You don't have to implement it, you just need to justify in this notebook why the method in the scientific paper could contribute in analysis or interpretation of the results."
   ]
  },
  {
   "cell_type": "code",
   "execution_count": null,
   "metadata": {},
   "outputs": [],
   "source": [
    "# Write your code"
   ]
  },
  {
   "attachments": {},
   "cell_type": "markdown",
   "metadata": {},
   "source": [
    "### Task 6: Presentation and Documentation\n",
    "\n",
    "- Make this project as part of your presentation, **using beamer in LaTeX**. \n",
    "- This should include an overview of your work, the results of your data analysis, and the insights you gained from your results."
   ]
  },
  {
   "attachments": {},
   "cell_type": "markdown",
   "metadata": {},
   "source": []
  }
 ],
 "metadata": {
  "kernelspec": {
   "display_name": "base",
   "language": "python",
   "name": "python3"
  },
  "language_info": {
   "codemirror_mode": {
    "name": "ipython",
    "version": 3
   },
   "file_extension": ".py",
   "mimetype": "text/x-python",
   "name": "python",
   "nbconvert_exporter": "python",
   "pygments_lexer": "ipython3",
   "version": "3.9.13"
  },
  "orig_nbformat": 4
 },
 "nbformat": 4,
 "nbformat_minor": 2
}
